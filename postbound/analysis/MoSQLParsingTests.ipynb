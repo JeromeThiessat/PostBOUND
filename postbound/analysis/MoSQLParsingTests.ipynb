{
 "cells": [
  {
   "cell_type": "markdown",
   "id": "16bb08df-5a14-46b5-887a-486decb6f35c",
   "metadata": {},
   "source": [
    "# More SQL parsing"
   ]
  },
  {
   "cell_type": "code",
   "execution_count": 1,
   "id": "721fedb2-52d8-4860-a409-d558e94005e5",
   "metadata": {},
   "outputs": [],
   "source": [
    "%load_ext autoreload\n",
    "%autoreload 2"
   ]
  },
  {
   "cell_type": "code",
   "execution_count": 2,
   "id": "6d243498-8a2d-48a2-bc99-f0d5e9ad9e78",
   "metadata": {},
   "outputs": [],
   "source": [
    "import mo_sql_parsing as mosp"
   ]
  },
  {
   "cell_type": "markdown",
   "id": "35816981-f8a1-4e21-b9ec-d7ebdb43ae90",
   "metadata": {},
   "source": [
    "## Basics, predicates"
   ]
  },
  {
   "cell_type": "code",
   "execution_count": 3,
   "id": "c52838d4-58b9-4e92-8fd7-05f138a0b13b",
   "metadata": {},
   "outputs": [
    {
     "data": {
      "text/plain": [
       "{'select': '*', 'from': ['foo', 'bar'], 'where': {'eq': ['id', 'fkey']}}"
      ]
     },
     "execution_count": 3,
     "metadata": {},
     "output_type": "execute_result"
    }
   ],
   "source": [
    "mosp.parse(\"SELECT * FROM foo, bar WHERE id = fkey\")"
   ]
  },
  {
   "cell_type": "code",
   "execution_count": 4,
   "id": "4e81363a-0b1b-4682-be07-5b44e59e1bf3",
   "metadata": {},
   "outputs": [
    {
     "data": {
      "text/plain": [
       "{'select': '*', 'from': ['foo', 'bar'], 'where': {'neq': ['id', 'fkey']}}"
      ]
     },
     "execution_count": 4,
     "metadata": {},
     "output_type": "execute_result"
    }
   ],
   "source": [
    "mosp.parse(\"SELECT * FROM foo, bar WHERE id != fkey\")"
   ]
  },
  {
   "cell_type": "code",
   "execution_count": 5,
   "id": "ba5ae171-53cc-4f36-b6c9-a697fb0bfe5d",
   "metadata": {},
   "outputs": [
    {
     "data": {
      "text/plain": [
       "{'select': '*', 'from': 'foo', 'where': {'eq': ['id', {'literal': 'bar'}]}}"
      ]
     },
     "execution_count": 5,
     "metadata": {},
     "output_type": "execute_result"
    }
   ],
   "source": [
    "mosp.parse(\"SELECT * FROM foo WHERE id = 'bar'\")"
   ]
  },
  {
   "cell_type": "code",
   "execution_count": 6,
   "id": "6c99c3da-06b9-41b7-84ee-a33038fb54d8",
   "metadata": {},
   "outputs": [
    {
     "data": {
      "text/plain": [
       "{'select': '*', 'from': 'foo', 'where': {'like': ['id', {'literal': 'bar'}]}}"
      ]
     },
     "execution_count": 6,
     "metadata": {},
     "output_type": "execute_result"
    }
   ],
   "source": [
    "mosp.parse(\"SELECT * FROM foo WHERE id LIKE 'bar'\")"
   ]
  },
  {
   "cell_type": "code",
   "execution_count": 7,
   "id": "87560a79-22f7-4715-96c5-1a2f589a3228",
   "metadata": {},
   "outputs": [
    {
     "data": {
      "text/plain": [
       "{'select': '*',\n",
       " 'from': 'foo',\n",
       " 'where': {'not_like': ['id', {'literal': 'bar'}]}}"
      ]
     },
     "execution_count": 7,
     "metadata": {},
     "output_type": "execute_result"
    }
   ],
   "source": [
    "mosp.parse(\"SELECT * FROM foo WHERE id NOT LIKE 'bar'\")"
   ]
  },
  {
   "cell_type": "code",
   "execution_count": 8,
   "id": "5ddafa49-76a0-459a-9900-f31525138aed",
   "metadata": {},
   "outputs": [
    {
     "data": {
      "text/plain": [
       "{'select': '*',\n",
       " 'from': 'foo',\n",
       " 'where': {'lt': ['id', {'literal': '1990-01-10'}]}}"
      ]
     },
     "execution_count": 8,
     "metadata": {},
     "output_type": "execute_result"
    }
   ],
   "source": [
    "mosp.parse(\"SELECT * FROM foo WHERE id < '1990-01-10'\")"
   ]
  },
  {
   "cell_type": "code",
   "execution_count": 9,
   "id": "535ff8f2-8fb9-4516-966e-3815e8de3885",
   "metadata": {},
   "outputs": [
    {
     "data": {
      "text/plain": [
       "{'select': '*',\n",
       " 'from': ['foo', 'bar'],\n",
       " 'where': {'in': ['id', {'literal': ['bar', 'baz']}]}}"
      ]
     },
     "execution_count": 9,
     "metadata": {},
     "output_type": "execute_result"
    }
   ],
   "source": [
    "mosp.parse(\"SELECT * FROM foo, bar WHERE id IN ('bar', 'baz')\")"
   ]
  },
  {
   "cell_type": "code",
   "execution_count": 10,
   "id": "5d9759ae-efa9-4d45-8ce6-531b67837b50",
   "metadata": {},
   "outputs": [
    {
     "data": {
      "text/plain": [
       "{'select': '*', 'from': 'foo', 'where': {'eq': ['id', 42]}}"
      ]
     },
     "execution_count": 10,
     "metadata": {},
     "output_type": "execute_result"
    }
   ],
   "source": [
    "mosp.parse(\"SELECT * FROM foo WHERE id = 42\")"
   ]
  },
  {
   "cell_type": "markdown",
   "id": "111d073f-297f-4c06-bef4-150f7ca10807",
   "metadata": {},
   "source": [
    "## Aliases"
   ]
  },
  {
   "cell_type": "code",
   "execution_count": 11,
   "id": "794ae67b-89c6-4196-ba32-7b41594d17eb",
   "metadata": {},
   "outputs": [
    {
     "data": {
      "text/plain": [
       "{'select': '*',\n",
       " 'from': [{'value': 'foo', 'name': 'f'}, {'value': 'bar', 'name': 'b'}],\n",
       " 'where': {'eq': ['f.id', 'b.fkey']}}"
      ]
     },
     "execution_count": 11,
     "metadata": {},
     "output_type": "execute_result"
    }
   ],
   "source": [
    "mosp.parse(\"SELECT * FROM foo f, bar b WHERE f.id = b.fkey\")"
   ]
  },
  {
   "cell_type": "markdown",
   "id": "1ffc72ab-9eb6-435b-8013-ca70263eb108",
   "metadata": {},
   "source": [
    "## Subqueries"
   ]
  },
  {
   "cell_type": "code",
   "execution_count": 12,
   "id": "58b9929c-eb55-4860-b79e-6d335d671c56",
   "metadata": {},
   "outputs": [
    {
     "data": {
      "text/plain": [
       "{'select': '*',\n",
       " 'from': 'foo',\n",
       " 'where': {'in': ['id', {'select': {'value': 'fkey'}, 'from': 'bar'}]}}"
      ]
     },
     "execution_count": 12,
     "metadata": {},
     "output_type": "execute_result"
    }
   ],
   "source": [
    "mosp.parse(\"SELECT * FROM foo WHERE id IN (SELECT fkey FROM bar)\")"
   ]
  },
  {
   "cell_type": "markdown",
   "id": "e3abb862-c5be-4b68-8087-99fe445b7238",
   "metadata": {},
   "source": [
    "## Special predicates"
   ]
  },
  {
   "cell_type": "code",
   "execution_count": 13,
   "id": "9acc4974-26f7-4e0d-9a3b-64687e0f037c",
   "metadata": {},
   "outputs": [
    {
     "data": {
      "text/plain": [
       "{'select': '*', 'from': 'foo', 'where': {'exists': 'id'}}"
      ]
     },
     "execution_count": 13,
     "metadata": {},
     "output_type": "execute_result"
    }
   ],
   "source": [
    "mosp.parse(\"SELECT * FROM foo WHERE id IS NOT NULL\")"
   ]
  },
  {
   "cell_type": "code",
   "execution_count": 14,
   "id": "9dfc2616-25b0-4a07-bbb0-cf2f3e9d2fa1",
   "metadata": {},
   "outputs": [
    {
     "data": {
      "text/plain": [
       "{'select': '*', 'from': 'foo', 'where': {'missing': 'id'}}"
      ]
     },
     "execution_count": 14,
     "metadata": {},
     "output_type": "execute_result"
    }
   ],
   "source": [
    "mosp.parse(\"SELECT * FROM foo WHERE id IS NULL\")"
   ]
  },
  {
   "cell_type": "markdown",
   "id": "511b815b-7315-43a8-825b-b42d09ba222b",
   "metadata": {},
   "source": [
    "## Advanced value manipulations"
   ]
  },
  {
   "cell_type": "code",
   "execution_count": 15,
   "id": "576df68b-1476-4481-99ae-f0db10fb591a",
   "metadata": {},
   "outputs": [
    {
     "data": {
      "text/plain": [
       "{'select': '*', 'from': 'foo', 'where': {'eq': ['id', {'current_date': {}}]}}"
      ]
     },
     "execution_count": 15,
     "metadata": {},
     "output_type": "execute_result"
    }
   ],
   "source": [
    "mosp.parse(\"SELECT * FROM foo WHERE id = CURRENT_DATE()\")"
   ]
  },
  {
   "cell_type": "code",
   "execution_count": 16,
   "id": "25a4a4ee-104c-4bd1-be31-8aeb83c4330d",
   "metadata": {},
   "outputs": [
    {
     "data": {
      "text/plain": [
       "{'select': '*',\n",
       " 'from': 'foo',\n",
       " 'where': {'eq': [{'add': ['id',\n",
       "     {'cast': [{'literal': '5 days'}, {'interval': {}}]}]},\n",
       "   42]}}"
      ]
     },
     "execution_count": 16,
     "metadata": {},
     "output_type": "execute_result"
    }
   ],
   "source": [
    "mosp.parse(\"SELECT * FROM foo WHERE id + '5 days'::interval = 42\")"
   ]
  },
  {
   "cell_type": "markdown",
   "id": "69e9836c-2f0e-42bf-87c5-57c14bf21ac4",
   "metadata": {},
   "source": [
    "## SELECT ... FROM ... JOIN ..."
   ]
  },
  {
   "cell_type": "code",
   "execution_count": 17,
   "id": "badff4e9-3d1d-4a7f-bbd8-acbc2cf6f270",
   "metadata": {},
   "outputs": [
    {
     "data": {
      "text/plain": [
       "{'select': '*', 'from': ['foo', {'join': 'bar'}]}"
      ]
     },
     "execution_count": 17,
     "metadata": {},
     "output_type": "execute_result"
    }
   ],
   "source": [
    "mosp.parse(\"SELECT * FROM foo JOIN bar\")"
   ]
  },
  {
   "cell_type": "code",
   "execution_count": 18,
   "id": "1bdef1e7-6e8d-47f2-820e-617198040ef1",
   "metadata": {},
   "outputs": [
    {
     "data": {
      "text/plain": [
       "{'select': '*', 'from': ['foo', {'join': 'bar', 'on': {'eq': ['id', 'fkey']}}]}"
      ]
     },
     "execution_count": 18,
     "metadata": {},
     "output_type": "execute_result"
    }
   ],
   "source": [
    "mosp.parse(\"SELECT * FROM foo JOIN bar ON id = fkey\")"
   ]
  },
  {
   "cell_type": "code",
   "execution_count": 19,
   "id": "25b670ae-d5cf-4690-8747-ce5a9c901767",
   "metadata": {},
   "outputs": [
    {
     "data": {
      "text/plain": [
       "{'select': '*',\n",
       " 'from': ['foo',\n",
       "  {'join': 'bar',\n",
       "   'on': {'and': [{'eq': ['id', 'fkey']},\n",
       "     {'eq': ['id', {'literal': 'baz'}]}]}}]}"
      ]
     },
     "execution_count": 19,
     "metadata": {},
     "output_type": "execute_result"
    }
   ],
   "source": [
    "mosp.parse(\"SELECT * FROM foo JOIN bar ON id = fkey AND id = 'baz'\")"
   ]
  },
  {
   "cell_type": "code",
   "execution_count": 20,
   "id": "85f79e01-a841-43c6-9fad-b07f0574dbdf",
   "metadata": {},
   "outputs": [
    {
     "data": {
      "text/plain": [
       "{'select': '*',\n",
       " 'from': ['foo',\n",
       "  {'join': {'value': {'select': '*', 'from': 'bar'}, 'name': 'bar2'},\n",
       "   'on': {'eq': ['id', 'fkey']}}]}"
      ]
     },
     "execution_count": 20,
     "metadata": {},
     "output_type": "execute_result"
    }
   ],
   "source": [
    "mosp.parse(\"SELECT * FROM foo JOIN (SELECT * FROM bar) bar2 ON id = fkey\")"
   ]
  },
  {
   "cell_type": "markdown",
   "id": "ab6c2ac0-c246-4cce-ba54-db54d9ea8585",
   "metadata": {},
   "source": [
    "## Unsupported"
   ]
  },
  {
   "cell_type": "raw",
   "id": "17598550-decb-4c3f-bbb0-9ad473392bdd",
   "metadata": {},
   "source": [
    "mosp.parse(\"EXPLAIN SELECT * FROM foo, bar WHERE id = fkey\")"
   ]
  },
  {
   "cell_type": "raw",
   "id": "b73199e3-b9f6-42fa-82da-6737c6ea7231",
   "metadata": {},
   "source": [
    "mosp.parse(\"EXPLAIN (ANAYLZE, FORMAT JSON) SELECT * FROM foo, bar WHERE id = fkey\")"
   ]
  }
 ],
 "metadata": {
  "kernelspec": {
   "display_name": "Python 3 (ipykernel)",
   "language": "python",
   "name": "python3"
  },
  "language_info": {
   "codemirror_mode": {
    "name": "ipython",
    "version": 3
   },
   "file_extension": ".py",
   "mimetype": "text/x-python",
   "name": "python",
   "nbconvert_exporter": "python",
   "pygments_lexer": "ipython3",
   "version": "3.10.6"
  }
 },
 "nbformat": 4,
 "nbformat_minor": 5
}
