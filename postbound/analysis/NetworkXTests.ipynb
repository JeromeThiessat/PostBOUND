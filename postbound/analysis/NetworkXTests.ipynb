{
 "cells": [
  {
   "cell_type": "markdown",
   "metadata": {},
   "source": [
    "# NetworkX tests\n"
   ]
  },
  {
   "cell_type": "code",
   "execution_count": 1,
   "metadata": {
    "collapsed": false,
    "jupyter": {
     "outputs_hidden": false
    },
    "ExecuteTime": {
     "end_time": "2023-05-13T10:40:22.460562200Z",
     "start_time": "2023-05-13T10:40:22.441517600Z"
    }
   },
   "outputs": [],
   "source": [
    "%load_ext autoreload\n",
    "%autoreload 2\n"
   ]
  },
  {
   "cell_type": "code",
   "execution_count": 2,
   "metadata": {
    "collapsed": false,
    "jupyter": {
     "outputs_hidden": false
    },
    "ExecuteTime": {
     "end_time": "2023-05-13T10:40:22.726067300Z",
     "start_time": "2023-05-13T10:40:22.504421900Z"
    }
   },
   "outputs": [],
   "source": [
    "import random\n",
    "import sys\n",
    "\n",
    "import networkx as nx\n",
    "\n",
    "sys.path.append(\"../\")\n",
    "from postbound.util import networkx as nx_utils"
   ]
  },
  {
   "cell_type": "code",
   "execution_count": 3,
   "metadata": {
    "collapsed": false,
    "jupyter": {
     "outputs_hidden": false
    },
    "ExecuteTime": {
     "end_time": "2023-05-13T10:40:24.085294700Z",
     "start_time": "2023-05-13T10:40:22.724548900Z"
    }
   },
   "outputs": [
    {
     "data": {
      "text/plain": "<Figure size 432x288 with 1 Axes>",
      "image/png": "[encoded data removed]"
     },
     "metadata": {},
     "output_type": "display_data"
    }
   ],
   "source": [
    "g = nx.Graph()\n",
    "g.add_nodes_from(\"abcdefgh\")\n",
    "edges = [(\"a\", \"b\", {\"nice\": True}), (\"a\", \"c\", {\"nice\": False}), (\"b\", \"c\", {\"nice\": True}), (\"c\", \"d\", {\"nice\": True}), (\"d\", \"e\", {\"nice\": False}), (\"d\", \"f\", {\"nice\": False}), (\"f\", \"g\", {\"nice\": True}), (\"g\", \"h\", {\"nice\": True})]\n",
    "edge_colors = [\"red\" if edge[2][\"nice\"] else \"black\" for edge in edges]\n",
    "g.add_edges_from(edges)\n",
    "nx.draw_networkx(g, with_labels=True, edge_color=edge_colors)\n"
   ]
  },
  {
   "cell_type": "code",
   "execution_count": 4,
   "metadata": {
    "collapsed": false,
    "jupyter": {
     "outputs_hidden": false
    },
    "ExecuteTime": {
     "end_time": "2023-05-13T10:40:24.110261600Z",
     "start_time": "2023-05-13T10:40:24.085294700Z"
    }
   },
   "outputs": [
    {
     "data": {
      "text/plain": "{}"
     },
     "execution_count": 4,
     "metadata": {},
     "output_type": "execute_result"
    }
   ],
   "source": [
    "g.nodes[\"a\"]"
   ]
  },
  {
   "cell_type": "code",
   "execution_count": 5,
   "metadata": {
    "collapsed": false,
    "jupyter": {
     "outputs_hidden": false
    },
    "ExecuteTime": {
     "end_time": "2023-05-13T10:40:24.195025100Z",
     "start_time": "2023-05-13T10:40:24.148084400Z"
    }
   },
   "outputs": [
    {
     "data": {
      "text/plain": "AtlasView({'b': {'nice': True}, 'c': {'nice': False}})"
     },
     "execution_count": 5,
     "metadata": {},
     "output_type": "execute_result"
    }
   ],
   "source": [
    "g.adj[\"a\"]\n"
   ]
  },
  {
   "cell_type": "code",
   "execution_count": 6,
   "metadata": {
    "collapsed": false,
    "jupyter": {
     "outputs_hidden": false
    },
    "ExecuteTime": {
     "end_time": "2023-05-13T10:40:24.367720300Z",
     "start_time": "2023-05-13T10:40:24.195025100Z"
    }
   },
   "outputs": [
    {
     "data": {
      "text/plain": "{'nice': True}"
     },
     "execution_count": 6,
     "metadata": {},
     "output_type": "execute_result"
    }
   ],
   "source": [
    "g.edges[\"a\", \"b\"]\n"
   ]
  },
  {
   "cell_type": "code",
   "execution_count": 7,
   "metadata": {
    "ExecuteTime": {
     "end_time": "2023-05-13T10:40:24.477773200Z",
     "start_time": "2023-05-13T10:40:24.367720300Z"
    }
   },
   "outputs": [
    {
     "data": {
      "text/plain": "{'nice': True}"
     },
     "execution_count": 7,
     "metadata": {},
     "output_type": "execute_result"
    }
   ],
   "source": [
    "g.edges[\"b\", \"a\"]"
   ]
  },
  {
   "cell_type": "code",
   "execution_count": 8,
   "metadata": {
    "ExecuteTime": {
     "end_time": "2023-05-13T10:40:24.587593900Z",
     "start_time": "2023-05-13T10:40:24.477773200Z"
    }
   },
   "outputs": [
    {
     "data": {
      "text/plain": "True"
     },
     "execution_count": 8,
     "metadata": {},
     "output_type": "execute_result"
    }
   ],
   "source": [
    "(\"a\", \"b\") in g.edges"
   ]
  },
  {
   "cell_type": "code",
   "execution_count": 9,
   "metadata": {
    "collapsed": false,
    "jupyter": {
     "outputs_hidden": false
    },
    "ExecuteTime": {
     "end_time": "2023-05-13T10:40:24.681877600Z",
     "start_time": "2023-05-13T10:40:24.587593900Z"
    }
   },
   "outputs": [
    {
     "name": "stdout",
     "output_type": "stream",
     "text": [
      "('b', {'nice': True})\n",
      "('c', {'nice': True})\n",
      "('d', {'nice': True})\n"
     ]
    }
   ],
   "source": [
    "for node in nx_utils.nx_bfs_tree(g, \"a\", lambda n, e: e[\"nice\"]):\n",
    "    print(node)\n"
   ]
  },
  {
   "cell_type": "code",
   "execution_count": 10,
   "metadata": {
    "collapsed": false,
    "jupyter": {
     "outputs_hidden": false
    },
    "ExecuteTime": {
     "end_time": "2023-05-13T10:40:24.807241900Z",
     "start_time": "2023-05-13T10:40:24.681877600Z"
    }
   },
   "outputs": [
    {
     "data": {
      "text/plain": "EdgeDataView([('a', 'b', True), ('a', 'c', False), ('b', 'c', True), ('c', 'd', True), ('d', 'e', False), ('d', 'f', False), ('f', 'g', True), ('g', 'h', True)])"
     },
     "execution_count": 10,
     "metadata": {},
     "output_type": "execute_result"
    }
   ],
   "source": [
    "g.edges.data(\"nice\")\n"
   ]
  },
  {
   "cell_type": "code",
   "execution_count": 11,
   "metadata": {
    "collapsed": false,
    "jupyter": {
     "outputs_hidden": false
    },
    "ExecuteTime": {
     "end_time": "2023-05-13T10:40:24.931400400Z",
     "start_time": "2023-05-13T10:40:24.807241900Z"
    }
   },
   "outputs": [
    {
     "data": {
      "text/plain": "NodeDataView({'a': None, 'b': None, 'c': None, 'd': None, 'e': None, 'f': None, 'g': None, 'h': None}, data='nice')"
     },
     "execution_count": 11,
     "metadata": {},
     "output_type": "execute_result"
    }
   ],
   "source": [
    "g.nodes.data(\"nice\")"
   ]
  },
  {
   "cell_type": "code",
   "execution_count": 12,
   "metadata": {
    "collapsed": false,
    "jupyter": {
     "outputs_hidden": false
    },
    "ExecuteTime": {
     "end_time": "2023-05-13T10:40:25.041956200Z",
     "start_time": "2023-05-13T10:40:24.931400400Z"
    }
   },
   "outputs": [
    {
     "data": {
      "text/plain": "[('a', None),\n ('b', None),\n ('c', None),\n ('d', None),\n ('e', None),\n ('f', None),\n ('g', None),\n ('h', None)]"
     },
     "execution_count": 12,
     "metadata": {},
     "output_type": "execute_result"
    }
   ],
   "source": [
    "[(node, is_free) for node, is_free in g.nodes.data(\"free\")]\n"
   ]
  },
  {
   "cell_type": "code",
   "execution_count": 13,
   "metadata": {
    "collapsed": false,
    "jupyter": {
     "outputs_hidden": false
    },
    "ExecuteTime": {
     "end_time": "2023-05-13T10:40:25.214212100Z",
     "start_time": "2023-05-13T10:40:25.041956200Z"
    }
   },
   "outputs": [
    {
     "data": {
      "text/plain": "{'nice': True}"
     },
     "execution_count": 13,
     "metadata": {},
     "output_type": "execute_result"
    }
   ],
   "source": [
    "g.edges[\"a\", \"b\"]\n"
   ]
  },
  {
   "cell_type": "code",
   "execution_count": 14,
   "outputs": [
    {
     "data": {
      "text/plain": "NodeView(('a', 'b', 'c', 'd', 'e', 'f', 'g', 'h'))"
     },
     "execution_count": 14,
     "metadata": {},
     "output_type": "execute_result"
    }
   ],
   "source": [
    "g.nodes\n"
   ],
   "metadata": {
    "collapsed": false,
    "ExecuteTime": {
     "end_time": "2023-05-13T10:40:31.260367300Z",
     "start_time": "2023-05-13T10:40:31.229231600Z"
    }
   }
  },
  {
   "cell_type": "code",
   "execution_count": 15,
   "outputs": [
    {
     "data": {
      "text/plain": "EdgeView([('a', 'b'), ('a', 'c'), ('b', 'c'), ('c', 'd'), ('d', 'e'), ('d', 'f'), ('f', 'g'), ('g', 'h')])"
     },
     "execution_count": 15,
     "metadata": {},
     "output_type": "execute_result"
    }
   ],
   "source": [
    "g.edges\n"
   ],
   "metadata": {
    "collapsed": false,
    "ExecuteTime": {
     "end_time": "2023-05-13T10:40:33.766808Z",
     "start_time": "2023-05-13T10:40:33.735548700Z"
    }
   }
  },
  {
   "cell_type": "code",
   "execution_count": 16,
   "outputs": [
    {
     "data": {
      "text/plain": "True"
     },
     "execution_count": 16,
     "metadata": {},
     "output_type": "execute_result"
    }
   ],
   "source": [
    "'a' in g.nodes\n"
   ],
   "metadata": {
    "collapsed": false,
    "ExecuteTime": {
     "end_time": "2023-05-13T10:40:44.031753900Z",
     "start_time": "2023-05-13T10:40:44.000531Z"
    }
   }
  },
  {
   "cell_type": "code",
   "execution_count": 17,
   "outputs": [
    {
     "data": {
      "text/plain": "{}"
     },
     "execution_count": 17,
     "metadata": {},
     "output_type": "execute_result"
    }
   ],
   "source": [
    "g.nodes['a']\n"
   ],
   "metadata": {
    "collapsed": false,
    "ExecuteTime": {
     "end_time": "2023-05-13T10:45:34.661078500Z",
     "start_time": "2023-05-13T10:45:34.636020100Z"
    }
   }
  },
  {
   "cell_type": "code",
   "execution_count": null,
   "outputs": [],
   "source": [],
   "metadata": {
    "collapsed": false
   }
  }
 ],
 "metadata": {
  "kernelspec": {
   "display_name": "Python 3 (ipykernel)",
   "language": "python",
   "name": "python3"
  },
  "language_info": {
   "codemirror_mode": {
    "name": "ipython",
    "version": 3
   },
   "file_extension": ".py",
   "mimetype": "text/x-python",
   "name": "python",
   "nbconvert_exporter": "python",
   "pygments_lexer": "ipython3",
   "version": "3.10.6"
  }
 },
 "nbformat": 4,
 "nbformat_minor": 4
}
