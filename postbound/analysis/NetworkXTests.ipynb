{
 "cells": [
  {
   "cell_type": "markdown",
   "source": [
    "# NetworkX tests\n"
   ],
   "metadata": {
    "collapsed": false
   }
  },
  {
   "cell_type": "code",
   "execution_count": 1,
   "outputs": [],
   "source": [
    "%load_ext autoreload\n",
    "%autoreload 2\n"
   ],
   "metadata": {
    "collapsed": false
   }
  },
  {
   "cell_type": "code",
   "execution_count": 5,
   "outputs": [],
   "source": [
    "import random\n",
    "\n",
    "import networkx as nx\n",
    "\n",
    "from postbound.util import networkx as nx_utils"
   ],
   "metadata": {
    "collapsed": false
   }
  },
  {
   "cell_type": "code",
   "execution_count": 4,
   "outputs": [
    {
     "data": {
      "text/plain": "<Figure size 640x480 with 1 Axes>",
      "image/png": "[encoded data removed]"
     },
     "metadata": {},
     "output_type": "display_data"
    }
   ],
   "source": [
    "g = nx.Graph()\n",
    "g.add_nodes_from(\"abcdefgh\")\n",
    "edges = [(\"a\", \"b\", {\"nice\": True}), (\"a\", \"c\", {\"nice\": False}), (\"b\", \"c\", {\"nice\": True}), (\"c\", \"d\", {\"nice\": True}), (\"d\", \"e\", {\"nice\": False}), (\"d\", \"f\", {\"nice\": False}), (\"f\", \"g\", {\"nice\": True}), (\"g\", \"h\", {\"nice\": True})]\n",
    "edge_colors = [\"red\" if edge[2][\"nice\"] else \"black\" for edge in edges]\n",
    "g.add_edges_from(edges)\n",
    "nx.draw_networkx(g, with_labels=True, edge_color=edge_colors)\n"
   ],
   "metadata": {
    "collapsed": false
   }
  },
  {
   "cell_type": "code",
   "execution_count": 6,
   "outputs": [
    {
     "data": {
      "text/plain": "AtlasView({'b': {'nice': True}, 'c': {'nice': False}})"
     },
     "execution_count": 6,
     "metadata": {},
     "output_type": "execute_result"
    }
   ],
   "source": [
    "g.adj[\"a\"]\n"
   ],
   "metadata": {
    "collapsed": false
   }
  },
  {
   "cell_type": "code",
   "execution_count": 7,
   "outputs": [
    {
     "data": {
      "text/plain": "{'nice': True}"
     },
     "execution_count": 7,
     "metadata": {},
     "output_type": "execute_result"
    }
   ],
   "source": [
    "g.edges[(\"a\", \"b\")]\n"
   ],
   "metadata": {
    "collapsed": false
   }
  },
  {
   "cell_type": "code",
   "execution_count": 19,
   "outputs": [
    {
     "name": "stdout",
     "output_type": "stream",
     "text": [
      "('b', {'nice': True})\n",
      "('c', {'nice': True})\n",
      "('d', {'nice': True})\n"
     ]
    }
   ],
   "source": [
    "for node in nx_utils.nx_bfs_tree(g, \"a\", lambda n, e: e[\"nice\"]):\n",
    "    print(node)\n"
   ],
   "metadata": {
    "collapsed": false
   }
  },
  {
   "cell_type": "code",
   "execution_count": 21,
   "outputs": [
    {
     "data": {
      "text/plain": "EdgeDataView([('a', 'b', True), ('a', 'c', False), ('b', 'c', True), ('c', 'd', True), ('d', 'e', False), ('d', 'f', False), ('f', 'g', True), ('g', 'h', True)])"
     },
     "execution_count": 21,
     "metadata": {},
     "output_type": "execute_result"
    }
   ],
   "source": [
    "g.edges.data(\"nice\")\n"
   ],
   "metadata": {
    "collapsed": false
   }
  },
  {
   "cell_type": "code",
   "execution_count": 27,
   "outputs": [
    {
     "data": {
      "text/plain": "NodeDataView({'a': None, 'b': None, 'c': None, 'd': None, 'e': None, 'f': None, 'g': None, 'h': None}, data='nice')"
     },
     "execution_count": 27,
     "metadata": {},
     "output_type": "execute_result"
    }
   ],
   "source": [
    "g.nodes.data(\"nice\")"
   ],
   "metadata": {
    "collapsed": false
   }
  },
  {
   "cell_type": "code",
   "execution_count": 31,
   "outputs": [
    {
     "data": {
      "text/plain": "[('a', None),\n ('b', None),\n ('c', None),\n ('d', None),\n ('e', None),\n ('f', None),\n ('g', None),\n ('h', None)]"
     },
     "execution_count": 31,
     "metadata": {},
     "output_type": "execute_result"
    }
   ],
   "source": [
    "[(node, is_free) for node, is_free in g.nodes.data(\"free\")]\n"
   ],
   "metadata": {
    "collapsed": false
   }
  },
  {
   "cell_type": "code",
   "execution_count": null,
   "outputs": [],
   "source": [],
   "metadata": {
    "collapsed": false
   }
  }
 ],
 "metadata": {
  "kernelspec": {
   "display_name": "Python 3",
   "language": "python",
   "name": "python3"
  },
  "language_info": {
   "codemirror_mode": {
    "name": "ipython",
    "version": 2
   },
   "file_extension": ".py",
   "mimetype": "text/x-python",
   "name": "python",
   "nbconvert_exporter": "python",
   "pygments_lexer": "ipython2",
   "version": "2.7.6"
  }
 },
 "nbformat": 4,
 "nbformat_minor": 0
}
