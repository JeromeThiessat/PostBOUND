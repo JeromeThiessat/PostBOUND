{
 "cells": [
  {
   "cell_type": "markdown",
   "id": "02f42686-1282-4d5a-af9d-ab0cf24ad4bd",
   "metadata": {},
   "source": [
    "# Eval Analysis"
   ]
  },
  {
   "cell_type": "code",
   "execution_count": 1,
   "id": "61d05adb-3548-47a9-837d-cec722265a54",
   "metadata": {},
   "outputs": [],
   "source": [
    "%load_ext autoreload\n",
    "%autoreload 2"
   ]
  },
  {
   "cell_type": "code",
   "execution_count": 2,
   "id": "7e05355f-af59-4ad0-84db-d90a11653d2a",
   "metadata": {},
   "outputs": [],
   "source": [
    "import functools\n",
    "import json\n",
    "from typing import Dict, List, Any\n",
    "\n",
    "import matplotlib.pyplot as plt\n",
    "import numpy as np\n",
    "import pandas as pd\n",
    "import seaborn as sns\n",
    "\n",
    "from analysis import selection, workloads\n",
    "from postgres import explain\n",
    "from transform import db, mosp, ues"
   ]
  },
  {
   "cell_type": "markdown",
   "id": "8ccecc67-a8db-4b41-9016-21fa988d3c7f",
   "metadata": {},
   "source": [
    "## 1. Broad applicability"
   ]
  },
  {
   "cell_type": "code",
   "execution_count": 40,
   "id": "1841156d-6ecc-43c0-bdab-34a9e4ee544e",
   "metadata": {},
   "outputs": [],
   "source": [
    "def read_workload(path: str, workload: str, optimization: str, pg_ver: Any) -> pd.DataFrame:\n",
    "    df = pd.read_csv(path)\n",
    "    df = selection.best_query_repetition(df, group_cols=\"label\", performance_col=\"query_rt_total\")\n",
    "    df[\"workload\"] = workload\n",
    "    df[\"optimizer\"] = optimization\n",
    "    df[\"postgres_version\"] = str(pg_ver)\n",
    "    df.rename(columns={\"query_rt_total\": \"execution_time\"}, inplace=True)\n",
    "    return df"
   ]
  },
  {
   "cell_type": "code",
   "execution_count": 41,
   "id": "2ddb55b4-4f11-4e01-8dc9-11faf8d75d5f",
   "metadata": {},
   "outputs": [
    {
     "data": {
      "text/plain": [
       "workload  optimizer  postgres_version\n",
       "JOB       UES        12.4                399.502253\n",
       "                     14                  376.990205\n",
       "          native     12.4                535.166116\n",
       "                     14                  359.384317\n",
       "SSB       UES        12.4                  5.545183\n",
       "                     14                    5.311661\n",
       "          native     12.4                  5.074911\n",
       "                     14                    5.062522\n",
       "Name: execution_time, dtype: float64"
      ]
     },
     "execution_count": 41,
     "metadata": {},
     "output_type": "execute_result"
    }
   ],
   "source": [
    "job_ues_pg14 = read_workload(\"workloads/job-ues-results-base.csv\", \"JOB\", \"UES\", 14)\n",
    "job_ues_pg12 = read_workload(\"workloads/job-ues-results-base-pg12_4.csv\", \"JOB\", \"UES\", 12.4)\n",
    "job_nat_pg14 = read_workload(\"workloads/job-results-implicit-nonlj.csv\", \"JOB\", \"native\", 14)\n",
    "job_nat_pg12 = read_workload(\"workloads/job-results-implicit-pg12_4.csv\", \"JOB\", \"native\", 12.4)\n",
    "\n",
    "ssb_ues_pg14 = read_workload(\"workloads/ssb-ues-results-base.csv\", \"SSB\", \"UES\", 14)\n",
    "ssb_ues_pg12 = read_workload(\"workloads/ssb-ues-results-base-pg12_4.csv\", \"SSB\", \"UES\", 12.4)\n",
    "ssb_nat_pg14 = read_workload(\"workloads/ssb-results-implicit.csv\", \"SSB\", \"native\", 14)\n",
    "ssb_nat_pg12 = read_workload(\"workloads/ssb-results-implicit-pg12_4.csv\", \"SSB\", \"native\", 12.4)\n",
    "\n",
    "df = pd.concat([job_ues_pg14, job_ues_pg12, job_nat_pg14, job_nat_pg12, ssb_ues_pg14, ssb_ues_pg12, ssb_nat_pg14, ssb_nat_pg12])\n",
    "df.groupby([\"workload\", \"optimizer\", \"postgres_version\"]).execution_time.sum()"
   ]
  },
  {
   "cell_type": "markdown",
   "id": "7f757720-71db-4d71-9911-a15c568a27d4",
   "metadata": {},
   "source": [
    "## Why is native better than UES @ JOB?"
   ]
  },
  {
   "cell_type": "code",
   "execution_count": 42,
   "id": "4d8da86a-5b0a-4a33-b9d4-af8337f5fc01",
   "metadata": {},
   "outputs": [],
   "source": [
    "true_cards = pd.read_csv(\"workloads/job-results-true-cards.csv\")[[\"label\", \"query_result\"]].copy().rename(columns={\"query_result\": \"cardinality\"})"
   ]
  },
  {
   "cell_type": "markdown",
   "id": "62cb10b6-ede5-4e98-9e4a-a3f01dc1afbc",
   "metadata": {},
   "source": [
    "The native workload is ~17 seconds faster than the UES workload when using Postgres v14.2:"
   ]
  },
  {
   "cell_type": "code",
   "execution_count": 53,
   "id": "88561e4a-d7db-4744-b8bb-644ad368d0b2",
   "metadata": {},
   "outputs": [
    {
     "data": {
      "text/plain": [
       "17.605888"
      ]
     },
     "execution_count": 53,
     "metadata": {},
     "output_type": "execute_result"
    }
   ],
   "source": [
    "rt_cmp = pd.merge(job_ues_pg14[[\"label\", \"execution_time\"]], job_nat_pg14[[\"label\", \"execution_time\"]], on=\"label\", suffixes=(\"_ues\", \"_native\")).merge(true_cards, on=\"label\")\n",
    "rt_cmp[\"native_speedup\"] = rt_cmp.execution_time_ues - rt_cmp.execution_time_native\n",
    "rt_cmp.native_speedup.sum()"
   ]
  },
  {
   "cell_type": "markdown",
   "id": "72447b23-7a55-4720-92ef-bc7872bde0f5",
   "metadata": {},
   "source": [
    "This speedup is caused by only a handfull of queries, i.e. the 5% which have the largest speedup. These can be considered regressions."
   ]
  },
  {
   "cell_type": "code",
   "execution_count": 54,
   "id": "9fd4ce9e-06bb-4c11-9d45-76f30c2de368",
   "metadata": {},
   "outputs": [
    {
     "data": {
      "text/html": [
       "<div>\n",
       "<style scoped>\n",
       "    .dataframe tbody tr th:only-of-type {\n",
       "        vertical-align: middle;\n",
       "    }\n",
       "\n",
       "    .dataframe tbody tr th {\n",
       "        vertical-align: top;\n",
       "    }\n",
       "\n",
       "    .dataframe thead th {\n",
       "        text-align: right;\n",
       "    }\n",
       "</style>\n",
       "<table border=\"1\" class=\"dataframe\">\n",
       "  <thead>\n",
       "    <tr style=\"text-align: right;\">\n",
       "      <th></th>\n",
       "      <th>label</th>\n",
       "      <th>execution_time_ues</th>\n",
       "      <th>execution_time_native</th>\n",
       "      <th>cardinality</th>\n",
       "      <th>native_speedup</th>\n",
       "    </tr>\n",
       "  </thead>\n",
       "  <tbody>\n",
       "    <tr>\n",
       "      <th>26</th>\n",
       "      <td>17b</td>\n",
       "      <td>7.674776</td>\n",
       "      <td>5.298563</td>\n",
       "      <td>78722.0</td>\n",
       "      <td>2.376213</td>\n",
       "    </tr>\n",
       "    <tr>\n",
       "      <th>27</th>\n",
       "      <td>17c</td>\n",
       "      <td>7.732492</td>\n",
       "      <td>4.343827</td>\n",
       "      <td>3323.0</td>\n",
       "      <td>3.388665</td>\n",
       "    </tr>\n",
       "    <tr>\n",
       "      <th>28</th>\n",
       "      <td>17d</td>\n",
       "      <td>7.726703</td>\n",
       "      <td>4.321574</td>\n",
       "      <td>15486.0</td>\n",
       "      <td>3.405129</td>\n",
       "    </tr>\n",
       "    <tr>\n",
       "      <th>30</th>\n",
       "      <td>17f</td>\n",
       "      <td>8.434191</td>\n",
       "      <td>5.593427</td>\n",
       "      <td>1664186.0</td>\n",
       "      <td>2.840764</td>\n",
       "    </tr>\n",
       "    <tr>\n",
       "      <th>31</th>\n",
       "      <td>18a</td>\n",
       "      <td>5.566490</td>\n",
       "      <td>4.100437</td>\n",
       "      <td>705.0</td>\n",
       "      <td>1.466053</td>\n",
       "    </tr>\n",
       "    <tr>\n",
       "      <th>104</th>\n",
       "      <td>7c</td>\n",
       "      <td>9.002675</td>\n",
       "      <td>4.842230</td>\n",
       "      <td>6668.0</td>\n",
       "      <td>4.160445</td>\n",
       "    </tr>\n",
       "  </tbody>\n",
       "</table>\n",
       "</div>"
      ],
      "text/plain": [
       "    label  execution_time_ues  execution_time_native  cardinality  \\\n",
       "26    17b            7.674776               5.298563      78722.0   \n",
       "27    17c            7.732492               4.343827       3323.0   \n",
       "28    17d            7.726703               4.321574      15486.0   \n",
       "30    17f            8.434191               5.593427    1664186.0   \n",
       "31    18a            5.566490               4.100437        705.0   \n",
       "104    7c            9.002675               4.842230       6668.0   \n",
       "\n",
       "     native_speedup  \n",
       "26         2.376213  \n",
       "27         3.388665  \n",
       "28         3.405129  \n",
       "30         2.840764  \n",
       "31         1.466053  \n",
       "104        4.160445  "
      ]
     },
     "execution_count": 54,
     "metadata": {},
     "output_type": "execute_result"
    }
   ],
   "source": [
    "rt_cmp[rt_cmp.native_speedup >= rt_cmp.native_speedup.quantile(0.95)]"
   ]
  },
  {
   "cell_type": "code",
   "execution_count": 57,
   "id": "697ff66e-538e-403e-a089-bc93adce3114",
   "metadata": {},
   "outputs": [
    {
     "data": {
      "text/plain": [
       "-9.504779"
      ]
     },
     "execution_count": 57,
     "metadata": {},
     "output_type": "execute_result"
    }
   ],
   "source": [
    "rt_cmp[rt_cmp.native_speedup <= rt_cmp.native_speedup.quantile(0.05)].native_speedup.sum()"
   ]
  },
  {
   "cell_type": "markdown",
   "id": "9ee0b0e5-87ae-42e6-bffb-f0544c72c7ea",
   "metadata": {},
   "source": [
    "## 2. Subquery evaluation"
   ]
  },
  {
   "cell_type": "code",
   "execution_count": 3,
   "id": "877d9e3d-76c5-4c85-8b2a-e53e330ac1be",
   "metadata": {
    "tags": []
   },
   "outputs": [
    {
     "name": "stderr",
     "output_type": "stream",
     "text": [
      "/home/rico/Projekte/Uni/DiplomArbeit-QueryOpt/ues/postgres/explain.py:501: UserWarning: Unknown node type: Hash\n",
      "  warnings.warn(\"Unknown node type: {}\".format(node_type))\n",
      "/home/rico/Projekte/Uni/DiplomArbeit-QueryOpt/ues/postgres/explain.py:501: UserWarning: Unknown node type: Aggregate\n",
      "  warnings.warn(\"Unknown node type: {}\".format(node_type))\n",
      "/home/rico/Projekte/Uni/DiplomArbeit-QueryOpt/ues/postgres/explain.py:501: UserWarning: Unknown node type: Gather\n",
      "  warnings.warn(\"Unknown node type: {}\".format(node_type))\n",
      "/home/rico/Projekte/Uni/DiplomArbeit-QueryOpt/ues/postgres/explain.py:501: UserWarning: Unknown node type: Sort\n",
      "  warnings.warn(\"Unknown node type: {}\".format(node_type))\n",
      "/home/rico/Projekte/Uni/DiplomArbeit-QueryOpt/ues/postgres/explain.py:501: UserWarning: Unknown node type: Gather Merge\n",
      "  warnings.warn(\"Unknown node type: {}\".format(node_type))\n",
      "/home/rico/Projekte/Uni/DiplomArbeit-QueryOpt/ues/postgres/explain.py:501: UserWarning: Unknown node type: Materialize\n",
      "  warnings.warn(\"Unknown node type: {}\".format(node_type))\n",
      "/home/rico/Projekte/Uni/DiplomArbeit-QueryOpt/ues/postgres/explain.py:501: UserWarning: Unknown node type: Hash\n",
      "  warnings.warn(\"Unknown node type: {}\".format(node_type))\n",
      "/home/rico/Projekte/Uni/DiplomArbeit-QueryOpt/ues/postgres/explain.py:501: UserWarning: Unknown node type: Aggregate\n",
      "  warnings.warn(\"Unknown node type: {}\".format(node_type))\n",
      "/home/rico/Projekte/Uni/DiplomArbeit-QueryOpt/ues/postgres/explain.py:501: UserWarning: Unknown node type: Gather\n",
      "  warnings.warn(\"Unknown node type: {}\".format(node_type))\n",
      "/home/rico/Projekte/Uni/DiplomArbeit-QueryOpt/ues/postgres/explain.py:501: UserWarning: Unknown node type: Sort\n",
      "  warnings.warn(\"Unknown node type: {}\".format(node_type))\n",
      "/home/rico/Projekte/Uni/DiplomArbeit-QueryOpt/ues/postgres/explain.py:501: UserWarning: Unknown node type: Gather Merge\n",
      "  warnings.warn(\"Unknown node type: {}\".format(node_type))\n"
     ]
    },
    {
     "data": {
      "text/plain": [
       "count    113.000000\n",
       "mean      -0.004298\n",
       "std        0.219187\n",
       "min       -0.553545\n",
       "25%       -0.015100\n",
       "50%       -0.001790\n",
       "75%        0.005676\n",
       "max        1.927231\n",
       "Name: subquery_speedup, dtype: float64"
      ]
     },
     "execution_count": 3,
     "metadata": {},
     "output_type": "execute_result"
    }
   ],
   "source": [
    "df_top20_lin = selection.best_query_repetition(pd.read_csv(\"workloads/topk-setups/job-ues-results-topk-20-approx-linear.csv\"), group_cols=\"label\", performance_col=\"query_rt_total\")\n",
    "df_top20_sq = selection.best_query_repetition(pd.read_csv(\"workloads/topk-setups/job-ues-results-topk-20-approx-smart.csv\"), group_cols=\"label\", performance_col=\"query_rt_total\")\n",
    "\n",
    "df_top20_lin.rename(columns={\"query_result\": \"explain\", \"query_rt_total\": \"execution_time\"}, inplace=True)\n",
    "df_top20_sq.rename(columns={\"query_result\": \"explain\", \"query_rt_total\": \"execution_time\", \"ues_final_bound\": \"upper_bound\"}, inplace=True)\n",
    "df_top20_lin[\"query\"] = df_top20_lin[\"query\"].apply(mosp.MospQuery.parse)\n",
    "df_top20_sq[\"query\"] = df_top20_sq[\"query\"].apply(mosp.MospQuery.parse)\n",
    "df_top20_lin[\"explain\"] = df_top20_lin[\"explain\"].apply(json.loads)\n",
    "df_top20_sq[\"explain\"] = df_top20_sq[\"explain\"].apply(json.loads)\n",
    "df_top20_lin[\"plan\"] = df_top20_lin.apply(lambda res: explain.parse_explain_analyze(res[\"query\"], res[\"explain\"], with_subqueries=False), axis=\"columns\")\n",
    "df_top20_sq[\"plan\"] = df_top20_sq.apply(lambda res: explain.parse_explain_analyze(res[\"query\"], res[\"explain\"], with_subqueries=True), axis=\"columns\")\n",
    "df_top20_lin[\"subqueries\"] = \"linear\"\n",
    "df_top20_sq[\"subqueries\"] = \"smart\"\n",
    "\n",
    "\n",
    "df_top20 = pd.merge(df_top20_sq[[\"label\", \"query\", \"upper_bound\", \"explain\", \"plan\", \"execution_time\"]], df_top20_lin[[\"label\", \"query\", \"explain\", \"plan\", \"execution_time\"]],\n",
    "                    on=\"label\", suffixes=(\"\", \"_linear\"))\n",
    "df_top20 = selection.reorder(df_top20)\n",
    "df_top20.set_index(\"label\", inplace=True)\n",
    "df_top20[\"subquery_speedup\"] = df_top20[\"execution_time_linear\"] - df_top20[\"execution_time\"]\n",
    "df_top20.subquery_speedup.describe()"
   ]
  },
  {
   "cell_type": "code",
   "execution_count": 4,
   "id": "5e578323-c836-4126-81b2-97e29f22c406",
   "metadata": {},
   "outputs": [
    {
     "data": {
      "text/plain": [
       "query                    SELECT COUNT(*) FROM movie_keyword AS mk JOIN ...\n",
       "upper_bound                                                       44532735\n",
       "explain                  [{'Plan': {'Node Type': 'Aggregate', 'Strategy...\n",
       "plan                     Hash Join (ci.movie_id = t.id) <- [Hash Join (...\n",
       "execution_time                                                    3.765851\n",
       "query_linear             SELECT COUNT(*) FROM movie_keyword AS mk JOIN ...\n",
       "explain_linear           [{'Plan': {'Node Type': 'Aggregate', 'Strategy...\n",
       "plan_linear              Hash Join (n.id = ci.person_id) <- [Seq Scan :...\n",
       "execution_time_linear                                             5.693082\n",
       "subquery_speedup                                                  1.927231\n",
       "Name: 6c, dtype: object"
      ]
     },
     "execution_count": 4,
     "metadata": {},
     "output_type": "execute_result"
    }
   ],
   "source": [
    "q6c = df_top20.loc[\"6c\"]\n",
    "q6c"
   ]
  },
  {
   "cell_type": "code",
   "execution_count": 5,
   "id": "99657be1-c96b-4b56-ba21-938e948ac28a",
   "metadata": {},
   "outputs": [
    {
     "data": {
      "text/plain": [
       "0.3385215600267132"
      ]
     },
     "execution_count": 5,
     "metadata": {},
     "output_type": "execute_result"
    }
   ],
   "source": [
    "(q6c.execution_time_linear - q6c.execution_time) / q6c.execution_time_linear"
   ]
  },
  {
   "cell_type": "code",
   "execution_count": 6,
   "id": "cc1daeb7-f53a-4086-8d44-0330576df0f0",
   "metadata": {},
   "outputs": [
    {
     "name": "stdout",
     "output_type": "stream",
     "text": [
      "Hash Join (ci.movie_id = t.id) (3.761s)\n",
      "  <- Hash Join (ci.person_id = n.id) (3.245s)\n",
      "    <- Seq Scan :: cast_info (1.472s)\n",
      "    <- Seq Scan :: name (0.265s)\n",
      "  <- Hash Join (t.id = mk.movie_id) (0.516s)\n",
      "    <- Seq Scan :: title (0.155s)\n",
      "    <- Hash Join (mk.keyword_id = k.id) (0.344s)\n",
      "      <- Seq Scan :: movie_keyword (0.161s)\n",
      "      <- Seq Scan :: keyword (0.006s)\n",
      "\n"
     ]
    }
   ],
   "source": [
    "q6c.plan.pretty_print(include_exec_time=True)"
   ]
  },
  {
   "cell_type": "code",
   "execution_count": 7,
   "id": "b3cf81b3-1651-44b4-bd14-dbd81135fa45",
   "metadata": {},
   "outputs": [
    {
     "name": "stdout",
     "output_type": "stream",
     "text": [
      "Hash Join (n.id = ci.person_id) (5.688s)\n",
      "  <- Seq Scan :: name (0.264s)\n",
      "  <- Hash Join (ci.movie_id = t.id) (3.429s)\n",
      "    <- Seq Scan :: cast_info (1.392s)\n",
      "    <- Hash Join (t.id = mk.movie_id) (0.516s)\n",
      "      <- Seq Scan :: title (0.154s)\n",
      "      <- Hash Join (mk.keyword_id = k.id) (0.346s)\n",
      "        <- Seq Scan :: movie_keyword (0.162s)\n",
      "        <- Seq Scan :: keyword (0.006s)\n",
      "\n"
     ]
    }
   ],
   "source": [
    "q6c.plan_linear.pretty_print(include_exec_time=True)"
   ]
  },
  {
   "cell_type": "code",
   "execution_count": 16,
   "id": "fedf98f1-452c-4fad-9348-5caa26f53de2",
   "metadata": {},
   "outputs": [
    {
     "name": "stdout",
     "output_type": "stream",
     "text": [
      "Hash Join\n",
      "-------------------------------\n",
      "  Join  : (ci.person_id = n.id)\n",
      "  Filter: /\n",
      "-------------------------------\n",
      "  Incoming Rows (left) : 63475827\n",
      "  Incoming Rows (right): 1\n",
      "  Filtered Rows: /\n",
      "  Outgoing Rows: 723\n",
      "-------------------------------\n",
      "  Execution Time: 3.244707 ms\n"
     ]
    }
   ],
   "source": [
    "q6c.plan.lookup_join(\"(ci.person_id = n.id)\").inspect_node()"
   ]
  },
  {
   "cell_type": "code",
   "execution_count": 18,
   "id": "585968a3-f1af-4acc-8d95-a058c14c6ad6",
   "metadata": {},
   "outputs": [
    {
     "name": "stdout",
     "output_type": "stream",
     "text": [
      "Hash Join\n",
      "---------------------------------------\n",
      "  Join  : (ci.movie_id = t.id)\n",
      "  Filter: /\n",
      "---------------------------------------\n",
      "  Incoming Rows (left) : 63475827\n",
      "  Incoming Rows (right): 11\n",
      "  Filtered Rows: /\n",
      "  Outgoing Rows: 1204\n",
      "---------------------------------------\n",
      "  Execution Time: 3.4291210000000003 ms\n"
     ]
    }
   ],
   "source": [
    "q6c.plan_linear.lookup_join(\"(ci.movie_id = t.id)\").inspect_node()"
   ]
  },
  {
   "cell_type": "code",
   "execution_count": 20,
   "id": "55d93721-013f-4cf1-8c92-c4d0d6877734",
   "metadata": {},
   "outputs": [
    {
     "data": {
      "text/html": [
       "<div>\n",
       "<style scoped>\n",
       "    .dataframe tbody tr th:only-of-type {\n",
       "        vertical-align: middle;\n",
       "    }\n",
       "\n",
       "    .dataframe tbody tr th {\n",
       "        vertical-align: top;\n",
       "    }\n",
       "\n",
       "    .dataframe thead th {\n",
       "        text-align: right;\n",
       "    }\n",
       "</style>\n",
       "<table border=\"1\" class=\"dataframe\">\n",
       "  <thead>\n",
       "    <tr style=\"text-align: right;\">\n",
       "      <th></th>\n",
       "      <th>query</th>\n",
       "      <th>upper_bound</th>\n",
       "      <th>explain</th>\n",
       "      <th>plan</th>\n",
       "      <th>execution_time</th>\n",
       "      <th>query_linear</th>\n",
       "      <th>explain_linear</th>\n",
       "      <th>plan_linear</th>\n",
       "      <th>execution_time_linear</th>\n",
       "      <th>subquery_speedup</th>\n",
       "    </tr>\n",
       "    <tr>\n",
       "      <th>label</th>\n",
       "      <th></th>\n",
       "      <th></th>\n",
       "      <th></th>\n",
       "      <th></th>\n",
       "      <th></th>\n",
       "      <th></th>\n",
       "      <th></th>\n",
       "      <th></th>\n",
       "      <th></th>\n",
       "      <th></th>\n",
       "    </tr>\n",
       "  </thead>\n",
       "  <tbody>\n",
       "    <tr>\n",
       "      <th>7a</th>\n",
       "      <td>SELECT COUNT(*) FROM person_info AS pi JOIN in...</td>\n",
       "      <td>2442255</td>\n",
       "      <td>[{'Plan': {'Node Type': 'Aggregate', 'Strategy...</td>\n",
       "      <td>Hash Join (ml.link_type_id = lt.id) &lt;- [Hash J...</td>\n",
       "      <td>4.57078</td>\n",
       "      <td>SELECT COUNT(*) FROM person_info AS pi JOIN in...</td>\n",
       "      <td>[{'Plan': {'Node Type': 'Aggregate', 'Strategy...</td>\n",
       "      <td>Hash Join (ml.link_type_id = lt.id) &lt;- [Hash J...</td>\n",
       "      <td>4.017235</td>\n",
       "      <td>-0.553545</td>\n",
       "    </tr>\n",
       "  </tbody>\n",
       "</table>\n",
       "</div>"
      ],
      "text/plain": [
       "                                                   query  upper_bound  \\\n",
       "label                                                                   \n",
       "7a     SELECT COUNT(*) FROM person_info AS pi JOIN in...      2442255   \n",
       "\n",
       "                                                 explain  \\\n",
       "label                                                      \n",
       "7a     [{'Plan': {'Node Type': 'Aggregate', 'Strategy...   \n",
       "\n",
       "                                                    plan  execution_time  \\\n",
       "label                                                                      \n",
       "7a     Hash Join (ml.link_type_id = lt.id) <- [Hash J...         4.57078   \n",
       "\n",
       "                                            query_linear  \\\n",
       "label                                                      \n",
       "7a     SELECT COUNT(*) FROM person_info AS pi JOIN in...   \n",
       "\n",
       "                                          explain_linear  \\\n",
       "label                                                      \n",
       "7a     [{'Plan': {'Node Type': 'Aggregate', 'Strategy...   \n",
       "\n",
       "                                             plan_linear  \\\n",
       "label                                                      \n",
       "7a     Hash Join (ml.link_type_id = lt.id) <- [Hash J...   \n",
       "\n",
       "       execution_time_linear  subquery_speedup  \n",
       "label                                           \n",
       "7a                  4.017235         -0.553545  "
      ]
     },
     "execution_count": 20,
     "metadata": {},
     "output_type": "execute_result"
    }
   ],
   "source": [
    "df_top20[df_top20.subquery_speedup == df_top20.subquery_speedup.min()]"
   ]
  },
  {
   "cell_type": "code",
   "execution_count": 22,
   "id": "d0087259-0fce-49ca-ad19-a447538aeb2f",
   "metadata": {},
   "outputs": [
    {
     "data": {
      "text/plain": [
       "1.1377925364087487"
      ]
     },
     "execution_count": 22,
     "metadata": {},
     "output_type": "execute_result"
    }
   ],
   "source": [
    "q7a = df_top20.loc[\"7a\"]\n",
    "q7a.execution_time / q7a.execution_time_linear"
   ]
  },
  {
   "cell_type": "markdown",
   "id": "7308e3ac-bd38-400d-b933-b780ae446597",
   "metadata": {},
   "source": [
    "## 3. Tighter upper bound"
   ]
  },
  {
   "cell_type": "markdown",
   "id": "a5e44a34-eaa2-45c3-902f-eac0b7df5cb8",
   "metadata": {},
   "source": [
    "*Plots are generated directly with R/ggplot*"
   ]
  },
  {
   "cell_type": "markdown",
   "id": "9bc59a61-8c2e-4ab1-b4b4-5978129c00f5",
   "metadata": {},
   "source": [
    "## 4. Physical operator selection"
   ]
  },
  {
   "cell_type": "code",
   "execution_count": 23,
   "id": "6188418f-8301-4c2b-bbb0-4809ed0afa03",
   "metadata": {},
   "outputs": [
    {
     "data": {
      "text/plain": [
       "(376.990205, 383.32920999999993)"
      ]
     },
     "execution_count": 23,
     "metadata": {},
     "output_type": "execute_result"
    }
   ],
   "source": [
    "df_base = selection.best_query_repetition(pd.read_csv(\"workloads/job-ues-results-base.csv\"), group_cols=\"label\", performance_col=\"query_rt_total\")\n",
    "df_idxnlj = selection.best_query_repetition(pd.read_csv(\"workloads/job-ues-results-idxnlj.csv\"), group_cols=\"label\", performance_col=\"query_rt_total\")\n",
    "df_base.rename(columns={\"query_result\": \"explain\", \"query_rt_total\": \"execution_time\"}, inplace=True)\n",
    "df_idxnlj.rename(columns={\"query_result\": \"explain\", \"query_rt_total\": \"execution_time\"}, inplace=True)\n",
    "df_job = pd.read_csv(\"workloads/job-workload-implicit.csv\", converters={\"query\": mosp.MospQuery.parse}, index_col=\"label\")\n",
    "\n",
    "df_base.execution_time.sum(), df_idxnlj.execution_time.sum()"
   ]
  },
  {
   "cell_type": "code",
   "execution_count": 24,
   "id": "6c1ad00e-d3ab-4332-886f-fc5bbc000856",
   "metadata": {},
   "outputs": [
    {
     "name": "stderr",
     "output_type": "stream",
     "text": [
      "/home/rico/Projekte/Uni/DiplomArbeit-QueryOpt/ues/postgres/explain.py:501: UserWarning: Unknown node type: Hash\n",
      "  warnings.warn(\"Unknown node type: {}\".format(node_type))\n",
      "/home/rico/Projekte/Uni/DiplomArbeit-QueryOpt/ues/postgres/explain.py:501: UserWarning: Unknown node type: Aggregate\n",
      "  warnings.warn(\"Unknown node type: {}\".format(node_type))\n",
      "/home/rico/Projekte/Uni/DiplomArbeit-QueryOpt/ues/postgres/explain.py:501: UserWarning: Unknown node type: Gather\n",
      "  warnings.warn(\"Unknown node type: {}\".format(node_type))\n",
      "/home/rico/Projekte/Uni/DiplomArbeit-QueryOpt/ues/postgres/explain.py:501: UserWarning: Unknown node type: Sort\n",
      "  warnings.warn(\"Unknown node type: {}\".format(node_type))\n",
      "/home/rico/Projekte/Uni/DiplomArbeit-QueryOpt/ues/postgres/explain.py:501: UserWarning: Unknown node type: Gather Merge\n",
      "  warnings.warn(\"Unknown node type: {}\".format(node_type))\n",
      "/home/rico/Projekte/Uni/DiplomArbeit-QueryOpt/ues/postgres/explain.py:501: UserWarning: Unknown node type: Hash\n",
      "  warnings.warn(\"Unknown node type: {}\".format(node_type))\n",
      "/home/rico/Projekte/Uni/DiplomArbeit-QueryOpt/ues/postgres/explain.py:501: UserWarning: Unknown node type: Aggregate\n",
      "  warnings.warn(\"Unknown node type: {}\".format(node_type))\n",
      "/home/rico/Projekte/Uni/DiplomArbeit-QueryOpt/ues/postgres/explain.py:501: UserWarning: Unknown node type: Gather\n",
      "  warnings.warn(\"Unknown node type: {}\".format(node_type))\n",
      "/home/rico/Projekte/Uni/DiplomArbeit-QueryOpt/ues/postgres/explain.py:501: UserWarning: Unknown node type: Sort\n",
      "  warnings.warn(\"Unknown node type: {}\".format(node_type))\n",
      "/home/rico/Projekte/Uni/DiplomArbeit-QueryOpt/ues/postgres/explain.py:501: UserWarning: Unknown node type: Gather Merge\n",
      "  warnings.warn(\"Unknown node type: {}\".format(node_type))\n"
     ]
    },
    {
     "data": {
      "text/html": [
       "<div>\n",
       "<style scoped>\n",
       "    .dataframe tbody tr th:only-of-type {\n",
       "        vertical-align: middle;\n",
       "    }\n",
       "\n",
       "    .dataframe tbody tr th {\n",
       "        vertical-align: top;\n",
       "    }\n",
       "\n",
       "    .dataframe thead th {\n",
       "        text-align: right;\n",
       "    }\n",
       "</style>\n",
       "<table border=\"1\" class=\"dataframe\">\n",
       "  <thead>\n",
       "    <tr style=\"text-align: right;\">\n",
       "      <th></th>\n",
       "      <th>query</th>\n",
       "      <th>execution_time_base</th>\n",
       "      <th>explain_base</th>\n",
       "      <th>execution_time_idxnlj</th>\n",
       "      <th>explain_idxnlj</th>\n",
       "      <th>n_subqueries</th>\n",
       "      <th>idxnlj_speedup</th>\n",
       "      <th>plan_base</th>\n",
       "      <th>plan_idxnlj</th>\n",
       "    </tr>\n",
       "    <tr>\n",
       "      <th>label</th>\n",
       "      <th></th>\n",
       "      <th></th>\n",
       "      <th></th>\n",
       "      <th></th>\n",
       "      <th></th>\n",
       "      <th></th>\n",
       "      <th></th>\n",
       "      <th></th>\n",
       "      <th></th>\n",
       "    </tr>\n",
       "  </thead>\n",
       "  <tbody>\n",
       "    <tr>\n",
       "      <th>1a</th>\n",
       "      <td>SELECT COUNT(*) FROM movie_companies AS mc JOI...</td>\n",
       "      <td>0.973623</td>\n",
       "      <td>[{'Plan': {'Node Type': 'Aggregate', 'Strategy...</td>\n",
       "      <td>0.863367</td>\n",
       "      <td>[{'Plan': {'Node Type': 'Aggregate', 'Strategy...</td>\n",
       "      <td>1</td>\n",
       "      <td>0.110256</td>\n",
       "      <td>Hash Join (mi_idx.movie_id = t.id) &lt;- [Hash Jo...</td>\n",
       "      <td>Hash Join (t.id = mi_idx.movie_id) &lt;- [Hash Jo...</td>\n",
       "    </tr>\n",
       "    <tr>\n",
       "      <th>1b</th>\n",
       "      <td>SELECT COUNT(*) FROM movie_info_idx AS mi_idx ...</td>\n",
       "      <td>0.552701</td>\n",
       "      <td>[{'Plan': {'Node Type': 'Aggregate', 'Strategy...</td>\n",
       "      <td>0.551758</td>\n",
       "      <td>[{'Plan': {'Node Type': 'Aggregate', 'Strategy...</td>\n",
       "      <td>0</td>\n",
       "      <td>0.000943</td>\n",
       "      <td>Hash Join (mc.company_type_id = ct.id) &lt;- [Has...</td>\n",
       "      <td>Hash Join (mc.company_type_id = ct.id) &lt;- [Has...</td>\n",
       "    </tr>\n",
       "    <tr>\n",
       "      <th>1c</th>\n",
       "      <td>SELECT COUNT(*) FROM movie_companies AS mc JOI...</td>\n",
       "      <td>0.688356</td>\n",
       "      <td>[{'Plan': {'Node Type': 'Aggregate', 'Strategy...</td>\n",
       "      <td>0.593068</td>\n",
       "      <td>[{'Plan': {'Node Type': 'Aggregate', 'Strategy...</td>\n",
       "      <td>1</td>\n",
       "      <td>0.095288</td>\n",
       "      <td>Hash Join (mi_idx.movie_id = t.id) &lt;- [Hash Jo...</td>\n",
       "      <td>Hash Join (t.id = mi_idx.movie_id) &lt;- [Hash Jo...</td>\n",
       "    </tr>\n",
       "    <tr>\n",
       "      <th>1d</th>\n",
       "      <td>SELECT COUNT(*) FROM movie_info_idx AS mi_idx ...</td>\n",
       "      <td>0.611675</td>\n",
       "      <td>[{'Plan': {'Node Type': 'Aggregate', 'Strategy...</td>\n",
       "      <td>0.609230</td>\n",
       "      <td>[{'Plan': {'Node Type': 'Aggregate', 'Strategy...</td>\n",
       "      <td>0</td>\n",
       "      <td>0.002445</td>\n",
       "      <td>Hash Join (mc.company_type_id = ct.id) &lt;- [Has...</td>\n",
       "      <td>Hash Join (mc.company_type_id = ct.id) &lt;- [Has...</td>\n",
       "    </tr>\n",
       "    <tr>\n",
       "      <th>2a</th>\n",
       "      <td>SELECT COUNT(*) FROM movie_keyword AS mk JOIN ...</td>\n",
       "      <td>1.046022</td>\n",
       "      <td>[{'Plan': {'Node Type': 'Aggregate', 'Strategy...</td>\n",
       "      <td>1.095424</td>\n",
       "      <td>[{'Plan': {'Node Type': 'Aggregate', 'Strategy...</td>\n",
       "      <td>0</td>\n",
       "      <td>-0.049402</td>\n",
       "      <td>Hash Join (mc.company_id = cn.id) &lt;- [Hash Joi...</td>\n",
       "      <td>Hash Join (mc.company_id = cn.id) &lt;- [Hash Joi...</td>\n",
       "    </tr>\n",
       "    <tr>\n",
       "      <th>...</th>\n",
       "      <td>...</td>\n",
       "      <td>...</td>\n",
       "      <td>...</td>\n",
       "      <td>...</td>\n",
       "      <td>...</td>\n",
       "      <td>...</td>\n",
       "      <td>...</td>\n",
       "      <td>...</td>\n",
       "      <td>...</td>\n",
       "    </tr>\n",
       "    <tr>\n",
       "      <th>32a</th>\n",
       "      <td>SELECT COUNT(*) FROM movie_link AS ml JOIN lin...</td>\n",
       "      <td>0.010616</td>\n",
       "      <td>[{'Plan': {'Node Type': 'Aggregate', 'Strategy...</td>\n",
       "      <td>0.012412</td>\n",
       "      <td>[{'Plan': {'Node Type': 'Aggregate', 'Strategy...</td>\n",
       "      <td>0</td>\n",
       "      <td>-0.001796</td>\n",
       "      <td>Hash Join (mk.keyword_id = k.id) &lt;- [~Merge Jo...</td>\n",
       "      <td>Hash Join (mk.keyword_id = k.id) &lt;- [~Merge Jo...</td>\n",
       "    </tr>\n",
       "    <tr>\n",
       "      <th>32b</th>\n",
       "      <td>SELECT COUNT(*) FROM movie_link AS ml JOIN lin...</td>\n",
       "      <td>0.429058</td>\n",
       "      <td>[{'Plan': {'Node Type': 'Aggregate', 'Strategy...</td>\n",
       "      <td>0.461229</td>\n",
       "      <td>[{'Plan': {'Node Type': 'Aggregate', 'Strategy...</td>\n",
       "      <td>0</td>\n",
       "      <td>-0.032171</td>\n",
       "      <td>Hash Join (mk.keyword_id = k.id) &lt;- [Merge Joi...</td>\n",
       "      <td>Hash Join (mk.keyword_id = k.id) &lt;- [Merge Joi...</td>\n",
       "    </tr>\n",
       "    <tr>\n",
       "      <th>33a</th>\n",
       "      <td>SELECT COUNT(*) FROM movie_link AS ml JOIN lin...</td>\n",
       "      <td>1.619257</td>\n",
       "      <td>[{'Plan': {'Node Type': 'Aggregate', 'Strategy...</td>\n",
       "      <td>1.798837</td>\n",
       "      <td>[{'Plan': {'Node Type': 'Aggregate', 'Strategy...</td>\n",
       "      <td>2</td>\n",
       "      <td>-0.179580</td>\n",
       "      <td>Hash Join (cn1.id = mc1.company_id) &lt;- [~Seq S...</td>\n",
       "      <td>Hash Join (cn1.id = mc1.company_id) &lt;- [~Seq S...</td>\n",
       "    </tr>\n",
       "    <tr>\n",
       "      <th>33b</th>\n",
       "      <td>SELECT COUNT(*) FROM movie_link AS ml JOIN lin...</td>\n",
       "      <td>0.600879</td>\n",
       "      <td>[{'Plan': {'Node Type': 'Aggregate', 'Strategy...</td>\n",
       "      <td>0.600325</td>\n",
       "      <td>[{'Plan': {'Node Type': 'Aggregate', 'Strategy...</td>\n",
       "      <td>2</td>\n",
       "      <td>0.000554</td>\n",
       "      <td>Hash Join (mc1.company_id = cn1.id) &lt;- [Hash J...</td>\n",
       "      <td>Hash Join (mc1.company_id = cn1.id) &lt;- [Hash J...</td>\n",
       "    </tr>\n",
       "    <tr>\n",
       "      <th>33c</th>\n",
       "      <td>SELECT COUNT(*) FROM movie_link AS ml JOIN lin...</td>\n",
       "      <td>1.828418</td>\n",
       "      <td>[{'Plan': {'Node Type': 'Aggregate', 'Strategy...</td>\n",
       "      <td>2.029593</td>\n",
       "      <td>[{'Plan': {'Node Type': 'Aggregate', 'Strategy...</td>\n",
       "      <td>2</td>\n",
       "      <td>-0.201175</td>\n",
       "      <td>Hash Join (cn1.id = mc1.company_id) &lt;- [~Seq S...</td>\n",
       "      <td>Hash Join (cn1.id = mc1.company_id) &lt;- [~Seq S...</td>\n",
       "    </tr>\n",
       "  </tbody>\n",
       "</table>\n",
       "<p>113 rows × 9 columns</p>\n",
       "</div>"
      ],
      "text/plain": [
       "                                                   query  execution_time_base  \\\n",
       "label                                                                           \n",
       "1a     SELECT COUNT(*) FROM movie_companies AS mc JOI...             0.973623   \n",
       "1b     SELECT COUNT(*) FROM movie_info_idx AS mi_idx ...             0.552701   \n",
       "1c     SELECT COUNT(*) FROM movie_companies AS mc JOI...             0.688356   \n",
       "1d     SELECT COUNT(*) FROM movie_info_idx AS mi_idx ...             0.611675   \n",
       "2a     SELECT COUNT(*) FROM movie_keyword AS mk JOIN ...             1.046022   \n",
       "...                                                  ...                  ...   \n",
       "32a    SELECT COUNT(*) FROM movie_link AS ml JOIN lin...             0.010616   \n",
       "32b    SELECT COUNT(*) FROM movie_link AS ml JOIN lin...             0.429058   \n",
       "33a    SELECT COUNT(*) FROM movie_link AS ml JOIN lin...             1.619257   \n",
       "33b    SELECT COUNT(*) FROM movie_link AS ml JOIN lin...             0.600879   \n",
       "33c    SELECT COUNT(*) FROM movie_link AS ml JOIN lin...             1.828418   \n",
       "\n",
       "                                            explain_base  \\\n",
       "label                                                      \n",
       "1a     [{'Plan': {'Node Type': 'Aggregate', 'Strategy...   \n",
       "1b     [{'Plan': {'Node Type': 'Aggregate', 'Strategy...   \n",
       "1c     [{'Plan': {'Node Type': 'Aggregate', 'Strategy...   \n",
       "1d     [{'Plan': {'Node Type': 'Aggregate', 'Strategy...   \n",
       "2a     [{'Plan': {'Node Type': 'Aggregate', 'Strategy...   \n",
       "...                                                  ...   \n",
       "32a    [{'Plan': {'Node Type': 'Aggregate', 'Strategy...   \n",
       "32b    [{'Plan': {'Node Type': 'Aggregate', 'Strategy...   \n",
       "33a    [{'Plan': {'Node Type': 'Aggregate', 'Strategy...   \n",
       "33b    [{'Plan': {'Node Type': 'Aggregate', 'Strategy...   \n",
       "33c    [{'Plan': {'Node Type': 'Aggregate', 'Strategy...   \n",
       "\n",
       "       execution_time_idxnlj  \\\n",
       "label                          \n",
       "1a                  0.863367   \n",
       "1b                  0.551758   \n",
       "1c                  0.593068   \n",
       "1d                  0.609230   \n",
       "2a                  1.095424   \n",
       "...                      ...   \n",
       "32a                 0.012412   \n",
       "32b                 0.461229   \n",
       "33a                 1.798837   \n",
       "33b                 0.600325   \n",
       "33c                 2.029593   \n",
       "\n",
       "                                          explain_idxnlj  n_subqueries  \\\n",
       "label                                                                    \n",
       "1a     [{'Plan': {'Node Type': 'Aggregate', 'Strategy...             1   \n",
       "1b     [{'Plan': {'Node Type': 'Aggregate', 'Strategy...             0   \n",
       "1c     [{'Plan': {'Node Type': 'Aggregate', 'Strategy...             1   \n",
       "1d     [{'Plan': {'Node Type': 'Aggregate', 'Strategy...             0   \n",
       "2a     [{'Plan': {'Node Type': 'Aggregate', 'Strategy...             0   \n",
       "...                                                  ...           ...   \n",
       "32a    [{'Plan': {'Node Type': 'Aggregate', 'Strategy...             0   \n",
       "32b    [{'Plan': {'Node Type': 'Aggregate', 'Strategy...             0   \n",
       "33a    [{'Plan': {'Node Type': 'Aggregate', 'Strategy...             2   \n",
       "33b    [{'Plan': {'Node Type': 'Aggregate', 'Strategy...             2   \n",
       "33c    [{'Plan': {'Node Type': 'Aggregate', 'Strategy...             2   \n",
       "\n",
       "       idxnlj_speedup                                          plan_base  \\\n",
       "label                                                                      \n",
       "1a           0.110256  Hash Join (mi_idx.movie_id = t.id) <- [Hash Jo...   \n",
       "1b           0.000943  Hash Join (mc.company_type_id = ct.id) <- [Has...   \n",
       "1c           0.095288  Hash Join (mi_idx.movie_id = t.id) <- [Hash Jo...   \n",
       "1d           0.002445  Hash Join (mc.company_type_id = ct.id) <- [Has...   \n",
       "2a          -0.049402  Hash Join (mc.company_id = cn.id) <- [Hash Joi...   \n",
       "...               ...                                                ...   \n",
       "32a         -0.001796  Hash Join (mk.keyword_id = k.id) <- [~Merge Jo...   \n",
       "32b         -0.032171  Hash Join (mk.keyword_id = k.id) <- [Merge Joi...   \n",
       "33a         -0.179580  Hash Join (cn1.id = mc1.company_id) <- [~Seq S...   \n",
       "33b          0.000554  Hash Join (mc1.company_id = cn1.id) <- [Hash J...   \n",
       "33c         -0.201175  Hash Join (cn1.id = mc1.company_id) <- [~Seq S...   \n",
       "\n",
       "                                             plan_idxnlj  \n",
       "label                                                     \n",
       "1a     Hash Join (t.id = mi_idx.movie_id) <- [Hash Jo...  \n",
       "1b     Hash Join (mc.company_type_id = ct.id) <- [Has...  \n",
       "1c     Hash Join (t.id = mi_idx.movie_id) <- [Hash Jo...  \n",
       "1d     Hash Join (mc.company_type_id = ct.id) <- [Has...  \n",
       "2a     Hash Join (mc.company_id = cn.id) <- [Hash Joi...  \n",
       "...                                                  ...  \n",
       "32a    Hash Join (mk.keyword_id = k.id) <- [~Merge Jo...  \n",
       "32b    Hash Join (mk.keyword_id = k.id) <- [Merge Joi...  \n",
       "33a    Hash Join (cn1.id = mc1.company_id) <- [~Seq S...  \n",
       "33b    Hash Join (mc1.company_id = cn1.id) <- [Hash J...  \n",
       "33c    Hash Join (cn1.id = mc1.company_id) <- [~Seq S...  \n",
       "\n",
       "[113 rows x 9 columns]"
      ]
     },
     "execution_count": 24,
     "metadata": {},
     "output_type": "execute_result"
    }
   ],
   "source": [
    "df_speedup = selection.reorder(pd.merge(df_base[[\"label\", \"query\", \"execution_time\", \"explain\"]], df_idxnlj[[\"label\", \"execution_time\", \"explain\"]],\n",
    "                                        on=\"label\", suffixes=(\"_base\", \"_idxnlj\")))\n",
    "df_speedup.set_index(\"label\", inplace=True)\n",
    "df_speedup[\"query\"] = df_speedup[\"query\"].apply(mosp.MospQuery.parse)\n",
    "df_speedup[\"n_subqueries\"] = df_speedup[\"query\"].apply(lambda q: len(q.subqueries()))\n",
    "df_speedup[\"idxnlj_speedup\"] = df_speedup[\"execution_time_base\"] - df_speedup[\"execution_time_idxnlj\"]\n",
    "df_speedup[\"explain_base\"] = df_speedup[\"explain_base\"].apply(json.loads)\n",
    "df_speedup[\"explain_idxnlj\"] = df_speedup[\"explain_idxnlj\"].apply(json.loads)\n",
    "df_speedup[\"plan_base\"] = df_speedup.apply(lambda res: explain.parse_explain_analyze(res[\"query\"], res[\"explain_base\"], with_subqueries=False), axis=\"columns\")\n",
    "df_speedup[\"plan_idxnlj\"] = df_speedup.apply(lambda res: explain.parse_explain_analyze(res[\"query\"], res[\"explain_idxnlj\"], with_subqueries=False), axis=\"columns\")\n",
    "df_speedup"
   ]
  },
  {
   "cell_type": "code",
   "execution_count": 25,
   "id": "c747d5dc-e1d7-4f5a-a8c1-0e15c1e3bf4b",
   "metadata": {},
   "outputs": [
    {
     "data": {
      "text/plain": [
       "count    113.000000\n",
       "mean      -0.056097\n",
       "std        0.623122\n",
       "min       -2.225481\n",
       "25%       -0.179580\n",
       "50%       -0.011038\n",
       "75%        0.205862\n",
       "max        3.100859\n",
       "Name: idxnlj_speedup, dtype: float64"
      ]
     },
     "execution_count": 25,
     "metadata": {},
     "output_type": "execute_result"
    }
   ],
   "source": [
    "df_speedup.idxnlj_speedup.describe()"
   ]
  },
  {
   "cell_type": "code",
   "execution_count": 87,
   "id": "587f3823-f23a-4053-b48a-2a5bd6187917",
   "metadata": {},
   "outputs": [
    {
     "data": {
      "text/html": [
       "<div>\n",
       "<style scoped>\n",
       "    .dataframe tbody tr th:only-of-type {\n",
       "        vertical-align: middle;\n",
       "    }\n",
       "\n",
       "    .dataframe tbody tr th {\n",
       "        vertical-align: top;\n",
       "    }\n",
       "\n",
       "    .dataframe thead th {\n",
       "        text-align: right;\n",
       "    }\n",
       "</style>\n",
       "<table border=\"1\" class=\"dataframe\">\n",
       "  <thead>\n",
       "    <tr style=\"text-align: right;\">\n",
       "      <th></th>\n",
       "      <th>query</th>\n",
       "      <th>execution_time_base</th>\n",
       "      <th>execution_time_idxnlj</th>\n",
       "      <th>explain</th>\n",
       "      <th>n_subqueries</th>\n",
       "      <th>idxnlj_speedup</th>\n",
       "      <th>plan</th>\n",
       "    </tr>\n",
       "    <tr>\n",
       "      <th>label</th>\n",
       "      <th></th>\n",
       "      <th></th>\n",
       "      <th></th>\n",
       "      <th></th>\n",
       "      <th></th>\n",
       "      <th></th>\n",
       "      <th></th>\n",
       "    </tr>\n",
       "  </thead>\n",
       "  <tbody>\n",
       "    <tr>\n",
       "      <th>8d</th>\n",
       "      <td>SELECT COUNT(*) FROM aka_name AS an1 JOIN name...</td>\n",
       "      <td>5.662634</td>\n",
       "      <td>2.561775</td>\n",
       "      <td>[{'Plan': {'Node Type': 'Aggregate', 'Strategy...</td>\n",
       "      <td>1</td>\n",
       "      <td>3.100859</td>\n",
       "      <td>Hash Join (mc.company_id = cn.id) &lt;- [Hash Joi...</td>\n",
       "    </tr>\n",
       "  </tbody>\n",
       "</table>\n",
       "</div>"
      ],
      "text/plain": [
       "                                                   query  execution_time_base  \\\n",
       "label                                                                           \n",
       "8d     SELECT COUNT(*) FROM aka_name AS an1 JOIN name...             5.662634   \n",
       "\n",
       "       execution_time_idxnlj  \\\n",
       "label                          \n",
       "8d                  2.561775   \n",
       "\n",
       "                                                 explain  n_subqueries  \\\n",
       "label                                                                    \n",
       "8d     [{'Plan': {'Node Type': 'Aggregate', 'Strategy...             1   \n",
       "\n",
       "       idxnlj_speedup                                               plan  \n",
       "label                                                                     \n",
       "8d           3.100859  Hash Join (mc.company_id = cn.id) <- [Hash Joi...  "
      ]
     },
     "execution_count": 87,
     "metadata": {},
     "output_type": "execute_result"
    }
   ],
   "source": [
    "df_speedup[df_speedup.idxnlj_speedup == df_speedup.idxnlj_speedup.max()]"
   ]
  },
  {
   "cell_type": "code",
   "execution_count": 91,
   "id": "ee293e99-ab43-4860-b2d3-c9e8ff830c73",
   "metadata": {},
   "outputs": [
    {
     "name": "stdout",
     "output_type": "stream",
     "text": [
      "Hash Join (mc.company_id = cn.id) (5.520s)\n",
      "  <- Hash Join (mc.movie_id = ci.movie_id) (5.435s)\n",
      "    <- Seq Scan :: movie_companies (0.163s)\n",
      "    <- Hash Join (ci.person_id = an1.person_id) (4.850s)\n",
      "      <- Hash Join (ci.movie_id = t.id) (3.844s)\n",
      "        <- Hash Join (ci.role_id = rt.id) (3.288s)\n",
      "          <- Seq Scan :: cast_info (1.472s)\n",
      "          <- Seq Scan :: role_type (0.000s)\n",
      "        <- Seq Scan :: title (0.169s)\n",
      "      <- Hash Join (an1.person_id = n1.id) (0.861s)\n",
      "        <- Seq Scan :: aka_name (0.047s)\n",
      "        <- Seq Scan :: name (0.225s)\n",
      "  <- Seq Scan :: company_name (0.015s)\n",
      "\n"
     ]
    }
   ],
   "source": [
    "q8d = df_speedup.loc[\"8d\"]\n",
    "q8d.plan_base.pretty_print(include_exec_time=True)"
   ]
  },
  {
   "cell_type": "code",
   "execution_count": 92,
   "id": "05277078-4727-4532-9b4d-06fb182729b7",
   "metadata": {},
   "outputs": [
    {
     "name": "stdout",
     "output_type": "stream",
     "text": [
      "Hash Join (mc.company_id = cn.id) (2.445s)\n",
      "  <- Hash Join (mc.movie_id = ci.movie_id) (2.358s)\n",
      "    <- Seq Scan :: movie_companies (0.168s)\n",
      "    <- Hash Join (ci.person_id = an1.person_id) (1.764s)\n",
      "      <- Hash Join (t.id = ci.movie_id) (0.746s)\n",
      "        <- Seq Scan :: title (0.174s)\n",
      "        <- Nested Loop (ci.role_id = rt.id) (0.124s)\n",
      "          <- Seq Scan :: role_type (0.000s)\n",
      "          <- Index Scan :: cast_info (0.080s)\n",
      "      <- Hash Join (an1.person_id = n1.id) (0.869s)\n",
      "        <- Seq Scan :: aka_name (0.047s)\n",
      "        <- Seq Scan :: name (0.224s)\n",
      "  <- Seq Scan :: company_name (0.015s)\n",
      "\n"
     ]
    }
   ],
   "source": [
    "q8d.plan_idxnlj.pretty_print(include_exec_time=True)"
   ]
  },
  {
   "cell_type": "code",
   "execution_count": 109,
   "id": "b82d4164-ac11-4da6-b7a2-569c3e4a0d1d",
   "metadata": {},
   "outputs": [
    {
     "data": {
      "text/plain": [
       "'role_type rt ⋈ cast_info ci ⋈ title t ⋈ aka_name an1 ⋈ name n1 ⋈ movie_companies mc ⋈ company_name cn'"
      ]
     },
     "execution_count": 109,
     "metadata": {},
     "output_type": "execute_result"
    }
   ],
   "source": [
    "q8d.plan_idxnlj.join_path()"
   ]
  },
  {
   "cell_type": "code",
   "execution_count": 108,
   "id": "457a185a-afc0-4a65-a887-ab53092ce782",
   "metadata": {},
   "outputs": [
    {
     "data": {
      "image/png": "[encoded data removed]",
      "text/plain": [
       "<Figure size 432x288 with 1 Axes>"
      ]
     },
     "metadata": {},
     "output_type": "display_data"
    }
   ],
   "source": [
    "join_graph = ues.JoinGraph.build_for(df_job.loc[\"8d\"].query)\n",
    "join_graph.print()"
   ]
  },
  {
   "cell_type": "code",
   "execution_count": 111,
   "id": "68b1da1f-26fa-430a-88e2-a3beaf949720",
   "metadata": {},
   "outputs": [
    {
     "data": {
      "text/plain": [
       "0.4523998902277633"
      ]
     },
     "execution_count": 111,
     "metadata": {},
     "output_type": "execute_result"
    }
   ],
   "source": [
    "q8d.execution_time_idxnlj / q8d.execution_time_base"
   ]
  },
  {
   "cell_type": "markdown",
   "id": "07b0488c-0892-4408-bc21-da293b878683",
   "metadata": {},
   "source": [
    "## Optimization prints"
   ]
  },
  {
   "cell_type": "code",
   "execution_count": 3,
   "id": "d3f0d285-6406-4a4c-a543-45c154dad0a2",
   "metadata": {},
   "outputs": [
    {
     "data": {
      "text/plain": [
       "SELECT COUNT(*) FROM aka_name AS an1, cast_info AS ci, company_name AS cn, movie_companies AS mc, name AS n1, role_type AS rt, title AS t WHERE cn.country_code = '[us]' AND rt.role = 'costume designer' AND an1.person_id = n1.id AND n1.id = ci.person_id AND ci.movie_id = t.id AND t.id = mc.movie_id AND mc.company_id = cn.id AND ci.role_id = rt.id AND an1.person_id = ci.person_id AND ci.movie_id = mc.movie_id"
      ]
     },
     "execution_count": 3,
     "metadata": {},
     "output_type": "execute_result"
    }
   ],
   "source": [
    "job = workloads.job()\n",
    "q8d = job[\"8d\"]\n",
    "q8d"
   ]
  },
  {
   "cell_type": "code",
   "execution_count": 12,
   "id": "59bf2a0b-21db-4621-b72e-3c570a2152f1",
   "metadata": {},
   "outputs": [
    {
     "data": {
      "text/plain": [
       "SELECT COUNT(*) FROM aka_name AS an1 JOIN name AS n1 ON an1.person_id = n1.id JOIN (SELECT t.id AS t_id, rt.id AS rt_id, ci.person_id AS ci_person_id, ci.role_id AS ci_role_id, ci.movie_id AS ci_movie_id FROM cast_info AS ci JOIN role_type AS rt ON ci.role_id = rt.id AND rt.role = 'costume designer' JOIN title AS t ON ci.movie_id = t.id) AS ci_rt_t ON n1.id = ci_rt_t.ci_person_id AND an1.person_id = ci_rt_t.ci_person_id JOIN movie_companies AS mc ON ci_rt_t.t_id = mc.movie_id AND ci_rt_t.ci_movie_id = mc.movie_id JOIN company_name AS cn ON mc.company_id = cn.id AND cn.country_code = '[us]'"
      ]
     },
     "execution_count": 12,
     "metadata": {},
     "output_type": "execute_result"
    },
    {
     "data": {
      "image/png": "[encoded data removed]",
      "text/plain": [
       "<Figure size 576x1080 with 3 Axes>"
      ]
     },
     "metadata": {},
     "output_type": "display_data"
    }
   ],
   "source": [
    "res = ues.optimize_query(q8d, visualize=True)\n",
    "plt.savefig(\"join-graph.svg\", bbox_inches=\"tight\")\n",
    "res"
   ]
  },
  {
   "cell_type": "code",
   "execution_count": 14,
   "id": "e4c1af01-996a-4aad-aec3-4a970d268ec0",
   "metadata": {},
   "outputs": [
    {
     "name": "stderr",
     "output_type": "stream",
     "text": [
      "Input query: SELECT COUNT(*) FROM aka_name AS an1, cast_info AS ci, company_name AS cn, movie_companies AS mc, name AS n1, role_type AS rt, title AS t WHERE cn.country_code = '[us]' AND rt.role = 'costume designer' AND an1.person_id = n1.id AND n1.id = ci.person_id AND ci.movie_id = t.id AND t.id = mc.movie_id AND mc.company_id = cn.id AND ci.role_id = rt.id AND an1.person_id = ci.person_id AND ci.movie_id = mc.movie_id\n",
      ".. Bounds for candidate aka_name AS an1 :: Filter: 1312273 | PKs: [542277900]\n",
      ".. Bounds for candidate cast_info AS ci :: Filter: 63475827 | PKs: [95498328060, 8250310588, 20490752]\n",
      ".. Bounds for candidate movie_companies AS mc :: Filter: 4958296 | PKs: [9976844618, 715153214]\n",
      "Selected first table: aka_name AS an1 with PK/FK joins [name AS n1]\n",
      ".. Adding PK join with name AS n1 on an1.person_id = n1.id\n",
      ".. Base estimates: {aka_name AS an1: 1312273, cast_info AS ci: 63475827, company_name AS cn: 138679, movie_companies AS mc: 4958296, name AS n1: 6379740, role_type AS rt: 1, title AS t: 4736114}\n",
      ".. Current bounds: {aka_name AS an1: 1312273, cast_info AS ci: 20490752, movie_companies AS mc: 4958296, aka_name ⋈ name: 1312273}\n",
      "\n",
      ".. Bounds for candidate cast_info AS ci :: Filter: 63475827 | PKs: [8250310588, 20490752]\n",
      ".. Bounds for candidate movie_companies AS mc :: Filter: 4958296 | PKs: [9976844618, 715153214]\n",
      ".. Current frequencies: {an1.person_id: 85, n1.id: 85, ci.person_id: 14969, t.id: 1, ci.movie_id: 1742, mc.movie_id: 151, mc.company_id: 71942, cn.id: 1, ci.role_id: 20490752, rt.id: 1}\n",
      ".. Checking candidate an1.person_id = ci.person_id between aka_name AS an1/cast_info AS ci with bound 1741713920\n",
      ".. Candidate bounds: {cast_info AS ci: 1741713920}\n",
      "Selected next table: cast_info AS ci with PK/FK joins [role_type AS rt, title AS t] on predicate an1.person_id = ci.person_id AND n1.id = ci.person_id\n",
      ".. Adding PK join with role_type AS rt on ci.role_id = rt.id\n",
      ".. Adding PK join with title AS t on ci.movie_id = t.id\n",
      ".. Creating subquery for PK joins cast_info ⋈ role_type ⋈ title\n",
      "\n",
      ".. Bounds for candidate movie_companies AS mc :: Filter: 4958296 | PKs: [9976844618]\n",
      ".. Current frequencies: {an1.person_id: 1272365, n1.id: 1272365, ci.person_id: 1272365, t.id: 1742, ci.movie_id: 1742, mc.movie_id: 151, mc.company_id: 71942, cn.id: 1, ci.role_id: 20490752, rt.id: 20490752}\n",
      ".. Checking candidate ci.movie_id = mc.movie_id between cast_info AS ci/movie_companies AS mc with bound 8637351632\n",
      ".. Candidate bounds: {movie_companies AS mc: 8637351632}\n",
      "Selected next table: movie_companies AS mc with PK/FK joins [company_name AS cn] on predicate ci.movie_id = mc.movie_id AND t.id = mc.movie_id\n",
      ".. Adding PK join with company_name AS cn on mc.company_id = cn.id\n",
      "\n",
      "Final intermediate bounds: {aka_name ⋈ name [C]: 1312273, aka_name ⋈ name [C] ⋈ (cast_info ⋈ role_type ⋈ title) [C]: 1741713920, aka_name ⋈ name [C] ⋈ (cast_info ⋈ role_type ⋈ title) [C] ⋈ movie_companies ⋈ company_name: 8637351632}\n",
      "Final attribute frequencies: {an1.person_id: 2216459830, n1.id: 2216459830, ci.person_id: 2216459830, t.id: 263042, ci.movie_id: 263042, mc.movie_id: 263042, mc.company_id: 71942, cn.id: 71942, ci.role_id: 8637351632, rt.id: 8637351632}\n",
      "Final upper bound: 8637351632\n",
      "Final join ordering: aka_name ⋈ name [C] ⋈ (cast_info ⋈ role_type ⋈ title) [C] ⋈ movie_companies ⋈ company_name\n"
     ]
    },
    {
     "data": {
      "text/plain": [
       "SELECT COUNT(*) FROM aka_name AS an1 JOIN name AS n1 ON an1.person_id = n1.id JOIN (SELECT t.id AS t_id, rt.id AS rt_id, ci.person_id AS ci_person_id, ci.role_id AS ci_role_id, ci.movie_id AS ci_movie_id FROM cast_info AS ci JOIN role_type AS rt ON ci.role_id = rt.id AND rt.role = 'costume designer' JOIN title AS t ON ci.movie_id = t.id) AS ci_rt_t ON n1.id = ci_rt_t.ci_person_id AND an1.person_id = ci_rt_t.ci_person_id JOIN movie_companies AS mc ON ci_rt_t.t_id = mc.movie_id AND ci_rt_t.ci_movie_id = mc.movie_id JOIN company_name AS cn ON mc.company_id = cn.id AND cn.country_code = '[us]'"
      ]
     },
     "execution_count": 14,
     "metadata": {},
     "output_type": "execute_result"
    }
   ],
   "source": [
    "ues.optimize_query(q8d, trace=True)"
   ]
  },
  {
   "cell_type": "code",
   "execution_count": null,
   "id": "58ee6ffb-0a5f-4ae0-86c0-f049336ba616",
   "metadata": {},
   "outputs": [],
   "source": []
  }
 ],
 "metadata": {
  "kernelspec": {
   "display_name": "Python 3 (ipykernel)",
   "language": "python",
   "name": "python3"
  },
  "language_info": {
   "codemirror_mode": {
    "name": "ipython",
    "version": 3
   },
   "file_extension": ".py",
   "mimetype": "text/x-python",
   "name": "python",
   "nbconvert_exporter": "python",
   "pygments_lexer": "ipython3",
   "version": "3.8.10"
  }
 },
 "nbformat": 4,
 "nbformat_minor": 5
}
