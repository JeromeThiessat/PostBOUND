{
 "cells": [
  {
   "cell_type": "markdown",
   "id": "69ebea2b",
   "metadata": {},
   "source": [
    "# Query Transformation Tests"
   ]
  },
  {
   "cell_type": "code",
   "execution_count": 1,
   "id": "b4c07bf3",
   "metadata": {},
   "outputs": [],
   "source": [
    "import collections\n",
    "import itertools\n",
    "import pathlib\n",
    "import warnings\n",
    "from dataclasses import dataclass\n",
    "from typing import Dict, List, Tuple\n",
    "\n",
    "import mo_sql_parsing as mosp\n",
    "import natsort\n",
    "import psycopg2\n",
    "\n",
    "import numpy as np\n",
    "import pandas as pd"
   ]
  },
  {
   "cell_type": "code",
   "execution_count": 2,
   "id": "16f51370",
   "metadata": {},
   "outputs": [],
   "source": [
    "workloads = [\"explicit\", \"implicit\"]\n",
    "queries_src_dir = pathlib.Path(\"../simplicity-done-right/JOB-Queries/\")"
   ]
  },
  {
   "cell_type": "code",
   "execution_count": 3,
   "id": "88e8fc24",
   "metadata": {},
   "outputs": [],
   "source": [
    "df_data = collections.defaultdict(list)\n",
    "for workload in workloads:\n",
    "    workload_path = queries_src_dir / workload\n",
    "    query_files = list(workload_path.glob(\"*.sql\"))\n",
    "    df_data[\"label\"].extend(query_file.stem for query_file in query_files)\n",
    "    df_data[\"workload\"].extend(itertools.repeat(workload, len(query_files)))\n",
    "    df_data[\"query\"].extend(query_file.read_text().replace(\"\\n\", \" \").lower() for query_file in query_files)\n",
    "df_queries = pd.DataFrame(df_data)\n",
    "df_queries = df_queries.sort_values(by=\"label\", key=lambda _: np.argsort(natsort.index_natsorted(df_queries[\"label\"]))).reset_index(drop=True)\n",
    "df_queries[\"mosp_query\"] = df_queries[\"query\"].apply(mosp.parse)"
   ]
  },
  {
   "cell_type": "code",
   "execution_count": 4,
   "id": "de9c6cb3",
   "metadata": {},
   "outputs": [
    {
     "data": {
      "text/html": [
       "<div>\n",
       "<style scoped>\n",
       "    .dataframe tbody tr th:only-of-type {\n",
       "        vertical-align: middle;\n",
       "    }\n",
       "\n",
       "    .dataframe tbody tr th {\n",
       "        vertical-align: top;\n",
       "    }\n",
       "\n",
       "    .dataframe thead th {\n",
       "        text-align: right;\n",
       "    }\n",
       "</style>\n",
       "<table border=\"1\" class=\"dataframe\">\n",
       "  <thead>\n",
       "    <tr style=\"text-align: right;\">\n",
       "      <th></th>\n",
       "      <th>label</th>\n",
       "      <th>workload</th>\n",
       "      <th>query</th>\n",
       "      <th>mosp_query</th>\n",
       "    </tr>\n",
       "  </thead>\n",
       "  <tbody>\n",
       "    <tr>\n",
       "      <th>0</th>\n",
       "      <td>1a</td>\n",
       "      <td>explicit</td>\n",
       "      <td>select count(*) from  movie_companies as mc  j...</td>\n",
       "      <td>{'select': {'value': {'count': '*'}}, 'from': ...</td>\n",
       "    </tr>\n",
       "    <tr>\n",
       "      <th>1</th>\n",
       "      <td>1a</td>\n",
       "      <td>implicit</td>\n",
       "      <td>select count(*)  from company_type as ct,     ...</td>\n",
       "      <td>{'select': {'value': {'count': '*'}}, 'from': ...</td>\n",
       "    </tr>\n",
       "    <tr>\n",
       "      <th>2</th>\n",
       "      <td>1b</td>\n",
       "      <td>explicit</td>\n",
       "      <td>select count(*) from  movie_info_idx as mi_idx...</td>\n",
       "      <td>{'select': {'value': {'count': '*'}}, 'from': ...</td>\n",
       "    </tr>\n",
       "    <tr>\n",
       "      <th>3</th>\n",
       "      <td>1b</td>\n",
       "      <td>implicit</td>\n",
       "      <td>select count(*)  from company_type as ct,     ...</td>\n",
       "      <td>{'select': {'value': {'count': '*'}}, 'from': ...</td>\n",
       "    </tr>\n",
       "    <tr>\n",
       "      <th>4</th>\n",
       "      <td>1c</td>\n",
       "      <td>explicit</td>\n",
       "      <td>select count(*) from  movie_companies as mc  j...</td>\n",
       "      <td>{'select': {'value': {'count': '*'}}, 'from': ...</td>\n",
       "    </tr>\n",
       "    <tr>\n",
       "      <th>...</th>\n",
       "      <td>...</td>\n",
       "      <td>...</td>\n",
       "      <td>...</td>\n",
       "      <td>...</td>\n",
       "    </tr>\n",
       "    <tr>\n",
       "      <th>221</th>\n",
       "      <td>33a</td>\n",
       "      <td>implicit</td>\n",
       "      <td>select count(*)  from company_name as cn1,    ...</td>\n",
       "      <td>{'select': {'value': {'count': '*'}}, 'from': ...</td>\n",
       "    </tr>\n",
       "    <tr>\n",
       "      <th>222</th>\n",
       "      <td>33b</td>\n",
       "      <td>explicit</td>\n",
       "      <td>select count(*) from  movie_link as ml  join l...</td>\n",
       "      <td>{'select': {'value': {'count': '*'}}, 'from': ...</td>\n",
       "    </tr>\n",
       "    <tr>\n",
       "      <th>223</th>\n",
       "      <td>33b</td>\n",
       "      <td>implicit</td>\n",
       "      <td>select count(*)  from company_name as cn1,    ...</td>\n",
       "      <td>{'select': {'value': {'count': '*'}}, 'from': ...</td>\n",
       "    </tr>\n",
       "    <tr>\n",
       "      <th>224</th>\n",
       "      <td>33c</td>\n",
       "      <td>explicit</td>\n",
       "      <td>select count(*) from  movie_link as ml  join l...</td>\n",
       "      <td>{'select': {'value': {'count': '*'}}, 'from': ...</td>\n",
       "    </tr>\n",
       "    <tr>\n",
       "      <th>225</th>\n",
       "      <td>33c</td>\n",
       "      <td>implicit</td>\n",
       "      <td>select count(*)  from company_name as cn1,    ...</td>\n",
       "      <td>{'select': {'value': {'count': '*'}}, 'from': ...</td>\n",
       "    </tr>\n",
       "  </tbody>\n",
       "</table>\n",
       "<p>226 rows × 4 columns</p>\n",
       "</div>"
      ],
      "text/plain": [
       "    label  workload                                              query  \\\n",
       "0      1a  explicit  select count(*) from  movie_companies as mc  j...   \n",
       "1      1a  implicit  select count(*)  from company_type as ct,     ...   \n",
       "2      1b  explicit  select count(*) from  movie_info_idx as mi_idx...   \n",
       "3      1b  implicit  select count(*)  from company_type as ct,     ...   \n",
       "4      1c  explicit  select count(*) from  movie_companies as mc  j...   \n",
       "..    ...       ...                                                ...   \n",
       "221   33a  implicit  select count(*)  from company_name as cn1,    ...   \n",
       "222   33b  explicit  select count(*) from  movie_link as ml  join l...   \n",
       "223   33b  implicit  select count(*)  from company_name as cn1,    ...   \n",
       "224   33c  explicit  select count(*) from  movie_link as ml  join l...   \n",
       "225   33c  implicit  select count(*)  from company_name as cn1,    ...   \n",
       "\n",
       "                                            mosp_query  \n",
       "0    {'select': {'value': {'count': '*'}}, 'from': ...  \n",
       "1    {'select': {'value': {'count': '*'}}, 'from': ...  \n",
       "2    {'select': {'value': {'count': '*'}}, 'from': ...  \n",
       "3    {'select': {'value': {'count': '*'}}, 'from': ...  \n",
       "4    {'select': {'value': {'count': '*'}}, 'from': ...  \n",
       "..                                                 ...  \n",
       "221  {'select': {'value': {'count': '*'}}, 'from': ...  \n",
       "222  {'select': {'value': {'count': '*'}}, 'from': ...  \n",
       "223  {'select': {'value': {'count': '*'}}, 'from': ...  \n",
       "224  {'select': {'value': {'count': '*'}}, 'from': ...  \n",
       "225  {'select': {'value': {'count': '*'}}, 'from': ...  \n",
       "\n",
       "[226 rows x 4 columns]"
      ]
     },
     "execution_count": 4,
     "metadata": {},
     "output_type": "execute_result"
    }
   ],
   "source": [
    "df_queries"
   ]
  },
  {
   "cell_type": "code",
   "execution_count": 5,
   "id": "e3b5d20a",
   "metadata": {},
   "outputs": [],
   "source": [
    "df_expl = df_queries[df_queries.workload == \"explicit\"]\n",
    "df_subqueries = df_expl[df_expl[\"query\"].str.rfind(\"select\") > df_expl[\"query\"].str.find(\"join\")]"
   ]
  },
  {
   "cell_type": "code",
   "execution_count": 6,
   "id": "f985adf4",
   "metadata": {},
   "outputs": [],
   "source": [
    "class QueryUpdate:\n",
    "    def __init__(self, base_table=\"\", ):\n",
    "        self.base_table = base_table\n",
    "        self.table_renamings = collections.defaultdict(int)\n",
    "        self.table_references = list()\n",
    "        self.predicates = list()\n",
    "\n",
    "    def include_subquery(self, subquery):\n",
    "\n",
    "        # first up, build the rename map\n",
    "        tables_in_sq = self._collect_tables(subquery)\n",
    "        for table in tables_in_sq:\n",
    "            self.table_renamings[table] += 1\n",
    "\n",
    "    def _collect_tables(self, subquery):\n",
    "        tables = []\n",
    "        for clause in subquery[\"join\"][\"value\"][\"from\"]:\n",
    "            if \"join\" in clause:\n",
    "                tables.append(clause[\"join\"][\"value\"])\n",
    "            else:\n",
    "                tables.append(clause[\"value\"])\n",
    "        return tables\n",
    "\n",
    "    def __str__(self) -> str:\n",
    "        return f\"Tables: {self.table_references}, Predicates: {self.predicates}\""
   ]
  },
  {
   "cell_type": "code",
   "execution_count": 8,
   "id": "c62d0e7e",
   "metadata": {},
   "outputs": [],
   "source": [
    "def extract_subqueries(plan):\n",
    "    from_clause = plan[\"from\"]\n",
    "    query_update = None\n",
    "    sq_found = False\n",
    "\n",
    "    # for each reference in the 'from' clause, check if it constitutes a subquery reference\n",
    "    for table in from_clause:\n",
    "\n",
    "        # extract the base table name and proceed with the joined tables\n",
    "        if not isinstance(table, dict) or \"join\" not in table:\n",
    "            query_update = QueryUpdate(table)\n",
    "            continue\n",
    "\n",
    "        join_target = table[\"join\"][\"value\"]\n",
    "        if isinstance(join_target, dict) and \"select\" in join_target:\n",
    "            #print(\"Found subquery:\", join_target)\n",
    "            sq_found = True\n",
    "            break\n",
    "            query_update.include_subquery(table)\n",
    "\n",
    "    return(sq_found)"
   ]
  },
  {
   "cell_type": "code",
   "execution_count": 9,
   "id": "6b3c0d0e",
   "metadata": {
    "scrolled": true
   },
   "outputs": [
    {
     "ename": "NameError",
     "evalue": "name 'QueryUpdate' is not defined",
     "output_type": "error",
     "traceback": [
      "\u001b[0;31m---------------------------------------------------------------------------\u001b[0m",
      "\u001b[0;31mNameError\u001b[0m                                 Traceback (most recent call last)",
      "Input \u001b[0;32mIn [9]\u001b[0m, in \u001b[0;36m<cell line: 1>\u001b[0;34m()\u001b[0m\n\u001b[0;32m----> 1\u001b[0m df_nosq \u001b[38;5;241m=\u001b[39m df_expl[\u001b[38;5;241m~\u001b[39m\u001b[43mdf_expl\u001b[49m\u001b[38;5;241;43m.\u001b[39;49m\u001b[43mmosp_query\u001b[49m\u001b[38;5;241;43m.\u001b[39;49m\u001b[43mapply\u001b[49m\u001b[43m(\u001b[49m\u001b[43mextract_subqueries\u001b[49m\u001b[43m)\u001b[49m]\n",
      "File \u001b[0;32m~/Projekte/Uni/DiplomArbeit-QueryOpt/dt-venv/lib/python3.8/site-packages/pandas/core/series.py:4433\u001b[0m, in \u001b[0;36mSeries.apply\u001b[0;34m(self, func, convert_dtype, args, **kwargs)\u001b[0m\n\u001b[1;32m   4323\u001b[0m \u001b[38;5;28;01mdef\u001b[39;00m \u001b[38;5;21mapply\u001b[39m(\n\u001b[1;32m   4324\u001b[0m     \u001b[38;5;28mself\u001b[39m,\n\u001b[1;32m   4325\u001b[0m     func: AggFuncType,\n\u001b[0;32m   (...)\u001b[0m\n\u001b[1;32m   4328\u001b[0m     \u001b[38;5;241m*\u001b[39m\u001b[38;5;241m*\u001b[39mkwargs,\n\u001b[1;32m   4329\u001b[0m ) \u001b[38;5;241m-\u001b[39m\u001b[38;5;241m>\u001b[39m DataFrame \u001b[38;5;241m|\u001b[39m Series:\n\u001b[1;32m   4330\u001b[0m     \u001b[38;5;124;03m\"\"\"\u001b[39;00m\n\u001b[1;32m   4331\u001b[0m \u001b[38;5;124;03m    Invoke function on values of Series.\u001b[39;00m\n\u001b[1;32m   4332\u001b[0m \n\u001b[0;32m   (...)\u001b[0m\n\u001b[1;32m   4431\u001b[0m \u001b[38;5;124;03m    dtype: float64\u001b[39;00m\n\u001b[1;32m   4432\u001b[0m \u001b[38;5;124;03m    \"\"\"\u001b[39;00m\n\u001b[0;32m-> 4433\u001b[0m     \u001b[38;5;28;01mreturn\u001b[39;00m \u001b[43mSeriesApply\u001b[49m\u001b[43m(\u001b[49m\u001b[38;5;28;43mself\u001b[39;49m\u001b[43m,\u001b[49m\u001b[43m \u001b[49m\u001b[43mfunc\u001b[49m\u001b[43m,\u001b[49m\u001b[43m \u001b[49m\u001b[43mconvert_dtype\u001b[49m\u001b[43m,\u001b[49m\u001b[43m \u001b[49m\u001b[43margs\u001b[49m\u001b[43m,\u001b[49m\u001b[43m \u001b[49m\u001b[43mkwargs\u001b[49m\u001b[43m)\u001b[49m\u001b[38;5;241;43m.\u001b[39;49m\u001b[43mapply\u001b[49m\u001b[43m(\u001b[49m\u001b[43m)\u001b[49m\n",
      "File \u001b[0;32m~/Projekte/Uni/DiplomArbeit-QueryOpt/dt-venv/lib/python3.8/site-packages/pandas/core/apply.py:1082\u001b[0m, in \u001b[0;36mSeriesApply.apply\u001b[0;34m(self)\u001b[0m\n\u001b[1;32m   1078\u001b[0m \u001b[38;5;28;01mif\u001b[39;00m \u001b[38;5;28misinstance\u001b[39m(\u001b[38;5;28mself\u001b[39m\u001b[38;5;241m.\u001b[39mf, \u001b[38;5;28mstr\u001b[39m):\n\u001b[1;32m   1079\u001b[0m     \u001b[38;5;66;03m# if we are a string, try to dispatch\u001b[39;00m\n\u001b[1;32m   1080\u001b[0m     \u001b[38;5;28;01mreturn\u001b[39;00m \u001b[38;5;28mself\u001b[39m\u001b[38;5;241m.\u001b[39mapply_str()\n\u001b[0;32m-> 1082\u001b[0m \u001b[38;5;28;01mreturn\u001b[39;00m \u001b[38;5;28;43mself\u001b[39;49m\u001b[38;5;241;43m.\u001b[39;49m\u001b[43mapply_standard\u001b[49m\u001b[43m(\u001b[49m\u001b[43m)\u001b[49m\n",
      "File \u001b[0;32m~/Projekte/Uni/DiplomArbeit-QueryOpt/dt-venv/lib/python3.8/site-packages/pandas/core/apply.py:1137\u001b[0m, in \u001b[0;36mSeriesApply.apply_standard\u001b[0;34m(self)\u001b[0m\n\u001b[1;32m   1131\u001b[0m         values \u001b[38;5;241m=\u001b[39m obj\u001b[38;5;241m.\u001b[39mastype(\u001b[38;5;28mobject\u001b[39m)\u001b[38;5;241m.\u001b[39m_values\n\u001b[1;32m   1132\u001b[0m         \u001b[38;5;66;03m# error: Argument 2 to \"map_infer\" has incompatible type\u001b[39;00m\n\u001b[1;32m   1133\u001b[0m         \u001b[38;5;66;03m# \"Union[Callable[..., Any], str, List[Union[Callable[..., Any], str]],\u001b[39;00m\n\u001b[1;32m   1134\u001b[0m         \u001b[38;5;66;03m# Dict[Hashable, Union[Union[Callable[..., Any], str],\u001b[39;00m\n\u001b[1;32m   1135\u001b[0m         \u001b[38;5;66;03m# List[Union[Callable[..., Any], str]]]]]\"; expected\u001b[39;00m\n\u001b[1;32m   1136\u001b[0m         \u001b[38;5;66;03m# \"Callable[[Any], Any]\"\u001b[39;00m\n\u001b[0;32m-> 1137\u001b[0m         mapped \u001b[38;5;241m=\u001b[39m \u001b[43mlib\u001b[49m\u001b[38;5;241;43m.\u001b[39;49m\u001b[43mmap_infer\u001b[49m\u001b[43m(\u001b[49m\n\u001b[1;32m   1138\u001b[0m \u001b[43m            \u001b[49m\u001b[43mvalues\u001b[49m\u001b[43m,\u001b[49m\n\u001b[1;32m   1139\u001b[0m \u001b[43m            \u001b[49m\u001b[43mf\u001b[49m\u001b[43m,\u001b[49m\u001b[43m  \u001b[49m\u001b[38;5;66;43;03m# type: ignore[arg-type]\u001b[39;49;00m\n\u001b[1;32m   1140\u001b[0m \u001b[43m            \u001b[49m\u001b[43mconvert\u001b[49m\u001b[38;5;241;43m=\u001b[39;49m\u001b[38;5;28;43mself\u001b[39;49m\u001b[38;5;241;43m.\u001b[39;49m\u001b[43mconvert_dtype\u001b[49m\u001b[43m,\u001b[49m\n\u001b[1;32m   1141\u001b[0m \u001b[43m        \u001b[49m\u001b[43m)\u001b[49m\n\u001b[1;32m   1143\u001b[0m \u001b[38;5;28;01mif\u001b[39;00m \u001b[38;5;28mlen\u001b[39m(mapped) \u001b[38;5;129;01mand\u001b[39;00m \u001b[38;5;28misinstance\u001b[39m(mapped[\u001b[38;5;241m0\u001b[39m], ABCSeries):\n\u001b[1;32m   1144\u001b[0m     \u001b[38;5;66;03m# GH#43986 Need to do list(mapped) in order to get treated as nested\u001b[39;00m\n\u001b[1;32m   1145\u001b[0m     \u001b[38;5;66;03m#  See also GH#25959 regarding EA support\u001b[39;00m\n\u001b[1;32m   1146\u001b[0m     \u001b[38;5;28;01mreturn\u001b[39;00m obj\u001b[38;5;241m.\u001b[39m_constructor_expanddim(\u001b[38;5;28mlist\u001b[39m(mapped), index\u001b[38;5;241m=\u001b[39mobj\u001b[38;5;241m.\u001b[39mindex)\n",
      "File \u001b[0;32m~/Projekte/Uni/DiplomArbeit-QueryOpt/dt-venv/lib/python3.8/site-packages/pandas/_libs/lib.pyx:2870\u001b[0m, in \u001b[0;36mpandas._libs.lib.map_infer\u001b[0;34m()\u001b[0m\n",
      "Input \u001b[0;32mIn [8]\u001b[0m, in \u001b[0;36mextract_subqueries\u001b[0;34m(plan)\u001b[0m\n\u001b[1;32m      7\u001b[0m \u001b[38;5;28;01mfor\u001b[39;00m table \u001b[38;5;129;01min\u001b[39;00m from_clause:\n\u001b[1;32m      8\u001b[0m \n\u001b[1;32m      9\u001b[0m     \u001b[38;5;66;03m# extract the base table name and proceed with the joined tables\u001b[39;00m\n\u001b[1;32m     10\u001b[0m     \u001b[38;5;28;01mif\u001b[39;00m \u001b[38;5;129;01mnot\u001b[39;00m \u001b[38;5;28misinstance\u001b[39m(table, \u001b[38;5;28mdict\u001b[39m) \u001b[38;5;129;01mor\u001b[39;00m \u001b[38;5;124m\"\u001b[39m\u001b[38;5;124mjoin\u001b[39m\u001b[38;5;124m\"\u001b[39m \u001b[38;5;129;01mnot\u001b[39;00m \u001b[38;5;129;01min\u001b[39;00m table:\n\u001b[0;32m---> 11\u001b[0m         query_update \u001b[38;5;241m=\u001b[39m \u001b[43mQueryUpdate\u001b[49m(table)\n\u001b[1;32m     12\u001b[0m         \u001b[38;5;28;01mcontinue\u001b[39;00m\n\u001b[1;32m     14\u001b[0m     join_target \u001b[38;5;241m=\u001b[39m table[\u001b[38;5;124m\"\u001b[39m\u001b[38;5;124mjoin\u001b[39m\u001b[38;5;124m\"\u001b[39m][\u001b[38;5;124m\"\u001b[39m\u001b[38;5;124mvalue\u001b[39m\u001b[38;5;124m\"\u001b[39m]\n",
      "\u001b[0;31mNameError\u001b[0m: name 'QueryUpdate' is not defined"
     ]
    }
   ],
   "source": [
    "df_nosq = df_expl[~df_expl.mosp_query.apply(extract_subqueries)]"
   ]
  },
  {
   "cell_type": "code",
   "execution_count": 7,
   "id": "afddcae7",
   "metadata": {},
   "outputs": [],
   "source": [
    "conn = psycopg2.connect(\"dbname=imdb user=rico host=localhost\")\n",
    "cur = conn.cursor()"
   ]
  },
  {
   "cell_type": "code",
   "execution_count": 8,
   "id": "4112868e",
   "metadata": {},
   "outputs": [
    {
     "data": {
      "text/plain": [
       "\"select count(*) from  movie_companies as mc  join company_type as ct on (ct.kind = 'production companies' and ct.id = mc.company_type_id and mc.note not like '%(as metro-goldwyn-mayer pictures)%' and (mc.note like '%(co-production)%'  or mc.note like '%(presents)%')) join title as t on (t.id = mc.movie_id) join  (select movie_id from movie_info_idx as mi_idx  join info_type as it on (it.info = 'top 250 rank' and it.id = mi_idx.info_type_id)) as t_mi_idx  on(t_mi_idx.movie_id = mc.movie_id);\""
      ]
     },
     "execution_count": 8,
     "metadata": {},
     "output_type": "execute_result"
    }
   ],
   "source": [
    "q_raw = df_subqueries.iloc[0][\"query\"]\n",
    "q_raw"
   ]
  },
  {
   "cell_type": "code",
   "execution_count": 9,
   "id": "704ad36e",
   "metadata": {},
   "outputs": [],
   "source": [
    "@dataclass\n",
    "class TableRef:\n",
    "    full_name: str\n",
    "    alias: str\n",
    "    \n",
    "    def __repr__(self):\n",
    "        return str(self)\n",
    "    \n",
    "    def __str__(self):\n",
    "        return f\"{self.full_name} AS {self.alias}\"\n",
    "\n",
    "\n",
    "@dataclass\n",
    "class AttributeRef:\n",
    "    src_table: TableRef\n",
    "    attribute: str\n",
    "        \n",
    "    def __repr__(self):\n",
    "        return str(self)\n",
    "    \n",
    "    def __str__(self):\n",
    "        return f\"{self.src_table.alias}.{self.attribute}\"\n",
    "\n",
    "\n",
    "@dataclass\n",
    "class JoinStatement:\n",
    "    target: TableRef\n",
    "    on: str\n",
    "    \n",
    "    def expand(self, on):\n",
    "        pass\n",
    "    \n",
    "    def __repr__(self):\n",
    "        return str(self)\n",
    "    \n",
    "    def __str__(self):\n",
    "        return f\"JOIN {self.target} ON {self.on}\""
   ]
  },
  {
   "cell_type": "code",
   "execution_count": 10,
   "id": "efe1f7a0",
   "metadata": {},
   "outputs": [],
   "source": [
    "class DBSchema:\n",
    "    def __init__(self, cursor: \"psycopg2.cursor\"):\n",
    "        self.cursor = cursor\n",
    "        \n",
    "    def lookup_attribute(self, attribute_name: str, candidate_tables: List[TableRef]) -> AttributeRef:\n",
    "        for table in candidate_tables:\n",
    "            columns = self._fetch_columns(table.full_name)\n",
    "            if attribute_name in columns:\n",
    "                return table\n",
    "        raise KeyError(f\"Attribute not found: {attribute_name} in candidates {candidate_tables}\")\n",
    "\n",
    "    def _fetch_columns(self, table_name):\n",
    "        base_query = \"SELECT column_name FROM information_schema.columns WHERE table_name = %s\"\n",
    "        cur.execute(base_query, (table_name,))\n",
    "        result_set = cur.fetchall()\n",
    "        return [col[0] for col in result_set]"
   ]
  },
  {
   "cell_type": "code",
   "execution_count": 11,
   "id": "9aecf52f",
   "metadata": {},
   "outputs": [],
   "source": [
    "def collect_attributes(projection):\n",
    "    if not isinstance(projection, list):\n",
    "        return [projection[\"value\"]]\n",
    "    return [col[\"value\"] for col in projection]"
   ]
  },
  {
   "cell_type": "code",
   "execution_count": 12,
   "id": "2ee5cbef",
   "metadata": {},
   "outputs": [],
   "source": [
    "def extract_table_references(from_clause):\n",
    "    references = []\n",
    "    \n",
    "    for table_ref in from_clause:\n",
    "        table_name, table_alias = \"\", \"\"\n",
    "        \n",
    "        # base table reference\n",
    "        if \"value\" in table_ref:\n",
    "            table_name = table_ref[\"value\"]\n",
    "            table_alias = table_ref.get(\"name\", table_name)\n",
    "        # joined table\n",
    "        elif \"join\" in table_ref:\n",
    "            join_target = table_ref[\"join\"]\n",
    "            table_name = join_target[\"value\"]\n",
    "            table_alias = join_target.get(\"name\", table_name)\n",
    "            \n",
    "        references.append(TableRef(table_name, table_alias))\n",
    "    \n",
    "    return references"
   ]
  },
  {
   "cell_type": "code",
   "execution_count": 13,
   "id": "a6f10029",
   "metadata": {},
   "outputs": [],
   "source": [
    "def bind_attributes(raw_attributes: List[str], candidate_tables: List[TableRef], *, dbschema) -> List[AttributeRef]:\n",
    "    bindings = []\n",
    "    for attribute in raw_attributes:\n",
    "        src_table = dbschema.lookup_attribute(attribute, candidate_tables)\n",
    "        bindings.append(AttributeRef(src_table, attribute))\n",
    "    return bindings"
   ]
  },
  {
   "cell_type": "code",
   "execution_count": 14,
   "id": "3df94757",
   "metadata": {},
   "outputs": [
    {
     "data": {
      "text/plain": [
       "{'select': {'value': {'count': '*'}},\n",
       " 'from': [{'value': 'movie_companies', 'name': 'mc'},\n",
       "  {'join': {'value': 'company_type', 'name': 'ct'},\n",
       "   'on': {'and': [{'eq': ['ct.kind', {'literal': 'production companies'}]},\n",
       "     {'eq': ['ct.id', 'mc.company_type_id']},\n",
       "     {'not_like': ['mc.note',\n",
       "       {'literal': '%(as metro-goldwyn-mayer pictures)%'}]},\n",
       "     {'or': [{'like': ['mc.note', {'literal': '%(co-production)%'}]},\n",
       "       {'like': ['mc.note', {'literal': '%(presents)%'}]}]}]}},\n",
       "  {'join': {'value': 'title', 'name': 't'},\n",
       "   'on': {'eq': ['t.id', 'mc.movie_id']}},\n",
       "  {'join': {'value': {'select': {'value': 'movie_id'},\n",
       "     'from': [{'value': 'movie_info_idx', 'name': 'mi_idx'},\n",
       "      {'join': {'value': 'info_type', 'name': 'it'},\n",
       "       'on': {'and': [{'eq': ['it.info', {'literal': 'top 250 rank'}]},\n",
       "         {'eq': ['it.id', 'mi_idx.info_type_id']}]}}]},\n",
       "    'name': 't_mi_idx'},\n",
       "   'on': {'eq': ['t_mi_idx.movie_id', 'mc.movie_id']}}]}"
      ]
     },
     "execution_count": 14,
     "metadata": {},
     "output_type": "execute_result"
    }
   ],
   "source": [
    "q = df_subqueries.iloc[0].mosp_query\n",
    "q"
   ]
  },
  {
   "cell_type": "code",
   "execution_count": 39,
   "id": "f247f6d6",
   "metadata": {},
   "outputs": [],
   "source": [
    "def head(lst):\n",
    "    if not len(lst):\n",
    "        raise ValueError(\"List is empty\")\n",
    "    return lst[0]\n",
    "\n",
    "def unwrap_singular_dict(d, *, target=\"value\"):\n",
    "    if target == \"value\":\n",
    "        return head(list(d.values()))\n",
    "    elif target == \"key\":\n",
    "        return head(list(d.keys()))\n",
    "    else:\n",
    "        raise KeyError(\"Unknown target: \" + target)"
   ]
  },
  {
   "cell_type": "code",
   "execution_count": 48,
   "id": "b18e30b1",
   "metadata": {},
   "outputs": [],
   "source": [
    "def extract_filter_predicates(predicate_tree, base_table):\n",
    "    # check if we moved down the conjunction/disjunction tree as far as possible\n",
    "    if isinstance(predicate_tree, list):\n",
    "        # perform the actual filtering\n",
    "        matching_predicates = []\n",
    "        for pred in predicate_tree:\n",
    "            # each predicate is a dict with just a single key: the comparison operation\n",
    "            # this slightly weird structure needs to be unwrapped\n",
    "            # e.g. {'eq': ['it.info', {'literal': 'top 250 rank'}]}\n",
    "            pred_source = unwrap_singular_dict(pred)[0]\n",
    "            if not pred_source.startswith(base_table.alias + \".\"):\n",
    "                continue\n",
    "            pred_target = unwrap_singular_dict(pred)[1]\n",
    "            \n",
    "            # predicates such as customer.last_login_date > customer.last_purchase_date\n",
    "            if isinstance(pred_target, str) and pred_target.startswith(base_table.alias + \".\"):\n",
    "                matching_predicates.append(pred)\n",
    "            # predicates such as customer.last_login_date > 2022-01-01\n",
    "            elif isinstance(pred_target, dict) and \"literal\" in pred_target:\n",
    "                matching_predicates.append(pred)\n",
    "            # join predicates such as customer.id = buyer.id\n",
    "            else:\n",
    "                continue\n",
    "\n",
    "        return matching_predicates\n",
    "    elif isinstance(predicate_tree, dict):\n",
    "        operation = unwrap_singular_dict(predicate_tree, target=\"key\")\n",
    "        return {operation: extract_filter_predicates(predicate_tree[operation], base_table)}"
   ]
  },
  {
   "cell_type": "code",
   "execution_count": 16,
   "id": "192c30b6",
   "metadata": {},
   "outputs": [],
   "source": [
    "class FlattenedQuery:\n",
    "    def __init__(self, base_table: TableRef, dbschema: DBSchema):\n",
    "        self.base_table = base_table\n",
    "        self.dbschema = dbschema\n",
    "        self.joins = list()\n",
    "        self.dangling_joins = list()\n",
    "        \n",
    "    def absorb_join(self, join):\n",
    "        \"\"\"Includes a join statement in the query. Could be either a subquery, or a plain join.\"\"\"\n",
    "        join_data = join[\"join\"]\n",
    "        join_predicate = join[\"on\"]\n",
    "        \n",
    "        # sanity check\n",
    "        if isinstance(join_data[\"value\"], dict) and not \"select\" in join_data[\"value\"]:\n",
    "            warnings.warn(\"Unknown query structure:\", join)\n",
    "            return\n",
    "        \n",
    "        # just a plain join?\n",
    "        if not isinstance(join_data[\"value\"], dict):\n",
    "            joined_table = TableRef(join_data[\"value\"], join_data[\"name\"])\n",
    "            join_stmt = JoinStatement(joined_table, join_predicate)\n",
    "            self.joins.append(join_stmt)\n",
    "            return\n",
    "        \n",
    "        # at this point, we know we found a subquery\n",
    "        # we are going to break up its structure first, and gather the relevant data secondly\n",
    "        subquery = join_data[\"value\"]\n",
    "        sq_projection = subquery[\"select\"]\n",
    "        sq_tables = subquery[\"from\"]\n",
    "        sq_target = join_data[\"name\"] # we actually don't need this\n",
    "        \n",
    "        table_refs = extract_table_references(sq_tables)\n",
    "        attribute_refs = bind_attributes(collect_attributes(sq_projection), table_refs, dbschema=self.dbschema)\n",
    "        print(attribute_refs)\n",
    "    \n",
    "    def __str__(self):\n",
    "        return f\"{self.base_table} {self.joins}\"\n",
    "    \n",
    "def flatten_query(mosp_query):\n",
    "    from_clause = mosp_query[\"from\"]\n",
    "    flattened_query = None\n",
    "    for table in from_clause:\n",
    "        # extract the base table name and proceed with the joined tables\n",
    "        if not isinstance(table, dict) or \"join\" not in table:\n",
    "            table_ref = TableRef(table[\"value\"], table[\"name\"])\n",
    "            flattened_query = FlattenedQuery(table_ref, DBSchema(cur))\n",
    "            continue\n",
    "        else:\n",
    "            flattened_query.absorb_join(table)\n",
    "            \n",
    "    return flattened_query"
   ]
  },
  {
   "cell_type": "code",
   "execution_count": 17,
   "id": "3cfb54a6",
   "metadata": {},
   "outputs": [
    {
     "name": "stdout",
     "output_type": "stream",
     "text": [
      "[mi_idx.movie_id]\n"
     ]
    },
    {
     "data": {
      "text/plain": [
       "<__main__.FlattenedQuery at 0x7fb3db9d1e80>"
      ]
     },
     "execution_count": 17,
     "metadata": {},
     "output_type": "execute_result"
    }
   ],
   "source": [
    "flatten_query(q)"
   ]
  },
  {
   "cell_type": "code",
   "execution_count": 13,
   "id": "8db1d61a",
   "metadata": {
    "scrolled": true
   },
   "outputs": [
    {
     "data": {
      "text/plain": [
       "\"select count(*) from  movie_companies as mc  join company_type as ct on (ct.kind = 'production companies' and ct.id = mc.company_type_id and mc.note not like '%(as metro-goldwyn-mayer pictures)%' and (mc.note like '%(co-production)%'  or mc.note like '%(presents)%')) join title as t on (t.id = mc.movie_id) join  (select movie_id from movie_info_idx as mi_idx  join info_type as it on (it.info = 'top 250 rank' and it.id = mi_idx.info_type_id)) as t_mi_idx  on(t_mi_idx.movie_id = mc.movie_id);\""
      ]
     },
     "execution_count": 13,
     "metadata": {},
     "output_type": "execute_result"
    }
   ],
   "source": [
    "q_raw"
   ]
  },
  {
   "cell_type": "markdown",
   "id": "01d0de2b",
   "metadata": {},
   "source": [
    "## Regression analysis\n",
    "\n",
    "First up, based on actual results:"
   ]
  },
  {
   "cell_type": "code",
   "execution_count": 63,
   "id": "dc2709e8",
   "metadata": {},
   "outputs": [
    {
     "name": "stdout",
     "output_type": "stream",
     "text": [
      "Now at query 1\n",
      "Now at query 51\n",
      "Now at query 101\n",
      "Now at query 151\n",
      "Now at query 201\n"
     ]
    }
   ],
   "source": [
    "regressions = []\n",
    "regression_found = False\n",
    "for q_idx, query in enumerate(df_queries.itertuples()):\n",
    "    orig_query = query.query\n",
    "    cur.execute(orig_query)\n",
    "    orig_card = cur.fetchone()[0]\n",
    "    mosp_query = mosp.format(query.mosp_query)\n",
    "    cur.execute(mosp_query)\n",
    "    mosp_card = cur.fetchone()[0]\n",
    "    if q_idx % 50 == 0:\n",
    "        print(\"Now at query\", q_idx+1)\n",
    "    if orig_card != mosp_card:\n",
    "        regression_found = True\n",
    "        regressions.append(query.label)\n",
    "        print(\"= Regression found for query\", query.label, \"Orig:\", orig_card, \"MOSP:\", mosp_card)\n",
    "        \n",
    "if not regression_found:\n",
    "    print(\"== All tests succeeded! ==\")\n",
    "else:\n",
    "    print(\"== Regressions found: ==\")\n",
    "    print(regressions)"
   ]
  },
  {
   "cell_type": "markdown",
   "id": "6e90d8a5",
   "metadata": {},
   "source": [
    "Secondly, based on query plans:"
   ]
  },
  {
   "cell_type": "code",
   "execution_count": 22,
   "id": "5a9e4a9a",
   "metadata": {},
   "outputs": [],
   "source": [
    "def extract_plan_nodes(plan):\n",
    "    node_type = plan[\"Node Type\"]\n",
    "    node_filter = \"\"\n",
    "    if \"Join Filter\" in plan:\n",
    "        node_filter = plan[\"Join Filter\"]\n",
    "    elif \"Hash Cond\" in plan:\n",
    "        node_filter = plan[\"Hash Cond\"]\n",
    "    elif \"Filter\" in plan and \"Index Cond\" in plan:\n",
    "        node_filter = plan[\"Index Cond\"] + \" // \" + plan[\"Filter\"]\n",
    "    elif \"Filter\" in plan:\n",
    "        node_filter = plan[\"Filter\"]\n",
    "    elif \"Index Cond\" in plan:\n",
    "        node_filter = plan[\"Index Cond\"]\n",
    "    \n",
    "    nodes = [node_type]\n",
    "    if node_filter:\n",
    "        nodes = [f\"{node_type} :: {node_filter}\"]\n",
    "    \n",
    "    for subplan in plan.get(\"Plans\", []):\n",
    "        nodes.extend(extract_plan_nodes(subplan))\n",
    "    return nodes"
   ]
  },
  {
   "cell_type": "code",
   "execution_count": 25,
   "id": "93c8fdfc",
   "metadata": {},
   "outputs": [
    {
     "name": "stdout",
     "output_type": "stream",
     "text": [
      "Now at query 1\n",
      "Now at query 51\n",
      "Now at query 101\n",
      "Now at query 151\n",
      "Now at query 201\n",
      "== All tests succeeded! ==\n"
     ]
    }
   ],
   "source": [
    "regressions = []\n",
    "regression_found = False\n",
    "for q_idx, query in enumerate(df_queries.itertuples()):\n",
    "    orig_query = query.query\n",
    "    cur.execute(\"explain (format json) \" + orig_query)\n",
    "    orig_plan = cur.fetchone()[0][0][\"Plan\"]\n",
    "    orig_nodes = extract_plan_nodes(orig_plan)\n",
    "    \n",
    "    mosp_query = mosp.format(query.mosp_query)\n",
    "    cur.execute(\"explain (format json) \" + mosp_query)\n",
    "    mosp_plan = cur.fetchone()[0][0][\"Plan\"]\n",
    "    mosp_nodes = extract_plan_nodes(mosp_plan)\n",
    "    \n",
    "    if q_idx % 50 == 0:\n",
    "        print(\"Now at query\", q_idx+1)\n",
    "    if orig_nodes != mosp_nodes:\n",
    "        regression_found = True\n",
    "        regressions.append(query.label)\n",
    "        print(\"= Regression found for query\", query.label, \"Orig:\", orig_nodes, \"MOSP:\", mosp_nodes)\n",
    "        \n",
    "if not regression_found:\n",
    "    print(\"== All tests succeeded! ==\")\n",
    "else:\n",
    "    print(\"== Regressions found: ==\")\n",
    "    print(regressions)"
   ]
  }
 ],
 "metadata": {
  "kernelspec": {
   "display_name": "Python 3 (ipykernel)",
   "language": "python",
   "name": "python3"
  },
  "language_info": {
   "codemirror_mode": {
    "name": "ipython",
    "version": 3
   },
   "file_extension": ".py",
   "mimetype": "text/x-python",
   "name": "python",
   "nbconvert_exporter": "python",
   "pygments_lexer": "ipython3",
   "version": "3.8.10"
  }
 },
 "nbformat": 4,
 "nbformat_minor": 5
}
