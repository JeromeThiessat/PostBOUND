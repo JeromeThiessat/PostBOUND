{
 "cells": [
  {
   "cell_type": "markdown",
   "id": "f944de3f-ec7c-45df-866a-149cf8b5a1fa",
   "metadata": {},
   "source": [
    "# UES Algorithm\n",
    "\n",
    "This Notebook focuses on the re-implementation of the UES query plan optimization algorithm."
   ]
  },
  {
   "cell_type": "code",
   "execution_count": 1,
   "id": "7742d3d9-cfb0-46c3-aeaa-451b889a0565",
   "metadata": {},
   "outputs": [],
   "source": [
    "%load_ext autoreload\n",
    "%autoreload 2"
   ]
  },
  {
   "cell_type": "code",
   "execution_count": 2,
   "id": "dbf2cf9f-62e8-480d-bbfb-e09574bf1acc",
   "metadata": {},
   "outputs": [],
   "source": [
    "import collections\n",
    "import json\n",
    "\n",
    "import numpy as np\n",
    "import pandas as pd\n",
    "\n",
    "from transform import mosp, db"
   ]
  },
  {
   "cell_type": "code",
   "execution_count": 3,
   "id": "34aee1d2-6ed3-4154-86ad-7723111a97ca",
   "metadata": {},
   "outputs": [
    {
     "data": {
      "text/plain": [
       "\"SELECT COUNT(*) FROM aka_name AS an, char_name AS chn, cast_info AS ci, company_name AS cn, info_type AS it, movie_companies AS mc, movie_info AS mi, name AS n, role_type AS rt, title AS t WHERE ci.note IN ('(voice)', '(voice: Japanese version)', '(voice) (uncredited)', '(voice: English version)') AND cn.country_code ='[us]' AND it.info = 'release dates' AND mi.info IS NOT NULL AND (mi.info LIKE 'Japan:%200%' OR mi.info LIKE 'USA:%200%') AND n.gender ='f' AND n.name LIKE '%An%' AND rt.role ='actress' AND t.production_year > 2000 AND t.id = mi.movie_id AND t.id = mc.movie_id AND t.id = ci.movie_id AND mc.movie_id = ci.movie_id AND mc.movie_id = mi.movie_id AND mi.movie_id = ci.movie_id AND cn.id = mc.company_id AND it.id = mi.info_type_id AND n.id = ci.person_id AND rt.id = ci.role_id AND n.id = an.person_id AND ci.person_id = an.person_id AND chn.id = ci.person_role_id; \""
      ]
     },
     "execution_count": 3,
     "metadata": {},
     "output_type": "execute_result"
    }
   ],
   "source": [
    "with open(\"../simplicity-done-right/JOB-Queries/implicit/19c.sql\", \"r\") as query_file:\n",
    "    example_query = \" \".join(line.strip() for line in query_file.readlines())\n",
    "example_query"
   ]
  },
  {
   "cell_type": "code",
   "execution_count": 4,
   "id": "d68d1d55-e8ed-4054-8fc5-254c49635110",
   "metadata": {},
   "outputs": [
    {
     "data": {
      "text/plain": [
       "{'select': {'value': {'count': '*'}},\n",
       " 'from': [{'value': 'aka_name', 'name': 'an'},\n",
       "  {'value': 'char_name', 'name': 'chn'},\n",
       "  {'value': 'cast_info', 'name': 'ci'},\n",
       "  {'value': 'company_name', 'name': 'cn'},\n",
       "  {'value': 'info_type', 'name': 'it'},\n",
       "  {'value': 'movie_companies', 'name': 'mc'},\n",
       "  {'value': 'movie_info', 'name': 'mi'},\n",
       "  {'value': 'name', 'name': 'n'},\n",
       "  {'value': 'role_type', 'name': 'rt'},\n",
       "  {'value': 'title', 'name': 't'}],\n",
       " 'where': {'and': [{'in': ['ci.note',\n",
       "     {'literal': ['(voice)',\n",
       "       '(voice: Japanese version)',\n",
       "       '(voice) (uncredited)',\n",
       "       '(voice: English version)']}]},\n",
       "   {'eq': ['cn.country_code', {'literal': '[us]'}]},\n",
       "   {'eq': ['it.info', {'literal': 'release dates'}]},\n",
       "   {'exists': 'mi.info'},\n",
       "   {'or': [{'like': ['mi.info', {'literal': 'Japan:%200%'}]},\n",
       "     {'like': ['mi.info', {'literal': 'USA:%200%'}]}]},\n",
       "   {'eq': ['n.gender', {'literal': 'f'}]},\n",
       "   {'like': ['n.name', {'literal': '%An%'}]},\n",
       "   {'eq': ['rt.role', {'literal': 'actress'}]},\n",
       "   {'gt': ['t.production_year', 2000]},\n",
       "   {'eq': ['t.id', 'mi.movie_id']},\n",
       "   {'eq': ['t.id', 'mc.movie_id']},\n",
       "   {'eq': ['t.id', 'ci.movie_id']},\n",
       "   {'eq': ['mc.movie_id', 'ci.movie_id']},\n",
       "   {'eq': ['mc.movie_id', 'mi.movie_id']},\n",
       "   {'eq': ['mi.movie_id', 'ci.movie_id']},\n",
       "   {'eq': ['cn.id', 'mc.company_id']},\n",
       "   {'eq': ['it.id', 'mi.info_type_id']},\n",
       "   {'eq': ['n.id', 'ci.person_id']},\n",
       "   {'eq': ['rt.id', 'ci.role_id']},\n",
       "   {'eq': ['n.id', 'an.person_id']},\n",
       "   {'eq': ['ci.person_id', 'an.person_id']},\n",
       "   {'eq': ['chn.id', 'ci.person_role_id']}]}}"
      ]
     },
     "execution_count": 4,
     "metadata": {},
     "output_type": "execute_result"
    }
   ],
   "source": [
    "q = mosp.MospQuery.parse(example_query)\n",
    "q.query"
   ]
  },
  {
   "cell_type": "code",
   "execution_count": 5,
   "id": "0549cee3-fb38-4fbc-ab4a-c9ef8e0a807e",
   "metadata": {},
   "outputs": [
    {
     "data": {
      "text/plain": [
       "[aka_name AS an,\n",
       " char_name AS chn,\n",
       " cast_info AS ci,\n",
       " company_name AS cn,\n",
       " info_type AS it,\n",
       " movie_companies AS mc,\n",
       " movie_info AS mi,\n",
       " name AS n,\n",
       " role_type AS rt,\n",
       " title AS t]"
      ]
     },
     "execution_count": 5,
     "metadata": {},
     "output_type": "execute_result"
    }
   ],
   "source": [
    "q.collect_tables()"
   ]
  },
  {
   "cell_type": "code",
   "execution_count": 6,
   "id": "6a2acc07-8410-4dd2-96f0-9ac91fd59f90",
   "metadata": {},
   "outputs": [
    {
     "data": {
      "text/plain": [
       "[ci.note in ['(voice)', '(voice: Japanese version)', '(voice) (uncredited)', '(voice: English version)'],\n",
       " cn.country_code = '[us]',\n",
       " it.info = 'release dates',\n",
       " mi.info IS NOT NULL,\n",
       " mi.info LIKE 'Japan:%200%' OR mi.info LIKE 'USA:%200%',\n",
       " n.gender = 'f',\n",
       " n.name LIKE '%An%',\n",
       " rt.role = 'actress',\n",
       " t.production_year > 2000,\n",
       " t.id = mi.movie_id,\n",
       " t.id = mc.movie_id,\n",
       " t.id = ci.movie_id,\n",
       " mc.movie_id = ci.movie_id,\n",
       " mc.movie_id = mi.movie_id,\n",
       " mi.movie_id = ci.movie_id,\n",
       " cn.id = mc.company_id,\n",
       " it.id = mi.info_type_id,\n",
       " n.id = ci.person_id,\n",
       " rt.id = ci.role_id,\n",
       " n.id = an.person_id,\n",
       " ci.person_id = an.person_id,\n",
       " chn.id = ci.person_role_id]"
      ]
     },
     "execution_count": 6,
     "metadata": {},
     "output_type": "execute_result"
    }
   ],
   "source": [
    "q.predicates()"
   ]
  },
  {
   "cell_type": "code",
   "execution_count": 7,
   "id": "0cd30c86-5dc4-4eb1-83c1-b53296bd2017",
   "metadata": {},
   "outputs": [
    {
     "data": {
      "text/plain": [
       "[ci.note in ['(voice)', '(voice: Japanese version)', '(voice) (uncredited)', '(voice: English version)'],\n",
       " cn.country_code = '[us]',\n",
       " it.info = 'release dates',\n",
       " mi.info IS NOT NULL,\n",
       " mi.info LIKE 'Japan:%200%' OR mi.info LIKE 'USA:%200%',\n",
       " n.gender = 'f',\n",
       " n.name LIKE '%An%',\n",
       " rt.role = 'actress',\n",
       " t.production_year > 2000]"
      ]
     },
     "execution_count": 7,
     "metadata": {},
     "output_type": "execute_result"
    }
   ],
   "source": [
    "filters = [pred for pred in q.predicates() if not pred.is_join_predicate()]\n",
    "filters"
   ]
  },
  {
   "cell_type": "code",
   "execution_count": 8,
   "id": "ff48c9b8-2397-4fff-bfea-1fb4dc9c480c",
   "metadata": {},
   "outputs": [
    {
     "data": {
      "text/plain": [
       "[t.id = mi.movie_id,\n",
       " t.id = mc.movie_id,\n",
       " t.id = ci.movie_id,\n",
       " mc.movie_id = ci.movie_id,\n",
       " mc.movie_id = mi.movie_id,\n",
       " mi.movie_id = ci.movie_id,\n",
       " cn.id = mc.company_id,\n",
       " it.id = mi.info_type_id,\n",
       " n.id = ci.person_id,\n",
       " rt.id = ci.role_id,\n",
       " n.id = an.person_id,\n",
       " ci.person_id = an.person_id,\n",
       " chn.id = ci.person_role_id]"
      ]
     },
     "execution_count": 8,
     "metadata": {},
     "output_type": "execute_result"
    }
   ],
   "source": [
    "join_predicates = [pred for pred in q.predicates() if pred.is_join_predicate()]\n",
    "join_predicates"
   ]
  },
  {
   "cell_type": "code",
   "execution_count": 9,
   "id": "ace5f3dd-3eff-4acc-8d41-4e63039d3ed8",
   "metadata": {},
   "outputs": [],
   "source": [
    "class TableJoin:\n",
    "    def __init__(self, predicate: mosp.MospPredicate):\n",
    "        if not predicate.is_join_predicate():\n",
    "            raise ValueError(\"Not a join predicate: '{}'\".format(predicate))\n",
    "        first, second = predicate.parse_left_attribute(), predicate.parse_right_attribute()\n",
    "        if second.table.qualifier() < first.table.qualifier():\n",
    "            first, second = second, first\n",
    "        self.first = first.table\n",
    "        self.second = second.table\n",
    "        self.first_attr = first\n",
    "        self.second_attr = second\n",
    "        self.predicate = predicate\n",
    "        self.pk, self.fk = None, None\n",
    "    \n",
    "    def mark_pk_fk_join(self, pk: db.TableRef, fk: db.TableRef):\n",
    "        if pk not in [self.first, self.second] or fk not in [self.first, self.second]:\n",
    "            raise ValueError(f\"pk {pk} or fk {fk} not in join {self}\")\n",
    "        self.pk = pk\n",
    "        self.fk = fk\n",
    "    \n",
    "    def is_pk_fk_join(self) -> bool:\n",
    "        return self.pk is not None\n",
    "    \n",
    "    def is_n_m_join(self) -> bool:\n",
    "        return self.pk is None\n",
    "    \n",
    "    def __hash__(self):\n",
    "        return hash(self.predicate)\n",
    "    \n",
    "    def __eq__(self, other: object):\n",
    "        if not isinstance(other, TableJoin):\n",
    "            return False\n",
    "        return self.predicate == other.predicate\n",
    "    \n",
    "    def __repr__(self):\n",
    "        return str(self)\n",
    "    \n",
    "    def __str__(self):\n",
    "        if self.is_pk_fk_join():\n",
    "            return f\"JOIN PK {self.pk}, FK {self.fk} ON {self.predicate}\"\n",
    "        return f\"JOIN {self.first}, {self.second} ON {self.predicate}\"\n",
    "    "
   ]
  },
  {
   "cell_type": "code",
   "execution_count": 10,
   "id": "a00c2f08-0ad5-4f5a-affa-eaeb1aea5724",
   "metadata": {},
   "outputs": [
    {
     "data": {
      "text/plain": [
       "{JOIN aka_name AS an, cast_info AS ci ON ci.person_id = an.person_id,\n",
       " JOIN aka_name AS an, name AS n ON n.id = an.person_id,\n",
       " JOIN cast_info AS ci, movie_companies AS mc ON mc.movie_id = ci.movie_id,\n",
       " JOIN cast_info AS ci, movie_info AS mi ON mi.movie_id = ci.movie_id,\n",
       " JOIN cast_info AS ci, name AS n ON n.id = ci.person_id,\n",
       " JOIN cast_info AS ci, role_type AS rt ON rt.id = ci.role_id,\n",
       " JOIN cast_info AS ci, title AS t ON t.id = ci.movie_id,\n",
       " JOIN char_name AS chn, cast_info AS ci ON chn.id = ci.person_role_id,\n",
       " JOIN company_name AS cn, movie_companies AS mc ON cn.id = mc.company_id,\n",
       " JOIN info_type AS it, movie_info AS mi ON it.id = mi.info_type_id,\n",
       " JOIN movie_companies AS mc, movie_info AS mi ON mc.movie_id = mi.movie_id,\n",
       " JOIN movie_companies AS mc, title AS t ON t.id = mc.movie_id,\n",
       " JOIN movie_info AS mi, title AS t ON t.id = mi.movie_id}"
      ]
     },
     "execution_count": 10,
     "metadata": {},
     "output_type": "execute_result"
    }
   ],
   "source": [
    "joins = set([TableJoin(pred) for pred in join_predicates])\n",
    "joins"
   ]
  },
  {
   "cell_type": "code",
   "execution_count": 11,
   "id": "bb24070c-31bb-4a4c-8ed9-710d82c5d59f",
   "metadata": {},
   "outputs": [],
   "source": [
    "dbs = db.DBSchema.get_instance()\n",
    "for join in joins:\n",
    "    pk, fk = None, None\n",
    "    if dbs.is_primary_key(join.first_attr):\n",
    "        pk = join.first\n",
    "    elif dbs.is_primary_key(join.second_attr):\n",
    "        pk = join.second\n",
    "        \n",
    "    if dbs.has_secondary_idx_on(join.first_attr):\n",
    "        fk = join.first\n",
    "    elif dbs.has_secondary_idx_on(join.second_attr):\n",
    "        fk = join.second\n",
    "        \n",
    "    if pk and fk:\n",
    "        join.mark_pk_fk_join(pk, fk)"
   ]
  },
  {
   "cell_type": "markdown",
   "id": "586d9533-7960-418a-93dc-70d4eed770df",
   "metadata": {},
   "source": [
    "PK/FK joins:"
   ]
  },
  {
   "cell_type": "code",
   "execution_count": 12,
   "id": "5a3db5c1-33eb-4a31-973c-caa529d3525b",
   "metadata": {},
   "outputs": [
    {
     "data": {
      "text/plain": [
       "[JOIN PK role_type AS rt, FK cast_info AS ci ON rt.id = ci.role_id,\n",
       " JOIN PK title AS t, FK movie_info AS mi ON t.id = mi.movie_id,\n",
       " JOIN PK title AS t, FK movie_companies AS mc ON t.id = mc.movie_id,\n",
       " JOIN PK info_type AS it, FK movie_info AS mi ON it.id = mi.info_type_id,\n",
       " JOIN PK char_name AS chn, FK cast_info AS ci ON chn.id = ci.person_role_id,\n",
       " JOIN PK name AS n, FK cast_info AS ci ON n.id = ci.person_id,\n",
       " JOIN PK name AS n, FK aka_name AS an ON n.id = an.person_id,\n",
       " JOIN PK title AS t, FK cast_info AS ci ON t.id = ci.movie_id,\n",
       " JOIN PK company_name AS cn, FK movie_companies AS mc ON cn.id = mc.company_id]"
      ]
     },
     "execution_count": 12,
     "metadata": {},
     "output_type": "execute_result"
    }
   ],
   "source": [
    "[join for join in joins if join.is_pk_fk_join()]"
   ]
  },
  {
   "cell_type": "markdown",
   "id": "db46ce9a-8ce9-4519-86a8-81d472cc3798",
   "metadata": {},
   "source": [
    "N:M joins:"
   ]
  },
  {
   "cell_type": "code",
   "execution_count": 13,
   "id": "d4110e31-de5b-44f6-a7b3-b997f9ad0f56",
   "metadata": {},
   "outputs": [
    {
     "data": {
      "text/plain": [
       "[JOIN movie_companies AS mc, movie_info AS mi ON mc.movie_id = mi.movie_id,\n",
       " JOIN aka_name AS an, cast_info AS ci ON ci.person_id = an.person_id,\n",
       " JOIN cast_info AS ci, movie_info AS mi ON mi.movie_id = ci.movie_id,\n",
       " JOIN cast_info AS ci, movie_companies AS mc ON mc.movie_id = ci.movie_id]"
      ]
     },
     "execution_count": 13,
     "metadata": {},
     "output_type": "execute_result"
    }
   ],
   "source": [
    "[join for join in joins if not join.is_pk_fk_join()]"
   ]
  },
  {
   "cell_type": "code",
   "execution_count": 14,
   "id": "89bce652-28dc-4fee-ab52-38d2d86f9e41",
   "metadata": {},
   "outputs": [
    {
     "data": {
      "text/plain": [
       "defaultdict(list,\n",
       "            {cast_info AS ci: [ci.note in ['(voice)', '(voice: Japanese version)', '(voice) (uncredited)', '(voice: English version)']],\n",
       "             company_name AS cn: [cn.country_code = '[us]'],\n",
       "             info_type AS it: [it.info = 'release dates'],\n",
       "             movie_info AS mi: [mi.info IS NOT NULL,\n",
       "              mi.info LIKE 'Japan:%200%' OR mi.info LIKE 'USA:%200%'],\n",
       "             name AS n: [n.gender = 'f', n.name LIKE '%An%'],\n",
       "             role_type AS rt: [rt.role = 'actress'],\n",
       "             title AS t: [t.production_year > 2000]})"
      ]
     },
     "execution_count": 14,
     "metadata": {},
     "output_type": "execute_result"
    }
   ],
   "source": [
    "predicate_map = collections.defaultdict(list)\n",
    "for filter_pred in filters:\n",
    "    predicate_map[filter_pred.parse_left_attribute().table].append(filter_pred)\n",
    "predicate_map"
   ]
  },
  {
   "cell_type": "code",
   "execution_count": 15,
   "id": "81d8b8de-8430-4360-ab87-d993676756e0",
   "metadata": {},
   "outputs": [
    {
     "data": {
      "text/plain": [
       "movie_info AS mi"
      ]
     },
     "execution_count": 15,
     "metadata": {},
     "output_type": "execute_result"
    }
   ],
   "source": [
    "predicate_map[db.TableRef(\"movie_info\", \"mi\")][0].parse_left_attribute().table"
   ]
  },
  {
   "cell_type": "code",
   "execution_count": 16,
   "id": "1d930566-f17d-48f5-b8c1-681c39bd2ef9",
   "metadata": {},
   "outputs": [
    {
     "data": {
      "text/plain": [
       "mi.info IS NOT NULL AND mi.info LIKE 'Japan:%200%' OR mi.info LIKE 'USA:%200%'"
      ]
     },
     "execution_count": 16,
     "metadata": {},
     "output_type": "execute_result"
    }
   ],
   "source": [
    "p = mosp.CompoundMospFilterPredicate.build_and_predicate(predicate_map[db.TableRef(\"movie_info\", \"mi\")])\n",
    "p"
   ]
  },
  {
   "cell_type": "code",
   "execution_count": 17,
   "id": "d42b908b-73b2-492a-9d6b-89206ddc785f",
   "metadata": {},
   "outputs": [
    {
     "name": "stdout",
     "output_type": "stream",
     "text": [
      "explain (format json) SELECT * FROM movie_info AS mi WHERE mi.info IS NOT NULL AND (mi.info LIKE 'Japan:%200%' OR mi.info LIKE 'USA:%200%')\n"
     ]
    },
    {
     "data": {
      "text/plain": [
       "671749"
      ]
     },
     "execution_count": 17,
     "metadata": {},
     "output_type": "execute_result"
    }
   ],
   "source": [
    "p.estimate_result_rows()"
   ]
  },
  {
   "cell_type": "code",
   "execution_count": 23,
   "id": "acd8bd54-9960-4a25-9eff-cc9dbc492793",
   "metadata": {},
   "outputs": [
    {
     "data": {
      "text/plain": [
       "mi.info"
      ]
     },
     "execution_count": 23,
     "metadata": {},
     "output_type": "execute_result"
    }
   ],
   "source": [
    "a = p.parse_left_attribute()\n",
    "a"
   ]
  },
  {
   "cell_type": "code",
   "execution_count": 66,
   "id": "5552cd75-c067-47bf-9d00-e5cc87ed8c7c",
   "metadata": {},
   "outputs": [],
   "source": [
    "dbs = db.DBSchema.get_instance()\n",
    "cur = dbs.cursor"
   ]
  },
  {
   "cell_type": "code",
   "execution_count": 26,
   "id": "bb283b79-9d71-4fe0-bf06-adad5f06b91a",
   "metadata": {},
   "outputs": [],
   "source": [
    "cur.execute(\"select tablename, attname, most_common_vals, most_common_freqs from pg_stats where tablename = %s and attname = %s\", (a.table.full_name, a.attribute))\n",
    "rs = cur.fetchone()\n",
    "tablename, attname, mcvs, mcfs = rs"
   ]
  },
  {
   "cell_type": "code",
   "execution_count": 73,
   "id": "3e7a43f8-4556-429c-82aa-2cb5d4fafc6a",
   "metadata": {},
   "outputs": [
    {
     "data": {
      "text/plain": [
       "[('Color', 0.0649), ('English', 0.052733332), ('USA', 0.037766665)]"
      ]
     },
     "execution_count": 73,
     "metadata": {},
     "output_type": "execute_result"
    }
   ],
   "source": [
    "dbs.load_most_common_values(a, k=3)"
   ]
  },
  {
   "cell_type": "code",
   "execution_count": 7,
   "id": "0689933e-123b-4d6a-90cd-9f562f13d6b0",
   "metadata": {},
   "outputs": [
    {
     "data": {
      "text/plain": [
       "{'select': '*',\n",
       " 'from': {'value': 'foo', 'name': {'TABLESAMPLE': 'bernoulli'}},\n",
       " 'where': {'lt': ['a', 42]}}"
      ]
     },
     "execution_count": 7,
     "metadata": {},
     "output_type": "execute_result"
    }
   ],
   "source": [
    "mosp.parse(\"SELECT * FROM foo TABLESAMPLE(bernoulli) WHERE a < 42\")"
   ]
  },
  {
   "cell_type": "code",
   "execution_count": 8,
   "id": "101a163d-9d66-4373-8a01-e563f0e9e152",
   "metadata": {},
   "outputs": [
    {
     "ename": "ParseException",
     "evalue": "Expecting {union} | {intersect} | {except} | {minus} | {order by} | {offset} | {fetch} | {limit} | {union} | {intersect} | {except} | {minus} | {StringEnd}, found \"TABLESAMPL\" (at char 20), (line:1, col:21)",
     "output_type": "error",
     "traceback": [
      "\u001b[0;31m---------------------------------------------------------------------------\u001b[0m",
      "\u001b[0;31mParseException\u001b[0m                            Traceback (most recent call last)",
      "File \u001b[0;32m~/Projekte/Uni/DiplomArbeit-QueryOpt/dt-venv/lib/python3.8/site-packages/mo_parsing/core.py:454\u001b[0m, in \u001b[0;36mParserElement._parse\u001b[0;34m(self, string, start, do_actions)\u001b[0m\n\u001b[1;32m    453\u001b[0m \u001b[38;5;28;01mtry\u001b[39;00m:\n\u001b[0;32m--> 454\u001b[0m     result \u001b[38;5;241m=\u001b[39m \u001b[38;5;28;43mself\u001b[39;49m\u001b[38;5;241;43m.\u001b[39;49m\u001b[43mparse_impl\u001b[49m\u001b[43m(\u001b[49m\u001b[43mstring\u001b[49m\u001b[43m,\u001b[49m\u001b[43m \u001b[49m\u001b[43mstart\u001b[49m\u001b[43m,\u001b[49m\u001b[43m \u001b[49m\u001b[43mdo_actions\u001b[49m\u001b[43m)\u001b[49m\n\u001b[1;32m    455\u001b[0m \u001b[38;5;28;01mexcept\u001b[39;00m ParseException \u001b[38;5;28;01mas\u001b[39;00m cause:\n",
      "File \u001b[0;32m~/Projekte/Uni/DiplomArbeit-QueryOpt/dt-venv/lib/python3.8/site-packages/mo_parsing/tokens.py:214\u001b[0m, in \u001b[0;36mKeyword.parse_impl\u001b[0;34m(self, string, start, do_actions)\u001b[0m\n\u001b[1;32m    211\u001b[0m     \u001b[38;5;28;01mreturn\u001b[39;00m ParseResults(\n\u001b[1;32m    212\u001b[0m         \u001b[38;5;28mself\u001b[39m, start, found\u001b[38;5;241m.\u001b[39mend(), [\u001b[38;5;28mself\u001b[39m\u001b[38;5;241m.\u001b[39mparser_config\u001b[38;5;241m.\u001b[39mmatch], []\n\u001b[1;32m    213\u001b[0m     )\n\u001b[0;32m--> 214\u001b[0m \u001b[38;5;28;01mraise\u001b[39;00m ParseException(\u001b[38;5;28mself\u001b[39m, start, string)\n",
      "\u001b[0;31mParseException\u001b[0m: Expecting union, found \"TABLESAMPL\" (at char 20), (line:1, col:21)",
      "\nThe above exception was the direct cause of the following exception:\n",
      "\u001b[0;31mParseException\u001b[0m                            Traceback (most recent call last)",
      "File \u001b[0;32m~/Projekte/Uni/DiplomArbeit-QueryOpt/dt-venv/lib/python3.8/site-packages/mo_parsing/core.py:454\u001b[0m, in \u001b[0;36mParserElement._parse\u001b[0;34m(self, string, start, do_actions)\u001b[0m\n\u001b[1;32m    453\u001b[0m \u001b[38;5;28;01mtry\u001b[39;00m:\n\u001b[0;32m--> 454\u001b[0m     result \u001b[38;5;241m=\u001b[39m \u001b[38;5;28;43mself\u001b[39;49m\u001b[38;5;241;43m.\u001b[39;49m\u001b[43mparse_impl\u001b[49m\u001b[43m(\u001b[49m\u001b[43mstring\u001b[49m\u001b[43m,\u001b[49m\u001b[43m \u001b[49m\u001b[43mstart\u001b[49m\u001b[43m,\u001b[49m\u001b[43m \u001b[49m\u001b[43mdo_actions\u001b[49m\u001b[43m)\u001b[49m\n\u001b[1;32m    455\u001b[0m \u001b[38;5;28;01mexcept\u001b[39;00m ParseException \u001b[38;5;28;01mas\u001b[39;00m cause:\n",
      "File \u001b[0;32m~/Projekte/Uni/DiplomArbeit-QueryOpt/dt-venv/lib/python3.8/site-packages/mo_parsing/expressions.py:283\u001b[0m, in \u001b[0;36mAnd.parse_impl\u001b[0;34m(self, string, start, do_actions)\u001b[0m\n\u001b[1;32m    282\u001b[0m         \u001b[38;5;28;01melse\u001b[39;00m:\n\u001b[0;32m--> 283\u001b[0m             \u001b[38;5;28;01mraise\u001b[39;00m pe \u001b[38;5;28;01mfrom\u001b[39;00m \u001b[38;5;28mNone\u001b[39m\n\u001b[1;32m    285\u001b[0m \u001b[38;5;28;01mreturn\u001b[39;00m ParseResults(\u001b[38;5;28mself\u001b[39m, start, end, acc, failures)\n",
      "File \u001b[0;32m~/Projekte/Uni/DiplomArbeit-QueryOpt/dt-venv/lib/python3.8/site-packages/mo_parsing/expressions.py:269\u001b[0m, in \u001b[0;36mAnd.parse_impl\u001b[0;34m(self, string, start, do_actions)\u001b[0m\n\u001b[1;32m    268\u001b[0m \u001b[38;5;28;01mtry\u001b[39;00m:\n\u001b[0;32m--> 269\u001b[0m     result \u001b[38;5;241m=\u001b[39m \u001b[43mexpr\u001b[49m\u001b[38;5;241;43m.\u001b[39;49m\u001b[43m_parse\u001b[49m\u001b[43m(\u001b[49m\u001b[43mstring\u001b[49m\u001b[43m,\u001b[49m\u001b[43m \u001b[49m\u001b[43mindex\u001b[49m\u001b[43m,\u001b[49m\u001b[43m \u001b[49m\u001b[43mdo_actions\u001b[49m\u001b[43m)\u001b[49m\n\u001b[1;32m    270\u001b[0m     acc\u001b[38;5;241m.\u001b[39mappend(result)\n",
      "File \u001b[0;32m~/Projekte/Uni/DiplomArbeit-QueryOpt/dt-venv/lib/python3.8/site-packages/mo_parsing/core.py:459\u001b[0m, in \u001b[0;36mParserElement._parse\u001b[0;34m(self, string, start, do_actions)\u001b[0m\n\u001b[1;32m    456\u001b[0m     \u001b[38;5;28mself\u001b[39m\u001b[38;5;241m.\u001b[39mparser_config\u001b[38;5;241m.\u001b[39mfail_action \u001b[38;5;129;01mand\u001b[39;00m \u001b[38;5;28mself\u001b[39m\u001b[38;5;241m.\u001b[39mparser_config\u001b[38;5;241m.\u001b[39mfail_action(\n\u001b[1;32m    457\u001b[0m         \u001b[38;5;28mself\u001b[39m, start, string, cause\n\u001b[1;32m    458\u001b[0m     )\n\u001b[0;32m--> 459\u001b[0m     \u001b[38;5;28;01mraise\u001b[39;00m ParseException(\u001b[38;5;28mself\u001b[39m, start, string, cause\u001b[38;5;241m=\u001b[39mcause) \u001b[38;5;28;01mfrom\u001b[39;00m \u001b[38;5;28mNone\u001b[39m\n\u001b[1;32m    461\u001b[0m \u001b[38;5;28;01mif\u001b[39;00m do_actions \u001b[38;5;129;01mor\u001b[39;00m \u001b[38;5;28mself\u001b[39m\u001b[38;5;241m.\u001b[39mparser_config\u001b[38;5;241m.\u001b[39mcallDuringTry:\n",
      "\u001b[0;31mParseException\u001b[0m: Expecting union, found \"TABLESAMPL\" (at char 20), (line:1, col:21)",
      "\nThe above exception was the direct cause of the following exception:\n",
      "\u001b[0;31mParseException\u001b[0m                            Traceback (most recent call last)",
      "File \u001b[0;32m~/Projekte/Uni/DiplomArbeit-QueryOpt/dt-venv/lib/python3.8/site-packages/mo_parsing/expressions.py:507\u001b[0m, in \u001b[0;36mMatchFirst.parse_impl\u001b[0;34m(self, string, start, do_actions)\u001b[0m\n\u001b[1;32m    506\u001b[0m \u001b[38;5;28;01mtry\u001b[39;00m:\n\u001b[0;32m--> 507\u001b[0m     result \u001b[38;5;241m=\u001b[39m \u001b[43me\u001b[49m\u001b[38;5;241;43m.\u001b[39;49m\u001b[43m_parse\u001b[49m\u001b[43m(\u001b[49m\u001b[43mstring\u001b[49m\u001b[43m,\u001b[49m\u001b[43m \u001b[49m\u001b[43mstart\u001b[49m\u001b[43m,\u001b[49m\u001b[43m \u001b[49m\u001b[43mdo_actions\u001b[49m\u001b[43m)\u001b[49m\n\u001b[1;32m    508\u001b[0m     \u001b[38;5;28;01mreturn\u001b[39;00m ParseResults(\n\u001b[1;32m    509\u001b[0m         \u001b[38;5;28mself\u001b[39m, result\u001b[38;5;241m.\u001b[39mstart, result\u001b[38;5;241m.\u001b[39mend, [result], result\u001b[38;5;241m.\u001b[39mfailures\n\u001b[1;32m    510\u001b[0m     )\n",
      "File \u001b[0;32m~/Projekte/Uni/DiplomArbeit-QueryOpt/dt-venv/lib/python3.8/site-packages/mo_parsing/core.py:459\u001b[0m, in \u001b[0;36mParserElement._parse\u001b[0;34m(self, string, start, do_actions)\u001b[0m\n\u001b[1;32m    456\u001b[0m     \u001b[38;5;28mself\u001b[39m\u001b[38;5;241m.\u001b[39mparser_config\u001b[38;5;241m.\u001b[39mfail_action \u001b[38;5;129;01mand\u001b[39;00m \u001b[38;5;28mself\u001b[39m\u001b[38;5;241m.\u001b[39mparser_config\u001b[38;5;241m.\u001b[39mfail_action(\n\u001b[1;32m    457\u001b[0m         \u001b[38;5;28mself\u001b[39m, start, string, cause\n\u001b[1;32m    458\u001b[0m     )\n\u001b[0;32m--> 459\u001b[0m     \u001b[38;5;28;01mraise\u001b[39;00m ParseException(\u001b[38;5;28mself\u001b[39m, start, string, cause\u001b[38;5;241m=\u001b[39mcause) \u001b[38;5;28;01mfrom\u001b[39;00m \u001b[38;5;28mNone\u001b[39m\n\u001b[1;32m    461\u001b[0m \u001b[38;5;28;01mif\u001b[39;00m do_actions \u001b[38;5;129;01mor\u001b[39;00m \u001b[38;5;28mself\u001b[39m\u001b[38;5;241m.\u001b[39mparser_config\u001b[38;5;241m.\u001b[39mcallDuringTry:\n",
      "\u001b[0;31mParseException\u001b[0m: Expecting union, found \"TABLESAMPL\" (at char 20), (line:1, col:21)",
      "\nThe above exception was the direct cause of the following exception:\n",
      "\u001b[0;31mParseException\u001b[0m                            Traceback (most recent call last)",
      "\u001b[0;31mParseException\u001b[0m: Expecting {union} | {intersect} | {except} | {minus}, found \"TABLESAMPL\" (at char 20), (line:1, col:21)",
      "\nThe above exception was the direct cause of the following exception:\n",
      "\u001b[0;31mParseException\u001b[0m                            Traceback (most recent call last)",
      "Input \u001b[0;32mIn [8]\u001b[0m, in \u001b[0;36m<cell line: 1>\u001b[0;34m()\u001b[0m\n\u001b[0;32m----> 1\u001b[0m \u001b[43mmosp\u001b[49m\u001b[38;5;241;43m.\u001b[39;49m\u001b[43mparse\u001b[49m\u001b[43m(\u001b[49m\u001b[38;5;124;43m\"\u001b[39;49m\u001b[38;5;124;43mSELECT * FROM foo f TABLESAMPLE(bernoulli) WHERE f.a < 42\u001b[39;49m\u001b[38;5;124;43m\"\u001b[39;49m\u001b[43m)\u001b[49m\n",
      "File \u001b[0;32m~/Projekte/Uni/DiplomArbeit-QueryOpt/ues/transform/mosp.py:405\u001b[0m, in \u001b[0;36mparse\u001b[0;34m(query)\u001b[0m\n\u001b[1;32m    404\u001b[0m \u001b[38;5;28;01mdef\u001b[39;00m \u001b[38;5;21mparse\u001b[39m(query):\n\u001b[0;32m--> 405\u001b[0m     \u001b[38;5;28;01mreturn\u001b[39;00m \u001b[43mmosp\u001b[49m\u001b[38;5;241;43m.\u001b[39;49m\u001b[43mparse\u001b[49m\u001b[43m(\u001b[49m\u001b[43mquery\u001b[49m\u001b[43m)\u001b[49m\n",
      "File \u001b[0;32m~/Projekte/Uni/DiplomArbeit-QueryOpt/dt-venv/lib/python3.8/site-packages/mo_sql_parsing/__init__.py:37\u001b[0m, in \u001b[0;36mparse\u001b[0;34m(sql, null, calls)\u001b[0m\n\u001b[1;32m     35\u001b[0m \u001b[38;5;28;01mif\u001b[39;00m \u001b[38;5;129;01mnot\u001b[39;00m common_parser:\n\u001b[1;32m     36\u001b[0m     common_parser \u001b[38;5;241m=\u001b[39m sql_parser\u001b[38;5;241m.\u001b[39mcommon_parser()\n\u001b[0;32m---> 37\u001b[0m result \u001b[38;5;241m=\u001b[39m \u001b[43m_parse\u001b[49m\u001b[43m(\u001b[49m\u001b[43mcommon_parser\u001b[49m\u001b[43m,\u001b[49m\u001b[43m \u001b[49m\u001b[43msql\u001b[49m\u001b[43m,\u001b[49m\u001b[43m \u001b[49m\u001b[43mnull\u001b[49m\u001b[43m,\u001b[49m\u001b[43m \u001b[49m\u001b[43mcalls\u001b[49m\u001b[43m)\u001b[49m\n\u001b[1;32m     38\u001b[0m \u001b[38;5;28;01mreturn\u001b[39;00m result\n",
      "File \u001b[0;32m~/Projekte/Uni/DiplomArbeit-QueryOpt/dt-venv/lib/python3.8/site-packages/mo_sql_parsing/__init__.py:78\u001b[0m, in \u001b[0;36m_parse\u001b[0;34m(parser, sql, null, calls)\u001b[0m\n\u001b[1;32m     76\u001b[0m utils\u001b[38;5;241m.\u001b[39mscrub_op \u001b[38;5;241m=\u001b[39m calls\n\u001b[1;32m     77\u001b[0m sql \u001b[38;5;241m=\u001b[39m sql\u001b[38;5;241m.\u001b[39mrstrip()\u001b[38;5;241m.\u001b[39mrstrip(\u001b[38;5;124m\"\u001b[39m\u001b[38;5;124m;\u001b[39m\u001b[38;5;124m\"\u001b[39m)\n\u001b[0;32m---> 78\u001b[0m parse_result \u001b[38;5;241m=\u001b[39m \u001b[43mparser\u001b[49m\u001b[38;5;241;43m.\u001b[39;49m\u001b[43mparse_string\u001b[49m\u001b[43m(\u001b[49m\u001b[43msql\u001b[49m\u001b[43m,\u001b[49m\u001b[43m \u001b[49m\u001b[43mparse_all\u001b[49m\u001b[38;5;241;43m=\u001b[39;49m\u001b[38;5;28;43;01mTrue\u001b[39;49;00m\u001b[43m)\u001b[49m\n\u001b[1;32m     79\u001b[0m output \u001b[38;5;241m=\u001b[39m scrub(parse_result)\n\u001b[1;32m     80\u001b[0m \u001b[38;5;28;01mfor\u001b[39;00m o, n \u001b[38;5;129;01min\u001b[39;00m utils\u001b[38;5;241m.\u001b[39mnull_locations:\n",
      "File \u001b[0;32m~/Projekte/Uni/DiplomArbeit-QueryOpt/dt-venv/lib/python3.8/site-packages/mo_parsing/core.py:78\u001b[0m, in \u001b[0;36mentrypoint.<locals>.output\u001b[0;34m(*args, **kwargs)\u001b[0m\n\u001b[1;32m     75\u001b[0m     \u001b[38;5;28;01mexcept\u001b[39;00m \u001b[38;5;167;01mException\u001b[39;00m \u001b[38;5;28;01mas\u001b[39;00m e:\n\u001b[1;32m     76\u001b[0m         Log\u001b[38;5;241m.\u001b[39merror(\u001b[38;5;124m\"\u001b[39m\u001b[38;5;124mreset action failed\u001b[39m\u001b[38;5;124m\"\u001b[39m, cause\u001b[38;5;241m=\u001b[39me)\n\u001b[0;32m---> 78\u001b[0m \u001b[38;5;28;01mreturn\u001b[39;00m \u001b[43mfunc\u001b[49m\u001b[43m(\u001b[49m\u001b[38;5;241;43m*\u001b[39;49m\u001b[43margs\u001b[49m\u001b[43m,\u001b[49m\u001b[43m \u001b[49m\u001b[38;5;241;43m*\u001b[39;49m\u001b[38;5;241;43m*\u001b[39;49m\u001b[43mkwargs\u001b[49m\u001b[43m)\u001b[49m\n",
      "File \u001b[0;32m~/Projekte/Uni/DiplomArbeit-QueryOpt/dt-venv/lib/python3.8/site-packages/mo_parsing/core.py:140\u001b[0m, in \u001b[0;36mParser.parse\u001b[0;34m(self, string, parse_all)\u001b[0m\n\u001b[1;32m    115\u001b[0m \u001b[38;5;129m@entrypoint\u001b[39m\n\u001b[1;32m    116\u001b[0m \u001b[38;5;28;01mdef\u001b[39;00m \u001b[38;5;21mparse\u001b[39m(\u001b[38;5;28mself\u001b[39m, string, parse_all\u001b[38;5;241m=\u001b[39m\u001b[38;5;28;01mFalse\u001b[39;00m):\n\u001b[1;32m    117\u001b[0m     \u001b[38;5;124;03m\"\"\"\u001b[39;00m\n\u001b[1;32m    118\u001b[0m \u001b[38;5;124;03m    Parse a string with respect to the parser definition. This function is intended as the primary interface to the\u001b[39;00m\n\u001b[1;32m    119\u001b[0m \u001b[38;5;124;03m    client code.\u001b[39;00m\n\u001b[0;32m   (...)\u001b[0m\n\u001b[1;32m    138\u001b[0m \n\u001b[1;32m    139\u001b[0m \u001b[38;5;124;03m    \"\"\"\u001b[39;00m\n\u001b[0;32m--> 140\u001b[0m     \u001b[38;5;28;01mreturn\u001b[39;00m \u001b[38;5;28;43mself\u001b[39;49m\u001b[38;5;241;43m.\u001b[39;49m\u001b[43m_parseString\u001b[49m\u001b[43m(\u001b[49m\u001b[43mstring\u001b[49m\u001b[43m,\u001b[49m\u001b[43m \u001b[49m\u001b[43mparse_all\u001b[49m\u001b[38;5;241;43m=\u001b[39;49m\u001b[43mparse_all\u001b[49m\u001b[43m)\u001b[49m\n",
      "File \u001b[0;32m~/Projekte/Uni/DiplomArbeit-QueryOpt/dt-venv/lib/python3.8/site-packages/mo_parsing/core.py:162\u001b[0m, in \u001b[0;36mParser._parseString\u001b[0;34m(self, string, parse_all)\u001b[0m\n\u001b[1;32m    160\u001b[0m         \u001b[38;5;28;01mreturn\u001b[39;00m tokens\u001b[38;5;241m.\u001b[39mtokens[\u001b[38;5;241m0\u001b[39m]\n\u001b[1;32m    161\u001b[0m \u001b[38;5;28;01mexcept\u001b[39;00m ParseException \u001b[38;5;28;01mas\u001b[39;00m cause:\n\u001b[0;32m--> 162\u001b[0m     \u001b[38;5;28;01mraise\u001b[39;00m cause\u001b[38;5;241m.\u001b[39mbest_cause \u001b[38;5;28;01mfrom\u001b[39;00m \u001b[38;5;28mNone\u001b[39m\n",
      "\u001b[0;31mParseException\u001b[0m: Expecting {union} | {intersect} | {except} | {minus} | {order by} | {offset} | {fetch} | {limit} | {union} | {intersect} | {except} | {minus} | {StringEnd}, found \"TABLESAMPL\" (at char 20), (line:1, col:21)"
     ]
    }
   ],
   "source": [
    "mosp.parse(\"SELECT * FROM foo f TABLESAMPLE(bernoulli) WHERE f.a < 42\")"
   ]
  },
  {
   "cell_type": "code",
   "execution_count": null,
   "id": "326321ba-c994-4e80-8284-dda616bcde62",
   "metadata": {},
   "outputs": [],
   "source": []
  }
 ],
 "metadata": {
  "kernelspec": {
   "display_name": "Python 3 (ipykernel)",
   "language": "python",
   "name": "python3"
  },
  "language_info": {
   "codemirror_mode": {
    "name": "ipython",
    "version": 3
   },
   "file_extension": ".py",
   "mimetype": "text/x-python",
   "name": "python",
   "nbconvert_exporter": "python",
   "pygments_lexer": "ipython3",
   "version": "3.8.10"
  }
 },
 "nbformat": 4,
 "nbformat_minor": 5
}
