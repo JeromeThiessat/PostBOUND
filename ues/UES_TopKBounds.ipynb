{
 "cells": [
  {
   "cell_type": "markdown",
   "id": "8c739e65-95e8-47b9-a3a1-f45eeb177e5c",
   "metadata": {},
   "source": [
    "# Top-k upper bounds"
   ]
  },
  {
   "cell_type": "code",
   "execution_count": 1,
   "id": "7b3e33ce-cd59-432d-ae70-9141744e4ae9",
   "metadata": {},
   "outputs": [],
   "source": [
    "%load_ext autoreload\n",
    "%autoreload 2"
   ]
  },
  {
   "cell_type": "code",
   "execution_count": 2,
   "id": "3c852b73-4e13-49f6-9e63-8f4b5a3a01b1",
   "metadata": {},
   "outputs": [],
   "source": [
    "import json\n",
    "\n",
    "from typing import Dict, List\n",
    "\n",
    "import numpy as np\n",
    "import pandas as pd\n",
    "\n",
    "from analysis import selection\n",
    "from postgres import explain\n",
    "from transform import db, mosp"
   ]
  },
  {
   "cell_type": "code",
   "execution_count": 3,
   "id": "7b833203-8274-4831-9b72-36c1aec1865f",
   "metadata": {},
   "outputs": [],
   "source": [
    "def read_workload(path: str) -> pd.DataFrame:\n",
    "    df = pd.read_csv(path, converters={\"query\": mosp.MospQuery.parse, \"ues_bounds\": json.loads, \"query_result\": json.loads})\n",
    "    df = selection.best_query_repetition(df, [\"label\"], performance_col=\"query_rt_total\")\n",
    "    df = selection.reorder(df)\n",
    "    df.rename(columns={\"query_rt_total\": \"rt\"}, inplace=True)\n",
    "    df.set_index(\"label\", inplace=True)\n",
    "    df.ues_final_bound = df.ues_final_bound.astype(\"float\")\n",
    "    return df"
   ]
  },
  {
   "cell_type": "code",
   "execution_count": 4,
   "id": "ea9fa809-7da0-4e52-9ebf-8286c4ac26f6",
   "metadata": {},
   "outputs": [],
   "source": [
    "df_top1 = read_workload(\"workloads/job-ues-results-top1.csv\")\n",
    "df_topk = read_workload(\"workloads/job-ues-results-topk.csv\")"
   ]
  },
  {
   "cell_type": "code",
   "execution_count": 5,
   "id": "8aac4766-e0cc-4f63-aa70-858e619b54b7",
   "metadata": {},
   "outputs": [
    {
     "data": {
      "text/html": [
       "<div>\n",
       "<style scoped>\n",
       "    .dataframe tbody tr th:only-of-type {\n",
       "        vertical-align: middle;\n",
       "    }\n",
       "\n",
       "    .dataframe tbody tr th {\n",
       "        vertical-align: top;\n",
       "    }\n",
       "\n",
       "    .dataframe thead th {\n",
       "        text-align: right;\n",
       "    }\n",
       "</style>\n",
       "<table border=\"1\" class=\"dataframe\">\n",
       "  <thead>\n",
       "    <tr style=\"text-align: right;\">\n",
       "      <th></th>\n",
       "      <th>ues_final_bound_top1</th>\n",
       "      <th>ues_final_bound_topk</th>\n",
       "    </tr>\n",
       "    <tr>\n",
       "      <th>label</th>\n",
       "      <th></th>\n",
       "      <th></th>\n",
       "    </tr>\n",
       "  </thead>\n",
       "  <tbody>\n",
       "    <tr>\n",
       "      <th>1a</th>\n",
       "      <td>1.132360e+05</td>\n",
       "      <td>950.0</td>\n",
       "    </tr>\n",
       "    <tr>\n",
       "      <th>1b</th>\n",
       "      <td>9.151500e+06</td>\n",
       "      <td>950.0</td>\n",
       "    </tr>\n",
       "    <tr>\n",
       "      <th>1c</th>\n",
       "      <td>6.900800e+04</td>\n",
       "      <td>950.0</td>\n",
       "    </tr>\n",
       "    <tr>\n",
       "      <th>1d</th>\n",
       "      <td>9.151500e+06</td>\n",
       "      <td>950.0</td>\n",
       "    </tr>\n",
       "    <tr>\n",
       "      <th>2a</th>\n",
       "      <td>1.333058e+07</td>\n",
       "      <td>1522172.0</td>\n",
       "    </tr>\n",
       "    <tr>\n",
       "      <th>...</th>\n",
       "      <td>...</td>\n",
       "      <td>...</td>\n",
       "    </tr>\n",
       "    <tr>\n",
       "      <th>32a</th>\n",
       "      <td>7.480087e+06</td>\n",
       "      <td>7480087.0</td>\n",
       "    </tr>\n",
       "    <tr>\n",
       "      <th>32b</th>\n",
       "      <td>7.480087e+06</td>\n",
       "      <td>7480087.0</td>\n",
       "    </tr>\n",
       "    <tr>\n",
       "      <th>33a</th>\n",
       "      <td>9.404592e+09</td>\n",
       "      <td>3744966.0</td>\n",
       "    </tr>\n",
       "    <tr>\n",
       "      <th>33b</th>\n",
       "      <td>3.134864e+09</td>\n",
       "      <td>1806332.0</td>\n",
       "    </tr>\n",
       "    <tr>\n",
       "      <th>33c</th>\n",
       "      <td>9.404592e+09</td>\n",
       "      <td>3744966.0</td>\n",
       "    </tr>\n",
       "  </tbody>\n",
       "</table>\n",
       "<p>113 rows × 2 columns</p>\n",
       "</div>"
      ],
      "text/plain": [
       "       ues_final_bound_top1  ues_final_bound_topk\n",
       "label                                            \n",
       "1a             1.132360e+05                 950.0\n",
       "1b             9.151500e+06                 950.0\n",
       "1c             6.900800e+04                 950.0\n",
       "1d             9.151500e+06                 950.0\n",
       "2a             1.333058e+07             1522172.0\n",
       "...                     ...                   ...\n",
       "32a            7.480087e+06             7480087.0\n",
       "32b            7.480087e+06             7480087.0\n",
       "33a            9.404592e+09             3744966.0\n",
       "33b            3.134864e+09             1806332.0\n",
       "33c            9.404592e+09             3744966.0\n",
       "\n",
       "[113 rows x 2 columns]"
      ]
     },
     "execution_count": 5,
     "metadata": {},
     "output_type": "execute_result"
    }
   ],
   "source": [
    "bounds_df = pd.merge(df_top1[[\"query\", \"rt\", \"ues_bounds\", \"ues_final_bound\"]], df_topk[[\"query\", \"rt\", \"ues_bounds\", \"ues_final_bound\"]],\n",
    "                     left_index=True, right_index=True, suffixes=(\"_top1\", \"_topk\"))\n",
    "bounds_df[[\"ues_final_bound_top1\", \"ues_final_bound_topk\"]]"
   ]
  },
  {
   "cell_type": "code",
   "execution_count": 6,
   "id": "eddaba42-d520-457b-98cd-b5b099224547",
   "metadata": {},
   "outputs": [
    {
     "data": {
      "text/plain": [
       "count     113.000000\n",
       "mean      543.461335\n",
       "std      1428.227092\n",
       "min         1.000000\n",
       "25%         8.757606\n",
       "50%        31.294728\n",
       "75%       312.403167\n",
       "max      9633.157895\n",
       "Name: bound_reduction, dtype: float64"
      ]
     },
     "execution_count": 6,
     "metadata": {},
     "output_type": "execute_result"
    }
   ],
   "source": [
    "bounds_df[\"bound_reduction\"] = bounds_df[\"ues_final_bound_top1\"] / bounds_df[\"ues_final_bound_topk\"]\n",
    "bounds_df[\"bound_reduction\"].describe()"
   ]
  }
 ],
 "metadata": {
  "kernelspec": {
   "display_name": "Python 3 (ipykernel)",
   "language": "python",
   "name": "python3"
  },
  "language_info": {
   "codemirror_mode": {
    "name": "ipython",
    "version": 3
   },
   "file_extension": ".py",
   "mimetype": "text/x-python",
   "name": "python",
   "nbconvert_exporter": "python",
   "pygments_lexer": "ipython3",
   "version": "3.8.10"
  }
 },
 "nbformat": 4,
 "nbformat_minor": 5
}
