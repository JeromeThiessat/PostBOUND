{
 "cells": [
  {
   "cell_type": "markdown",
   "id": "8c739e65-95e8-47b9-a3a1-f45eeb177e5c",
   "metadata": {},
   "source": [
    "# Top-k upper bounds"
   ]
  },
  {
   "cell_type": "code",
   "execution_count": 1,
   "id": "7b3e33ce-cd59-432d-ae70-9141744e4ae9",
   "metadata": {},
   "outputs": [],
   "source": [
    "%load_ext autoreload\n",
    "%autoreload 2"
   ]
  },
  {
   "cell_type": "code",
   "execution_count": 2,
   "id": "3c852b73-4e13-49f6-9e63-8f4b5a3a01b1",
   "metadata": {},
   "outputs": [],
   "source": [
    "import json\n",
    "\n",
    "from typing import Dict, List\n",
    "\n",
    "import matplotlib.pyplot as plt\n",
    "import numpy as np\n",
    "import pandas as pd\n",
    "import seaborn as sns\n",
    "\n",
    "from analysis import selection\n",
    "from postgres import explain\n",
    "from transform import db, mosp"
   ]
  },
  {
   "cell_type": "code",
   "execution_count": 3,
   "id": "1e9c469d-e991-4828-822f-f70a5d5e2f24",
   "metadata": {},
   "outputs": [],
   "source": [
    "def read_workload(topk_length: int = np.nan, raw: str = \"\") -> pd.DataFrame:\n",
    "    path = f\"workloads/topk-setups/job-ues-results-topk-{topk_length}-linear.csv\" if not raw else raw\n",
    "    df = pd.read_csv(path, converters={\"query\": mosp.MospQuery.parse, \"ues_bounds\": json.loads, \"query_result\": json.loads})\n",
    "    df = selection.best_query_repetition(df, \"label\", performance_col=\"query_rt_total\")\n",
    "    df = selection.reorder(df)\n",
    "    df.set_index(\"label\", inplace=True)\n",
    "    df[\"ues_final_bound\"] = df[\"ues_final_bound\"].astype(\"float\")\n",
    "    \n",
    "    df.rename(columns={\"query_rt_total\": \"rt\", \"ues_final_bound\": \"bound\"}, inplace=True)\n",
    "    if not raw:\n",
    "        df[\"mode\"] = \"top-k\"\n",
    "        df[\"topk_length\"] = topk_length\n",
    "    else:\n",
    "        df[\"mode\"] = \"ues\"\n",
    "        df[\"topk_length\"] = 0\n",
    "    return df"
   ]
  },
  {
   "cell_type": "code",
   "execution_count": 4,
   "id": "5edcef93-581a-41ef-b45c-8c45f58d8ef7",
   "metadata": {},
   "outputs": [
    {
     "name": "stdout",
     "output_type": "stream",
     "text": [
      "Reading UES\n",
      "Reading Top-5\n",
      "Reading Top-15\n",
      "Reading Top-50\n",
      "Reading Top-100\n"
     ]
    }
   ],
   "source": [
    "print(\"Reading UES\")\n",
    "df_ues = read_workload(raw=\"workloads/job-ues-results-base-linear.csv\")\n",
    "\n",
    "print(\"Reading Top-5\")\n",
    "df_top5 = read_workload(5)\n",
    "\n",
    "print(\"Reading Top-15\")\n",
    "df_top15 = read_workload(15)\n",
    "\n",
    "print(\"Reading Top-50\")\n",
    "df_top50 = read_workload(50)\n",
    "\n",
    "print(\"Reading Top-100\")\n",
    "df_top100 = read_workload(100)"
   ]
  },
  {
   "cell_type": "code",
   "execution_count": 5,
   "id": "262902f3-56c0-4b93-8595-c8c9a9d229ab",
   "metadata": {},
   "outputs": [
    {
     "data": {
      "text/plain": [
       "{'ues': 397.169805,\n",
       " 'top-5': 408.55763700000006,\n",
       " 'top-15': 407.222416,\n",
       " 'top-50': 408.96534,\n",
       " 'top-100': 413.66970999999995}"
      ]
     },
     "execution_count": 5,
     "metadata": {},
     "output_type": "execute_result"
    }
   ],
   "source": [
    "{\"ues\": df_ues.rt.sum(),\n",
    " \"top-5\": df_top5.rt.sum(),\n",
    " \"top-15\": df_top15.rt.sum(),\n",
    " \"top-50\": df_top50.rt.sum(),\n",
    " \"top-100\": df_top100.rt.sum()\n",
    "}"
   ]
  },
  {
   "cell_type": "code",
   "execution_count": 6,
   "id": "f051dcb8-dbba-4f7e-bec7-aab5aae91944",
   "metadata": {},
   "outputs": [],
   "source": [
    "df = pd.concat([df_ues, df_top5, df_top15, df_top50, df_top100])\n",
    "df.reset_index(inplace=True)\n",
    "df[\"setting\"] = df[\"mode\"] + \" // \" + df[\"topk_length\"].astype(str)"
   ]
  },
  {
   "cell_type": "code",
   "execution_count": 7,
   "id": "2ad1e543-ab9b-4f6b-bd8b-90e9bec6af9c",
   "metadata": {},
   "outputs": [
    {
     "data": {
      "image/png": "[encoded data removed]",
      "text/plain": [
       "<Figure size 720x576 with 1 Axes>"
      ]
     },
     "metadata": {
      "needs_background": "light"
     },
     "output_type": "display_data"
    }
   ],
   "source": [
    "fig, ax = plt.subplots(figsize=(10, 8))\n",
    "g = sns.boxplot(data=df, x=\"setting\", y=\"rt\", ax=ax)\n",
    "__ = g.set_title(\"Distribution of the query runtimes\")"
   ]
  },
  {
   "cell_type": "code",
   "execution_count": 8,
   "id": "a9643c4c-638e-4d65-abb7-ead8583243e7",
   "metadata": {},
   "outputs": [
    {
     "data": {
      "text/html": [
       "<div>\n",
       "<style scoped>\n",
       "    .dataframe tbody tr th:only-of-type {\n",
       "        vertical-align: middle;\n",
       "    }\n",
       "\n",
       "    .dataframe tbody tr th {\n",
       "        vertical-align: top;\n",
       "    }\n",
       "\n",
       "    .dataframe thead th {\n",
       "        text-align: right;\n",
       "    }\n",
       "</style>\n",
       "<table border=\"1\" class=\"dataframe\">\n",
       "  <thead>\n",
       "    <tr style=\"text-align: right;\">\n",
       "      <th></th>\n",
       "      <th>count</th>\n",
       "      <th>mean</th>\n",
       "      <th>std</th>\n",
       "      <th>min</th>\n",
       "      <th>25%</th>\n",
       "      <th>50%</th>\n",
       "      <th>75%</th>\n",
       "      <th>max</th>\n",
       "    </tr>\n",
       "    <tr>\n",
       "      <th>topk_length</th>\n",
       "      <th></th>\n",
       "      <th></th>\n",
       "      <th></th>\n",
       "      <th></th>\n",
       "      <th></th>\n",
       "      <th></th>\n",
       "      <th></th>\n",
       "      <th></th>\n",
       "    </tr>\n",
       "  </thead>\n",
       "  <tbody>\n",
       "    <tr>\n",
       "      <th>5</th>\n",
       "      <td>113.0</td>\n",
       "      <td>336.114002</td>\n",
       "      <td>1110.605748</td>\n",
       "      <td>1.0</td>\n",
       "      <td>2.288278</td>\n",
       "      <td>6.123554</td>\n",
       "      <td>132.483742</td>\n",
       "      <td>7889.224138</td>\n",
       "    </tr>\n",
       "    <tr>\n",
       "      <th>15</th>\n",
       "      <td>113.0</td>\n",
       "      <td>562.465800</td>\n",
       "      <td>1587.913410</td>\n",
       "      <td>1.0</td>\n",
       "      <td>9.696450</td>\n",
       "      <td>37.944849</td>\n",
       "      <td>337.457563</td>\n",
       "      <td>10766.470588</td>\n",
       "    </tr>\n",
       "    <tr>\n",
       "      <th>50</th>\n",
       "      <td>113.0</td>\n",
       "      <td>1390.761335</td>\n",
       "      <td>2779.176334</td>\n",
       "      <td>1.0</td>\n",
       "      <td>23.824586</td>\n",
       "      <td>166.484162</td>\n",
       "      <td>1523.769872</td>\n",
       "      <td>15407.860782</td>\n",
       "    </tr>\n",
       "    <tr>\n",
       "      <th>100</th>\n",
       "      <td>113.0</td>\n",
       "      <td>11717.538078</td>\n",
       "      <td>83305.243653</td>\n",
       "      <td>1.0</td>\n",
       "      <td>18.434108</td>\n",
       "      <td>50.902258</td>\n",
       "      <td>244.206385</td>\n",
       "      <td>646810.018810</td>\n",
       "    </tr>\n",
       "  </tbody>\n",
       "</table>\n",
       "</div>"
      ],
      "text/plain": [
       "             count          mean           std  min        25%         50%  \\\n",
       "topk_length                                                                  \n",
       "5            113.0    336.114002   1110.605748  1.0   2.288278    6.123554   \n",
       "15           113.0    562.465800   1587.913410  1.0   9.696450   37.944849   \n",
       "50           113.0   1390.761335   2779.176334  1.0  23.824586  166.484162   \n",
       "100          113.0  11717.538078  83305.243653  1.0  18.434108   50.902258   \n",
       "\n",
       "                     75%            max  \n",
       "topk_length                              \n",
       "5             132.483742    7889.224138  \n",
       "15            337.457563   10766.470588  \n",
       "50           1523.769872   15407.860782  \n",
       "100           244.206385  646810.018810  "
      ]
     },
     "execution_count": 8,
     "metadata": {},
     "output_type": "execute_result"
    }
   ],
   "source": [
    "df = pd.concat([\n",
    "    pd.merge(df_ues[[\"bound\", \"rt\"]], df_top5[[\"bound\", \"rt\", \"topk_length\"]], right_index=True, left_index=True, suffixes=(\"_ues\", \"_topk\")),\n",
    "    pd.merge(df_ues[[\"bound\", \"rt\"]], df_top15[[\"bound\", \"rt\", \"topk_length\"]], right_index=True, left_index=True, suffixes=(\"_ues\", \"_topk\")),\n",
    "    pd.merge(df_ues[[\"bound\", \"rt\"]], df_top50[[\"bound\", \"rt\", \"topk_length\"]], right_index=True, left_index=True, suffixes=(\"_ues\", \"_topk\")),\n",
    "    pd.merge(df_ues[[\"bound\", \"rt\"]], df_top100[[\"bound\", \"rt\", \"topk_length\"]], right_index=True, left_index=True, suffixes=(\"_ues\", \"_topk\")),\n",
    "])\n",
    "df.reset_index(inplace=True)\n",
    "df[\"bound_improvement\"] = df[\"bound_ues\"] / df[\"bound_topk\"]\n",
    "df.groupby(\"topk_length\")[\"bound_improvement\"].describe()"
   ]
  },
  {
   "cell_type": "code",
   "execution_count": 9,
   "id": "cd7a31e5-d6c1-46ac-a368-3e87fa3c7749",
   "metadata": {},
   "outputs": [
    {
     "data": {
      "text/plain": [
       "<AxesSubplot:xlabel='topk_length', ylabel='bound_improvement'>"
      ]
     },
     "execution_count": 9,
     "metadata": {},
     "output_type": "execute_result"
    },
    {
     "data": {
      "image/png": "[encoded data removed]",
      "text/plain": [
       "<Figure size 720x576 with 1 Axes>"
      ]
     },
     "metadata": {
      "needs_background": "light"
     },
     "output_type": "display_data"
    }
   ],
   "source": [
    "fig, ax = plt.subplots(figsize=(10, 8))\n",
    "sns.boxplot(data=df, x=\"topk_length\", y=\"bound_improvement\")"
   ]
  },
  {
   "cell_type": "code",
   "execution_count": 10,
   "id": "76de4279-000b-4657-ad83-da078ad62186",
   "metadata": {},
   "outputs": [
    {
     "data": {
      "text/plain": [
       "<AxesSubplot:xlabel='topk_length', ylabel='bound_improvement'>"
      ]
     },
     "execution_count": 10,
     "metadata": {},
     "output_type": "execute_result"
    },
    {
     "data": {
      "image/png": "[encoded data removed]",
      "text/plain": [
       "<Figure size 720x576 with 1 Axes>"
      ]
     },
     "metadata": {
      "needs_background": "light"
     },
     "output_type": "display_data"
    }
   ],
   "source": [
    "fig, ax = plt.subplots(figsize=(10, 8))\n",
    "sns.boxplot(data=df[df[\"topk_length\"] < 100], x=\"topk_length\", y=\"bound_improvement\")"
   ]
  }
 ],
 "metadata": {
  "kernelspec": {
   "display_name": "Python 3 (ipykernel)",
   "language": "python",
   "name": "python3"
  },
  "language_info": {
   "codemirror_mode": {
    "name": "ipython",
    "version": 3
   },
   "file_extension": ".py",
   "mimetype": "text/x-python",
   "name": "python",
   "nbconvert_exporter": "python",
   "pygments_lexer": "ipython3",
   "version": "3.8.10"
  }
 },
 "nbformat": 4,
 "nbformat_minor": 5
}
