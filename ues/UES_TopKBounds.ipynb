{
 "cells": [
  {
   "cell_type": "markdown",
   "id": "8c739e65-95e8-47b9-a3a1-f45eeb177e5c",
   "metadata": {},
   "source": [
    "# Top-k upper bounds"
   ]
  },
  {
   "cell_type": "code",
   "execution_count": 1,
   "id": "7b3e33ce-cd59-432d-ae70-9141744e4ae9",
   "metadata": {},
   "outputs": [],
   "source": [
    "%load_ext autoreload\n",
    "%autoreload 2"
   ]
  },
  {
   "cell_type": "code",
   "execution_count": 2,
   "id": "3c852b73-4e13-49f6-9e63-8f4b5a3a01b1",
   "metadata": {},
   "outputs": [],
   "source": [
    "import json\n",
    "\n",
    "from typing import Dict, List\n",
    "\n",
    "import matplotlib.pyplot as plt\n",
    "import numpy as np\n",
    "import pandas as pd\n",
    "import seaborn as sns\n",
    "\n",
    "from analysis import selection\n",
    "from postgres import explain\n",
    "from transform import db, mosp"
   ]
  },
  {
   "cell_type": "code",
   "execution_count": 3,
   "id": "1e9c469d-e991-4828-822f-f70a5d5e2f24",
   "metadata": {},
   "outputs": [],
   "source": [
    "def read_workload(topk_length: int = np.nan, raw: str = \"\", *, linear: bool = True) -> pd.DataFrame:\n",
    "    linear_suffix = \"-linear\" if linear else \"\"\n",
    "    path = f\"workloads/topk-setups/job-ues-results-topk-{topk_length}{linear_suffix}.csv\" if not raw else raw\n",
    "    df = pd.read_csv(path, converters={\"query\": mosp.MospQuery.parse, \"ues_bounds\": json.loads, \"query_result\": json.loads})\n",
    "    df = selection.best_query_repetition(df, \"label\", performance_col=\"query_rt_total\")\n",
    "    df = selection.reorder(df)\n",
    "    df.set_index(\"label\", inplace=True)\n",
    "    df[\"ues_final_bound\"] = df[\"ues_final_bound\"].astype(\"float\")\n",
    "    \n",
    "    df.rename(columns={\"query_rt_total\": \"rt\", \"ues_final_bound\": \"bound\"}, inplace=True)\n",
    "    if not raw:\n",
    "        df[\"mode\"] = \"top-k\"\n",
    "        df[\"topk_length\"] = topk_length\n",
    "    else:\n",
    "        df[\"mode\"] = \"ues\"\n",
    "        df[\"topk_length\"] = 0\n",
    "    df[\"linear\"] = linear\n",
    "    return df"
   ]
  },
  {
   "cell_type": "code",
   "execution_count": 4,
   "id": "5edcef93-581a-41ef-b45c-8c45f58d8ef7",
   "metadata": {},
   "outputs": [
    {
     "name": "stdout",
     "output_type": "stream",
     "text": [
      "Now reading UES workloads\n",
      "Now reading workloads for topk = 1\n",
      "Now reading workloads for topk = 5\n",
      "Now reading workloads for topk = 10\n",
      "Now reading workloads for topk = 20\n",
      "Now reading workloads for topk = 50\n",
      "Now reading workloads for topk = 100\n",
      "Now reading workloads for topk = 500\n"
     ]
    }
   ],
   "source": [
    "print(\"Now reading UES workloads\")\n",
    "all_workloads = [read_workload(raw=\"workloads/job-ues-results-base-linear.csv\", linear=True), read_workload(raw=\"workloads/job-ues-results-base.csv\", linear=False)]\n",
    "for topk_setting in [1, 5, 10, 20, 50, 100, 500]:\n",
    "    print(\"Now reading workloads for topk =\", topk_setting)\n",
    "    all_workloads.append(read_workload(topk_setting, linear=True))\n",
    "    all_workloads.append(read_workload(topk_setting, linear=False))\n",
    "results = pd.concat(all_workloads)"
   ]
  },
  {
   "cell_type": "code",
   "execution_count": 5,
   "id": "262902f3-56c0-4b93-8595-c8c9a9d229ab",
   "metadata": {},
   "outputs": [
    {
     "data": {
      "text/plain": [
       "mode   linear  topk_length\n",
       "top-k  False   1              384.841273\n",
       "               5              392.619533\n",
       "               10             393.579322\n",
       "               20             395.623529\n",
       "               50             394.737593\n",
       "               100            385.806501\n",
       "               500            382.638674\n",
       "       True    1              404.534410\n",
       "               5              418.798606\n",
       "               10             417.877278\n",
       "               20             418.343495\n",
       "               50             417.462146\n",
       "               100            421.909690\n",
       "               500            419.633139\n",
       "ues    False   0              376.990205\n",
       "       True    0              393.746356\n",
       "Name: rt, dtype: float64"
      ]
     },
     "execution_count": 5,
     "metadata": {},
     "output_type": "execute_result"
    }
   ],
   "source": [
    "results.groupby([\"mode\", \"linear\", \"topk_length\"]).rt.sum()"
   ]
  },
  {
   "cell_type": "code",
   "execution_count": 6,
   "id": "78a40fc9-abdb-4e8c-af1e-98037b3b945f",
   "metadata": {},
   "outputs": [
    {
     "data": {
      "text/html": [
       "<div>\n",
       "<style scoped>\n",
       "    .dataframe tbody tr th:only-of-type {\n",
       "        vertical-align: middle;\n",
       "    }\n",
       "\n",
       "    .dataframe tbody tr th {\n",
       "        vertical-align: top;\n",
       "    }\n",
       "\n",
       "    .dataframe thead th {\n",
       "        text-align: right;\n",
       "    }\n",
       "</style>\n",
       "<table border=\"1\" class=\"dataframe\">\n",
       "  <thead>\n",
       "    <tr style=\"text-align: right;\">\n",
       "      <th></th>\n",
       "      <th></th>\n",
       "      <th></th>\n",
       "      <th>count</th>\n",
       "      <th>mean</th>\n",
       "      <th>std</th>\n",
       "      <th>min</th>\n",
       "      <th>25%</th>\n",
       "      <th>50%</th>\n",
       "      <th>75%</th>\n",
       "      <th>max</th>\n",
       "    </tr>\n",
       "    <tr>\n",
       "      <th>mode</th>\n",
       "      <th>linear</th>\n",
       "      <th>topk_length</th>\n",
       "      <th></th>\n",
       "      <th></th>\n",
       "      <th></th>\n",
       "      <th></th>\n",
       "      <th></th>\n",
       "      <th></th>\n",
       "      <th></th>\n",
       "      <th></th>\n",
       "    </tr>\n",
       "  </thead>\n",
       "  <tbody>\n",
       "    <tr>\n",
       "      <th rowspan=\"14\" valign=\"top\">top-k</th>\n",
       "      <th rowspan=\"7\" valign=\"top\">False</th>\n",
       "      <th>1</th>\n",
       "      <td>113.0</td>\n",
       "      <td>1.959680e+17</td>\n",
       "      <td>1.972792e+18</td>\n",
       "      <td>150180.0</td>\n",
       "      <td>424168664.0</td>\n",
       "      <td>9.667429e+09</td>\n",
       "      <td>8.711122e+11</td>\n",
       "      <td>2.096509e+19</td>\n",
       "    </tr>\n",
       "    <tr>\n",
       "      <th>5</th>\n",
       "      <td>113.0</td>\n",
       "      <td>9.930727e+15</td>\n",
       "      <td>9.532100e+16</td>\n",
       "      <td>1160.0</td>\n",
       "      <td>17106080.0</td>\n",
       "      <td>1.081999e+09</td>\n",
       "      <td>2.410247e+10</td>\n",
       "      <td>1.011219e+18</td>\n",
       "    </tr>\n",
       "    <tr>\n",
       "      <th>10</th>\n",
       "      <td>113.0</td>\n",
       "      <td>1.797747e+15</td>\n",
       "      <td>1.682882e+16</td>\n",
       "      <td>900.0</td>\n",
       "      <td>11305040.0</td>\n",
       "      <td>6.734479e+08</td>\n",
       "      <td>1.404086e+10</td>\n",
       "      <td>1.782524e+17</td>\n",
       "    </tr>\n",
       "    <tr>\n",
       "      <th>20</th>\n",
       "      <td>113.0</td>\n",
       "      <td>4.214975e+14</td>\n",
       "      <td>3.773979e+15</td>\n",
       "      <td>790.0</td>\n",
       "      <td>7303800.0</td>\n",
       "      <td>3.141781e+08</td>\n",
       "      <td>7.627424e+09</td>\n",
       "      <td>3.980661e+16</td>\n",
       "    </tr>\n",
       "    <tr>\n",
       "      <th>50</th>\n",
       "      <td>113.0</td>\n",
       "      <td>5.606727e+13</td>\n",
       "      <td>5.834173e+14</td>\n",
       "      <td>764.0</td>\n",
       "      <td>3613943.0</td>\n",
       "      <td>1.294136e+08</td>\n",
       "      <td>2.708854e+09</td>\n",
       "      <td>6.202564e+15</td>\n",
       "    </tr>\n",
       "    <tr>\n",
       "      <th>100</th>\n",
       "      <td>113.0</td>\n",
       "      <td>8.512903e+12</td>\n",
       "      <td>8.935658e+13</td>\n",
       "      <td>150180.0</td>\n",
       "      <td>19157135.0</td>\n",
       "      <td>2.006026e+08</td>\n",
       "      <td>5.917777e+09</td>\n",
       "      <td>9.499571e+14</td>\n",
       "    </tr>\n",
       "    <tr>\n",
       "      <th>500</th>\n",
       "      <td>113.0</td>\n",
       "      <td>2.013742e+10</td>\n",
       "      <td>1.718704e+11</td>\n",
       "      <td>14049.0</td>\n",
       "      <td>4630255.0</td>\n",
       "      <td>5.095397e+07</td>\n",
       "      <td>3.054260e+08</td>\n",
       "      <td>1.809260e+12</td>\n",
       "    </tr>\n",
       "    <tr>\n",
       "      <th rowspan=\"7\" valign=\"top\">True</th>\n",
       "      <th>1</th>\n",
       "      <td>113.0</td>\n",
       "      <td>1.959680e+17</td>\n",
       "      <td>1.972792e+18</td>\n",
       "      <td>150180.0</td>\n",
       "      <td>424168664.0</td>\n",
       "      <td>9.667429e+09</td>\n",
       "      <td>8.711122e+11</td>\n",
       "      <td>2.096509e+19</td>\n",
       "    </tr>\n",
       "    <tr>\n",
       "      <th>5</th>\n",
       "      <td>113.0</td>\n",
       "      <td>9.930727e+15</td>\n",
       "      <td>9.532100e+16</td>\n",
       "      <td>1160.0</td>\n",
       "      <td>17106080.0</td>\n",
       "      <td>1.081999e+09</td>\n",
       "      <td>2.410247e+10</td>\n",
       "      <td>1.011219e+18</td>\n",
       "    </tr>\n",
       "    <tr>\n",
       "      <th>10</th>\n",
       "      <td>113.0</td>\n",
       "      <td>1.797747e+15</td>\n",
       "      <td>1.682882e+16</td>\n",
       "      <td>900.0</td>\n",
       "      <td>11305040.0</td>\n",
       "      <td>6.734479e+08</td>\n",
       "      <td>1.404086e+10</td>\n",
       "      <td>1.782524e+17</td>\n",
       "    </tr>\n",
       "    <tr>\n",
       "      <th>20</th>\n",
       "      <td>113.0</td>\n",
       "      <td>4.214975e+14</td>\n",
       "      <td>3.773979e+15</td>\n",
       "      <td>790.0</td>\n",
       "      <td>7303800.0</td>\n",
       "      <td>3.141781e+08</td>\n",
       "      <td>7.627424e+09</td>\n",
       "      <td>3.980661e+16</td>\n",
       "    </tr>\n",
       "    <tr>\n",
       "      <th>50</th>\n",
       "      <td>113.0</td>\n",
       "      <td>5.606727e+13</td>\n",
       "      <td>5.834173e+14</td>\n",
       "      <td>764.0</td>\n",
       "      <td>3613943.0</td>\n",
       "      <td>1.294136e+08</td>\n",
       "      <td>2.708854e+09</td>\n",
       "      <td>6.202564e+15</td>\n",
       "    </tr>\n",
       "    <tr>\n",
       "      <th>100</th>\n",
       "      <td>113.0</td>\n",
       "      <td>8.512903e+12</td>\n",
       "      <td>8.935658e+13</td>\n",
       "      <td>150180.0</td>\n",
       "      <td>19157135.0</td>\n",
       "      <td>2.006026e+08</td>\n",
       "      <td>5.917777e+09</td>\n",
       "      <td>9.499571e+14</td>\n",
       "    </tr>\n",
       "    <tr>\n",
       "      <th>500</th>\n",
       "      <td>113.0</td>\n",
       "      <td>2.013742e+10</td>\n",
       "      <td>1.718704e+11</td>\n",
       "      <td>14049.0</td>\n",
       "      <td>4630255.0</td>\n",
       "      <td>5.095397e+07</td>\n",
       "      <td>3.054260e+08</td>\n",
       "      <td>1.809260e+12</td>\n",
       "    </tr>\n",
       "    <tr>\n",
       "      <th rowspan=\"2\" valign=\"top\">ues</th>\n",
       "      <th>False</th>\n",
       "      <th>0</th>\n",
       "      <td>113.0</td>\n",
       "      <td>1.959680e+17</td>\n",
       "      <td>1.972792e+18</td>\n",
       "      <td>150180.0</td>\n",
       "      <td>424168664.0</td>\n",
       "      <td>9.667429e+09</td>\n",
       "      <td>8.711122e+11</td>\n",
       "      <td>2.096509e+19</td>\n",
       "    </tr>\n",
       "    <tr>\n",
       "      <th>True</th>\n",
       "      <th>0</th>\n",
       "      <td>113.0</td>\n",
       "      <td>1.959680e+17</td>\n",
       "      <td>1.972792e+18</td>\n",
       "      <td>150180.0</td>\n",
       "      <td>424168664.0</td>\n",
       "      <td>9.667429e+09</td>\n",
       "      <td>8.711122e+11</td>\n",
       "      <td>2.096509e+19</td>\n",
       "    </tr>\n",
       "  </tbody>\n",
       "</table>\n",
       "</div>"
      ],
      "text/plain": [
       "                          count          mean           std       min  \\\n",
       "mode  linear topk_length                                                \n",
       "top-k False  1            113.0  1.959680e+17  1.972792e+18  150180.0   \n",
       "             5            113.0  9.930727e+15  9.532100e+16    1160.0   \n",
       "             10           113.0  1.797747e+15  1.682882e+16     900.0   \n",
       "             20           113.0  4.214975e+14  3.773979e+15     790.0   \n",
       "             50           113.0  5.606727e+13  5.834173e+14     764.0   \n",
       "             100          113.0  8.512903e+12  8.935658e+13  150180.0   \n",
       "             500          113.0  2.013742e+10  1.718704e+11   14049.0   \n",
       "      True   1            113.0  1.959680e+17  1.972792e+18  150180.0   \n",
       "             5            113.0  9.930727e+15  9.532100e+16    1160.0   \n",
       "             10           113.0  1.797747e+15  1.682882e+16     900.0   \n",
       "             20           113.0  4.214975e+14  3.773979e+15     790.0   \n",
       "             50           113.0  5.606727e+13  5.834173e+14     764.0   \n",
       "             100          113.0  8.512903e+12  8.935658e+13  150180.0   \n",
       "             500          113.0  2.013742e+10  1.718704e+11   14049.0   \n",
       "ues   False  0            113.0  1.959680e+17  1.972792e+18  150180.0   \n",
       "      True   0            113.0  1.959680e+17  1.972792e+18  150180.0   \n",
       "\n",
       "                                  25%           50%           75%  \\\n",
       "mode  linear topk_length                                            \n",
       "top-k False  1            424168664.0  9.667429e+09  8.711122e+11   \n",
       "             5             17106080.0  1.081999e+09  2.410247e+10   \n",
       "             10            11305040.0  6.734479e+08  1.404086e+10   \n",
       "             20             7303800.0  3.141781e+08  7.627424e+09   \n",
       "             50             3613943.0  1.294136e+08  2.708854e+09   \n",
       "             100           19157135.0  2.006026e+08  5.917777e+09   \n",
       "             500            4630255.0  5.095397e+07  3.054260e+08   \n",
       "      True   1            424168664.0  9.667429e+09  8.711122e+11   \n",
       "             5             17106080.0  1.081999e+09  2.410247e+10   \n",
       "             10            11305040.0  6.734479e+08  1.404086e+10   \n",
       "             20             7303800.0  3.141781e+08  7.627424e+09   \n",
       "             50             3613943.0  1.294136e+08  2.708854e+09   \n",
       "             100           19157135.0  2.006026e+08  5.917777e+09   \n",
       "             500            4630255.0  5.095397e+07  3.054260e+08   \n",
       "ues   False  0            424168664.0  9.667429e+09  8.711122e+11   \n",
       "      True   0            424168664.0  9.667429e+09  8.711122e+11   \n",
       "\n",
       "                                   max  \n",
       "mode  linear topk_length                \n",
       "top-k False  1            2.096509e+19  \n",
       "             5            1.011219e+18  \n",
       "             10           1.782524e+17  \n",
       "             20           3.980661e+16  \n",
       "             50           6.202564e+15  \n",
       "             100          9.499571e+14  \n",
       "             500          1.809260e+12  \n",
       "      True   1            2.096509e+19  \n",
       "             5            1.011219e+18  \n",
       "             10           1.782524e+17  \n",
       "             20           3.980661e+16  \n",
       "             50           6.202564e+15  \n",
       "             100          9.499571e+14  \n",
       "             500          1.809260e+12  \n",
       "ues   False  0            2.096509e+19  \n",
       "      True   0            2.096509e+19  "
      ]
     },
     "execution_count": 6,
     "metadata": {},
     "output_type": "execute_result"
    }
   ],
   "source": [
    "results.groupby([\"mode\", \"linear\", \"topk_length\"]).bound.describe()"
   ]
  },
  {
   "cell_type": "code",
   "execution_count": 7,
   "id": "83a5015c-39fa-450a-ac27-d2019029ef1d",
   "metadata": {},
   "outputs": [
    {
     "data": {
      "image/png": "[encoded data removed]",
      "text/plain": [
       "<Figure size 432x288 with 1 Axes>"
      ]
     },
     "metadata": {
      "needs_background": "light"
     },
     "output_type": "display_data"
    }
   ],
   "source": [
    "mean_topk_bounds = results[(results[\"mode\"] == \"top-k\") & results[\"linear\"]].groupby(\"topk_length\").bound.mean().to_frame().reset_index()\n",
    "mean_topk_bounds.topk_length = mean_topk_bounds.topk_length.astype(str)\n",
    "g = sns.lineplot(data=mean_topk_bounds, x=\"topk_length\", y=\"bound\")\n",
    "g.set(title=\"Mean upper bounds\")\n",
    "__ = g.set(yscale=\"log\")"
   ]
  },
  {
   "cell_type": "code",
   "execution_count": 8,
   "id": "f7f68724-1e61-4be9-a786-0186d3845c5c",
   "metadata": {},
   "outputs": [
    {
     "data": {
      "image/png": "[encoded data removed]",
      "text/plain": [
       "<Figure size 432x288 with 1 Axes>"
      ]
     },
     "metadata": {
      "needs_background": "light"
     },
     "output_type": "display_data"
    }
   ],
   "source": [
    "all_topk_bounds = results[(results[\"mode\"] == \"top-k\") & results[\"linear\"]].copy()\n",
    "all_topk_bounds.topk_length = all_topk_bounds.topk_length.astype(str)\n",
    "g = sns.boxplot(data=all_topk_bounds, x=\"topk_length\", y=\"bound\")\n",
    "g.set(title=\"Upper bound distribution\")\n",
    "__ = g.set(yscale=\"log\")"
   ]
  },
  {
   "cell_type": "code",
   "execution_count": 9,
   "id": "93b597e8-7691-49e9-8a59-ad8a8bf8a016",
   "metadata": {},
   "outputs": [
    {
     "data": {
      "image/png": "[encoded data removed]",
      "text/plain": [
       "<Figure size 432x288 with 1 Axes>"
      ]
     },
     "metadata": {
      "needs_background": "light"
     },
     "output_type": "display_data"
    }
   ],
   "source": [
    "total_topk_runtime = results.groupby([\"linear\", \"topk_length\"]).rt.sum().to_frame().reset_index()\n",
    "total_topk_runtime.topk_length = total_topk_runtime.topk_length.astype(str)\n",
    "g = sns.lineplot(data=total_topk_runtime, x=\"topk_length\", y=\"rt\", hue=\"linear\")\n",
    "__ = g.set(title=\"Workload runtime\")"
   ]
  },
  {
   "cell_type": "code",
   "execution_count": 10,
   "id": "f678983c-b3f1-4ce8-a7c1-59e110c7137a",
   "metadata": {},
   "outputs": [
    {
     "data": {
      "image/png": "[encoded data removed]",
      "text/plain": [
       "<Figure size 432x288 with 1 Axes>"
      ]
     },
     "metadata": {
      "needs_background": "light"
     },
     "output_type": "display_data"
    }
   ],
   "source": [
    "topk_settings = [0, 1, 5, 10, 20, 50, 100]\n",
    "topk_setting_successors = [1, 5, 10, 20, 50, 100, 500]\n",
    "changed_topk_queries = []\n",
    "for topk, topk_next in zip(topk_settings, topk_setting_successors):\n",
    "    topk_results = results[results[\"linear\"] & (results[\"topk_length\"] == topk)]\n",
    "    topk_next_results = results[results[\"linear\"] & (results[\"topk_length\"] == topk_next)]\n",
    "    join_path_comparison = pd.merge(topk_results.ues_join_path, topk_next_results.ues_join_path, left_index=True, right_index=True, suffixes=(\"\", \"_next\"))\n",
    "    join_path_comparison[\"stable\"] = join_path_comparison.ues_join_path == join_path_comparison.ues_join_path_next\n",
    "    stable_paths = join_path_comparison.stable.sum()\n",
    "    changed_paths = len(join_path_comparison) - stable_paths\n",
    "    label = f\"{topk} → {topk_next}\"\n",
    "    changed_topk_queries.append({\"topk\": topk, \"topk_next\": topk_next, \"changed_queries\": changed_paths, \"label\": label})\n",
    "changed_topk_queries = pd.DataFrame(changed_topk_queries)\n",
    "g = sns.barplot(data=changed_topk_queries, x=\"label\", y=\"changed_queries\")\n",
    "g.set(title=\"Number of updated queries - linear workload\")\n",
    "__ = g.bar_label(g.containers[0])"
   ]
  },
  {
   "cell_type": "code",
   "execution_count": 11,
   "id": "e5eb20b1-3f11-429d-8c5c-a5524e397af5",
   "metadata": {},
   "outputs": [
    {
     "data": {
      "image/png": "[encoded data removed]",
      "text/plain": [
       "<Figure size 432x288 with 1 Axes>"
      ]
     },
     "metadata": {
      "needs_background": "light"
     },
     "output_type": "display_data"
    }
   ],
   "source": [
    "topk_settings = [0, 1, 5, 10, 20, 50, 100]\n",
    "topk_setting_successors = [1, 5, 10, 20, 50, 100, 500]\n",
    "changed_topk_queries = []\n",
    "for topk, topk_next in zip(topk_settings, topk_setting_successors):\n",
    "    topk_results = results[~results[\"linear\"] & (results[\"topk_length\"] == topk)]\n",
    "    topk_next_results = results[~results[\"linear\"] & (results[\"topk_length\"] == topk_next)]\n",
    "    join_path_comparison = pd.merge(topk_results.ues_join_path, topk_next_results.ues_join_path, left_index=True, right_index=True, suffixes=(\"\", \"_next\"))\n",
    "    join_path_comparison[\"stable\"] = join_path_comparison.ues_join_path == join_path_comparison.ues_join_path_next\n",
    "    stable_paths = join_path_comparison.stable.sum()\n",
    "    changed_paths = len(join_path_comparison) - stable_paths\n",
    "    label = f\"{topk} → {topk_next}\"\n",
    "    changed_topk_queries.append({\"topk\": topk, \"topk_next\": topk_next, \"changed_queries\": changed_paths, \"label\": label})\n",
    "changed_topk_queries = pd.DataFrame(changed_topk_queries)\n",
    "g = sns.barplot(data=changed_topk_queries, x=\"label\", y=\"changed_queries\")\n",
    "g.set(title=\"Number of updated queries - subquery workload\")\n",
    "__ = g.bar_label(g.containers[0])"
   ]
  }
 ],
 "metadata": {
  "kernelspec": {
   "display_name": "Python 3 (ipykernel)",
   "language": "python",
   "name": "python3"
  },
  "language_info": {
   "codemirror_mode": {
    "name": "ipython",
    "version": 3
   },
   "file_extension": ".py",
   "mimetype": "text/x-python",
   "name": "python",
   "nbconvert_exporter": "python",
   "pygments_lexer": "ipython3",
   "version": "3.8.10"
  }
 },
 "nbformat": 4,
 "nbformat_minor": 5
}
