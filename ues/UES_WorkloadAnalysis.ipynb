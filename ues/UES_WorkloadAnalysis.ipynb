{
 "cells": [
  {
   "cell_type": "markdown",
   "id": "ba26d783-c994-4eca-8480-cb0cbe35728f",
   "metadata": {},
   "source": [
    "# UES workload analysis"
   ]
  },
  {
   "cell_type": "code",
   "execution_count": 1,
   "id": "981c8d07-0773-4d38-b832-3bfb06c2c1be",
   "metadata": {},
   "outputs": [],
   "source": [
    "import json\n",
    "import re\n",
    "import warnings\n",
    "\n",
    "import numpy as np\n",
    "import pandas as pd\n",
    "\n",
    "from transform import db, mosp"
   ]
  },
  {
   "cell_type": "code",
   "execution_count": 2,
   "id": "1e734b55-9e99-41f9-9d88-c2a6283a6569",
   "metadata": {},
   "outputs": [
    {
     "data": {
      "text/html": [
       "<div>\n",
       "<style scoped>\n",
       "    .dataframe tbody tr th:only-of-type {\n",
       "        vertical-align: middle;\n",
       "    }\n",
       "\n",
       "    .dataframe tbody tr th {\n",
       "        vertical-align: top;\n",
       "    }\n",
       "\n",
       "    .dataframe thead th {\n",
       "        text-align: right;\n",
       "    }\n",
       "</style>\n",
       "<table border=\"1\" class=\"dataframe\">\n",
       "  <thead>\n",
       "    <tr style=\"text-align: right;\">\n",
       "      <th></th>\n",
       "      <th>label</th>\n",
       "      <th>query</th>\n",
       "      <th>result</th>\n",
       "      <th>rt_total</th>\n",
       "      <th>run</th>\n",
       "      <th>workload</th>\n",
       "    </tr>\n",
       "  </thead>\n",
       "  <tbody>\n",
       "    <tr>\n",
       "      <th>0</th>\n",
       "      <td>1a</td>\n",
       "      <td>select count(*) from  movie_companies as mc  j...</td>\n",
       "      <td>[{'Plan': {'Node Type': 'Aggregate', 'Strategy...</td>\n",
       "      <td>0.443611</td>\n",
       "      <td>1</td>\n",
       "      <td>ues</td>\n",
       "    </tr>\n",
       "    <tr>\n",
       "      <th>1</th>\n",
       "      <td>1b</td>\n",
       "      <td>select count(*) from  movie_info_idx as mi_idx...</td>\n",
       "      <td>[{'Plan': {'Node Type': 'Aggregate', 'Strategy...</td>\n",
       "      <td>0.322460</td>\n",
       "      <td>1</td>\n",
       "      <td>ues</td>\n",
       "    </tr>\n",
       "    <tr>\n",
       "      <th>2</th>\n",
       "      <td>1c</td>\n",
       "      <td>select count(*) from  movie_companies as mc  j...</td>\n",
       "      <td>[{'Plan': {'Node Type': 'Aggregate', 'Strategy...</td>\n",
       "      <td>0.435026</td>\n",
       "      <td>1</td>\n",
       "      <td>ues</td>\n",
       "    </tr>\n",
       "    <tr>\n",
       "      <th>3</th>\n",
       "      <td>1d</td>\n",
       "      <td>select count(*) from  movie_info_idx as mi_idx...</td>\n",
       "      <td>[{'Plan': {'Node Type': 'Aggregate', 'Strategy...</td>\n",
       "      <td>0.330217</td>\n",
       "      <td>1</td>\n",
       "      <td>ues</td>\n",
       "    </tr>\n",
       "    <tr>\n",
       "      <th>4</th>\n",
       "      <td>2a</td>\n",
       "      <td>select count(*) from  movie_keyword as mk  joi...</td>\n",
       "      <td>[{'Plan': {'Node Type': 'Aggregate', 'Strategy...</td>\n",
       "      <td>0.843378</td>\n",
       "      <td>1</td>\n",
       "      <td>ues</td>\n",
       "    </tr>\n",
       "    <tr>\n",
       "      <th>...</th>\n",
       "      <td>...</td>\n",
       "      <td>...</td>\n",
       "      <td>...</td>\n",
       "      <td>...</td>\n",
       "      <td>...</td>\n",
       "      <td>...</td>\n",
       "    </tr>\n",
       "    <tr>\n",
       "      <th>447</th>\n",
       "      <td>32a</td>\n",
       "      <td>SELECT COUNT(*) FROM movie_link AS ml JOIN lin...</td>\n",
       "      <td>[{'Plan': {'Node Type': 'Aggregate', 'Strategy...</td>\n",
       "      <td>0.435622</td>\n",
       "      <td>1</td>\n",
       "      <td>transformed</td>\n",
       "    </tr>\n",
       "    <tr>\n",
       "      <th>448</th>\n",
       "      <td>32b</td>\n",
       "      <td>SELECT COUNT(*) FROM movie_link AS ml JOIN lin...</td>\n",
       "      <td>[{'Plan': {'Node Type': 'Aggregate', 'Strategy...</td>\n",
       "      <td>0.427622</td>\n",
       "      <td>1</td>\n",
       "      <td>transformed</td>\n",
       "    </tr>\n",
       "    <tr>\n",
       "      <th>449</th>\n",
       "      <td>33a</td>\n",
       "      <td>SELECT COUNT(*) FROM movie_link AS ml JOIN lin...</td>\n",
       "      <td>[{'Plan': {'Node Type': 'Aggregate', 'Strategy...</td>\n",
       "      <td>1.055222</td>\n",
       "      <td>1</td>\n",
       "      <td>transformed</td>\n",
       "    </tr>\n",
       "    <tr>\n",
       "      <th>450</th>\n",
       "      <td>33b</td>\n",
       "      <td>SELECT COUNT(*) FROM movie_link AS ml JOIN lin...</td>\n",
       "      <td>[{'Plan': {'Node Type': 'Aggregate', 'Strategy...</td>\n",
       "      <td>1.284310</td>\n",
       "      <td>1</td>\n",
       "      <td>transformed</td>\n",
       "    </tr>\n",
       "    <tr>\n",
       "      <th>451</th>\n",
       "      <td>33c</td>\n",
       "      <td>SELECT COUNT(*) FROM movie_link AS ml JOIN lin...</td>\n",
       "      <td>[{'Plan': {'Node Type': 'Aggregate', 'Strategy...</td>\n",
       "      <td>1.188640</td>\n",
       "      <td>1</td>\n",
       "      <td>transformed</td>\n",
       "    </tr>\n",
       "  </tbody>\n",
       "</table>\n",
       "<p>226 rows × 6 columns</p>\n",
       "</div>"
      ],
      "text/plain": [
       "    label                                              query  \\\n",
       "0      1a  select count(*) from  movie_companies as mc  j...   \n",
       "1      1b  select count(*) from  movie_info_idx as mi_idx...   \n",
       "2      1c  select count(*) from  movie_companies as mc  j...   \n",
       "3      1d  select count(*) from  movie_info_idx as mi_idx...   \n",
       "4      2a  select count(*) from  movie_keyword as mk  joi...   \n",
       "..    ...                                                ...   \n",
       "447   32a  SELECT COUNT(*) FROM movie_link AS ml JOIN lin...   \n",
       "448   32b  SELECT COUNT(*) FROM movie_link AS ml JOIN lin...   \n",
       "449   33a  SELECT COUNT(*) FROM movie_link AS ml JOIN lin...   \n",
       "450   33b  SELECT COUNT(*) FROM movie_link AS ml JOIN lin...   \n",
       "451   33c  SELECT COUNT(*) FROM movie_link AS ml JOIN lin...   \n",
       "\n",
       "                                                result  rt_total  run  \\\n",
       "0    [{'Plan': {'Node Type': 'Aggregate', 'Strategy...  0.443611    1   \n",
       "1    [{'Plan': {'Node Type': 'Aggregate', 'Strategy...  0.322460    1   \n",
       "2    [{'Plan': {'Node Type': 'Aggregate', 'Strategy...  0.435026    1   \n",
       "3    [{'Plan': {'Node Type': 'Aggregate', 'Strategy...  0.330217    1   \n",
       "4    [{'Plan': {'Node Type': 'Aggregate', 'Strategy...  0.843378    1   \n",
       "..                                                 ...       ...  ...   \n",
       "447  [{'Plan': {'Node Type': 'Aggregate', 'Strategy...  0.435622    1   \n",
       "448  [{'Plan': {'Node Type': 'Aggregate', 'Strategy...  0.427622    1   \n",
       "449  [{'Plan': {'Node Type': 'Aggregate', 'Strategy...  1.055222    1   \n",
       "450  [{'Plan': {'Node Type': 'Aggregate', 'Strategy...  1.284310    1   \n",
       "451  [{'Plan': {'Node Type': 'Aggregate', 'Strategy...  1.188640    1   \n",
       "\n",
       "        workload  \n",
       "0            ues  \n",
       "1            ues  \n",
       "2            ues  \n",
       "3            ues  \n",
       "4            ues  \n",
       "..           ...  \n",
       "447  transformed  \n",
       "448  transformed  \n",
       "449  transformed  \n",
       "450  transformed  \n",
       "451  transformed  \n",
       "\n",
       "[226 rows x 6 columns]"
      ]
     },
     "execution_count": 2,
     "metadata": {},
     "output_type": "execute_result"
    }
   ],
   "source": [
    "df = pd.read_csv(\"workloads/job-ues-results-fks-nonlj.csv\")\n",
    "df = df[df.run == 1].copy()\n",
    "df.result = df.result.apply(json.loads)\n",
    "df"
   ]
  },
  {
   "cell_type": "code",
   "execution_count": 3,
   "id": "2ec49afd-475b-4f1c-a476-69bd35a0073d",
   "metadata": {},
   "outputs": [],
   "source": [
    "def parse_query_plans(sample: pd.Series) -> db.PlanNode:\n",
    "    query, plan, workload = sample[\"query\"], sample[\"result\"], sample[\"workload\"]\n",
    "    if workload == \"ues\":\n",
    "        parsed_plan = db.parse_explain_analyze(query, plan)\n",
    "    elif workload == \"transformed\":\n",
    "        parsed_plan = db.parse_explain_analyze(query, plan, with_subqueries=False)\n",
    "    else:\n",
    "        warnings.warn(\"Unknown workload '{}', assuming no subqueries\".format(workload))\n",
    "        parsed_plan = db.parse_explain_analyze(query, plan, with_subqueries=False)\n",
    "    return parsed_plan"
   ]
  },
  {
   "cell_type": "code",
   "execution_count": 4,
   "id": "d9a54007-bb46-4fd0-ba96-c32fd51ffdbf",
   "metadata": {},
   "outputs": [
    {
     "name": "stderr",
     "output_type": "stream",
     "text": [
      "/home/strix/Projekte/DiplomArbeit-QueryOpt/ues/transform/db.py:331: UserWarning: Unknown node type: Aggregate\n",
      "  warnings.warn(\"Unknown node type: {}\".format(node_type))\n",
      "/home/strix/Projekte/DiplomArbeit-QueryOpt/ues/transform/db.py:331: UserWarning: Unknown node type: Gather\n",
      "  warnings.warn(\"Unknown node type: {}\".format(node_type))\n",
      "/home/strix/Projekte/DiplomArbeit-QueryOpt/ues/transform/db.py:331: UserWarning: Unknown node type: Hash\n",
      "  warnings.warn(\"Unknown node type: {}\".format(node_type))\n",
      "/home/strix/Projekte/DiplomArbeit-QueryOpt/ues/transform/db.py:331: UserWarning: Unknown node type: Sort\n",
      "  warnings.warn(\"Unknown node type: {}\".format(node_type))\n",
      "/home/strix/Projekte/DiplomArbeit-QueryOpt/ues/transform/db.py:331: UserWarning: Unknown node type: Materialize\n",
      "  warnings.warn(\"Unknown node type: {}\".format(node_type))\n",
      "/home/strix/Projekte/DiplomArbeit-QueryOpt/ues/transform/db.py:331: UserWarning: Unknown node type: Gather Merge\n",
      "  warnings.warn(\"Unknown node type: {}\".format(node_type))\n"
     ]
    }
   ],
   "source": [
    "df[\"query\"] = df[\"query\"].apply(mosp.MospQuery.parse)\n",
    "df.result = df.apply(parse_query_plans, axis=\"columns\")\n",
    "df[\"subquery\"] = df.result.apply(db.PlanNode.extract_subquery)"
   ]
  },
  {
   "cell_type": "code",
   "execution_count": 11,
   "id": "d353c26a-09aa-4a16-9e27-9542d54a758b",
   "metadata": {},
   "outputs": [],
   "source": [
    "df_ues = df[df.workload == \"ues\"].copy()\n",
    "df_trans = df[df.workload == \"transformed\"].copy()"
   ]
  },
  {
   "cell_type": "code",
   "execution_count": 10,
   "id": "2b20a43e-ab23-4207-830f-96a3d52d4f02",
   "metadata": {},
   "outputs": [
    {
     "data": {
      "text/plain": [
       "51"
      ]
     },
     "execution_count": 10,
     "metadata": {},
     "output_type": "execute_result"
    }
   ],
   "source": [
    "df_sqs = df_ues[~df_ues.subquery.isna()]\n",
    "len(df_sqs)"
   ]
  },
  {
   "cell_type": "code",
   "execution_count": 19,
   "id": "01c96c8e-bffd-4756-a61c-7d4ab8e5dc01",
   "metadata": {},
   "outputs": [
    {
     "data": {
      "text/plain": [
       "51"
      ]
     },
     "execution_count": 19,
     "metadata": {},
     "output_type": "execute_result"
    }
   ],
   "source": [
    "df_cmp = pd.merge(\n",
    "    df_sqs.drop(columns=[\"run\", \"workload\"]),\n",
    "    df_trans.drop(columns=[\"run\", \"workload\", \"subquery\"]),\n",
    "    on=\"label\", how=\"inner\",\n",
    "    suffixes=(\"_orig\", \"_trans\"))\n",
    "len(df_cmp)"
   ]
  },
  {
   "cell_type": "code",
   "execution_count": 24,
   "id": "81eac900-4872-4c4f-811c-36bbd1354279",
   "metadata": {},
   "outputs": [],
   "source": [
    "def calculate_subquery_rows(parse_tree, *, target_predicate=\"\"):\n",
    "    if not target_predicate and parse_tree.is_subquery():\n",
    "        parent = parse_tree.parent if parse_tree.parent else parse_tree\n",
    "        left, right = parent.left, parent.right\n",
    "        return parent, left.proc_rows + right.proc_rows\n",
    "    elif target_predicate and db.compare_predicate_strs(parse_tree.join_pred, target_predicate):\n",
    "        parent = parse_tree.parent if parse_tree.parent else parse_tree\n",
    "        left, right = parent.left, parent.right\n",
    "        return parent, left.proc_rows + right.proc_rows\n",
    "    elif target_predicate:\n",
    "        print(f\"{target_predicate} does not match {parse_tree.join_pred}\")\n",
    "\n",
    "    if not parse_tree.children:\n",
    "        return None\n",
    "    child_rows = [calculate_subquery_rows(child) for child in parse_tree.children]\n",
    "    filtered = [c for c in child_rows if c]\n",
    "    return db._simplify_plan_tree(filtered) if filtered else None"
   ]
  },
  {
   "cell_type": "code",
   "execution_count": 26,
   "id": "970f4e4d-9bf3-4347-8810-6285afdd2013",
   "metadata": {},
   "outputs": [
    {
     "data": {
      "text/plain": [
       "0     (Hash Join (mi_idx.movie_id = t.id) <- [Hash J...\n",
       "1     (Hash Join (mi_idx.movie_id = t.id) <- [Hash J...\n",
       "2     (Hash Join (mc.movie_id = t.id) <- [Hash Join ...\n",
       "3     (Hash Join (t.id = ml.linked_movie_id) <- [Has...\n",
       "4     (Hash Join (t.id = ml.linked_movie_id) <- [Has...\n",
       "5     (Hash Join (ci.person_id = a1.person_id) <- [H...\n",
       "6     (Hash Join (ci.person_id = an1.person_id) <- [...\n",
       "7     (Hash Join (mk.movie_id = ml.movie_id) <- [Has...\n",
       "8     (Hash Join (mc.movie_id = t.id) <- [Hash Join ...\n",
       "9     (Hash Join (mi.movie_id = t.id) <- [Hash Join ...\n",
       "10    (Hash Join (mc.movie_id = t.id) <- [Hash Join ...\n",
       "11    [(Hash Join (mi.movie_id = miidx.movie_id) <- ...\n",
       "12    [(Hash Join (mi.movie_id = miidx.movie_id) <- ...\n",
       "13    [(Hash Join (mi.movie_id = miidx.movie_id) <- ...\n",
       "14    [(Hash Join (mi.movie_id = miidx.movie_id) <- ...\n",
       "15    (Hash Join (mi_idx.movie_id = t.id) <- [Hash J...\n",
       "16    (Hash Join (mi_idx.movie_id = t.id) <- [Hash J...\n",
       "17    (Hash Join (mi_idx.movie_id = t.id) <- [Hash J...\n",
       "18    (Hash Join (mi.movie_id = t.id) <- [Hash Join ...\n",
       "19    (Merge Join (mk.movie_id = ml.movie_id) <- [Ha...\n",
       "20    (Merge Join (mk.movie_id = ml.movie_id) <- [Ha...\n",
       "21    (Merge Join (mk.movie_id = ml.movie_id) <- [Ha...\n",
       "22    (Hash Join (mi_idx.movie_id = t.id) <- [Hash J...\n",
       "23    (Hash Join (mi_idx.movie_id = t.id) <- [Hash J...\n",
       "24    (Hash Join (mi_idx.movie_id = t.id) <- [Hash J...\n",
       "25    (Hash Join (mi_idx.movie_id = t.id) <- [Hash J...\n",
       "26    (Merge Join (t.id = cc.movie_id) <- [Hash Join...\n",
       "27    (Merge Join (t.id = cc.movie_id) <- [Hash Join...\n",
       "28    (Merge Join (t.id = cc.movie_id) <- [Hash Join...\n",
       "29    (Hash Join (mi_idx.movie_id = t.id) <- [Hash J...\n",
       "30    (Hash Join (mi_idx.movie_id = t.id) <- [Hash J...\n",
       "31    (Hash Join (mi_idx.movie_id = t.id) <- [Hash J...\n",
       "32    (Hash Join (cc.subject_id = cct1.id) <- [Hash ...\n",
       "33    (Hash Join (cc.subject_id = cct1.id) <- [Hash ...\n",
       "34    (Hash Join (cc.status_id = cct2.id) <- [Hash J...\n",
       "35    (Hash Join (mi_idx.movie_id = t.id) <- [Hash J...\n",
       "36    (Hash Join (mi_idx.movie_id = t.id) <- [Hash J...\n",
       "37    [(Hash Join (pi.person_id = an.person_id) <- [...\n",
       "38    [(Hash Join (pi.person_id = an.person_id) <- [...\n",
       "39    [(Hash Join (pi.person_id = an.person_id) <- [...\n",
       "40    (Hash Join (mi_idx.movie_id = t.id) <- [Hash J...\n",
       "41    (Hash Join (mi_idx.movie_id = t.id) <- [Hash J...\n",
       "42    (Hash Join (mi_idx.movie_id = t.id) <- [Hash J...\n",
       "43    (Hash Join (mi_idx.movie_id = t.id) <- [Hash J...\n",
       "44    (Hash Join (mi_idx.movie_id = t.id) <- [Hash J...\n",
       "45    (Hash Join (mi_idx.movie_id = t.id) <- [Hash J...\n",
       "46    (Hash Join (ml.movie_id = mk.movie_id) <- [Mer...\n",
       "47    (Hash Join (ml.movie_id = mk.movie_id) <- [Mer...\n",
       "48    [(Hash Join (mi_idx2.movie_id = t2.id) <- [Has...\n",
       "49    [(Hash Join (mi_idx2.movie_id = t2.id) <- [Has...\n",
       "50    [(Hash Join (mi_idx2.movie_id = t2.id) <- [Has...\n",
       "Name: result_orig, dtype: object"
      ]
     },
     "execution_count": 26,
     "metadata": {},
     "output_type": "execute_result"
    }
   ],
   "source": [
    "df_cmp.result_orig.apply(calculate_subquery_rows)"
   ]
  },
  {
   "cell_type": "code",
   "execution_count": null,
   "id": "8c28c5b4-1ea1-4a83-befe-006859145e97",
   "metadata": {},
   "outputs": [],
   "source": [
    "calculate_subquery_rows(eap)"
   ]
  },
  {
   "cell_type": "code",
   "execution_count": null,
   "id": "c1121576-8afa-457c-b2c7-107705b5fa8e",
   "metadata": {
    "tags": []
   },
   "outputs": [],
   "source": [
    "df_trans = pd.read_csv(\"workloads/job-ues-results-flattened-nofk.csv\")\n",
    "df_trans = df_trans[df_trans.run == 1].copy()\n",
    "df_trans.flattened_query_result = df_trans.flattened_query_result.apply(json.loads)\n",
    "df_trans"
   ]
  },
  {
   "cell_type": "code",
   "execution_count": null,
   "id": "537b1aec-3f21-4471-8ed2-f4c062f8a27e",
   "metadata": {
    "tags": []
   },
   "outputs": [],
   "source": [
    "p_trans = df_trans.iloc[0].flattened_query_result\n",
    "p_trans"
   ]
  },
  {
   "cell_type": "code",
   "execution_count": null,
   "id": "a45f145c-75f0-4ca4-8abb-1ebdb0a88e40",
   "metadata": {},
   "outputs": [],
   "source": [
    "q_trans = mosp.MospQuery.parse(df_trans.iloc[0][\"query\"])\n",
    "q_trans"
   ]
  },
  {
   "cell_type": "code",
   "execution_count": null,
   "id": "269896d9-4fda-416f-9805-fa260aca9a05",
   "metadata": {},
   "outputs": [],
   "source": [
    "eap_trans = db.parse_explain_analyze(q_trans, p_trans, with_subqueries=False)\n",
    "print(eap_trans.pretty_print())"
   ]
  },
  {
   "cell_type": "code",
   "execution_count": null,
   "id": "2fb7f735-d48d-4230-953c-ad7cfc7fa296",
   "metadata": {},
   "outputs": [],
   "source": [
    "print(eap.pretty_print())"
   ]
  },
  {
   "cell_type": "code",
   "execution_count": null,
   "id": "9fa1e207-f31b-4435-9132-d0e3a09541b4",
   "metadata": {},
   "outputs": [],
   "source": [
    "eap_trans.left"
   ]
  },
  {
   "cell_type": "code",
   "execution_count": null,
   "id": "50043f55-fa65-43fb-8387-e9057a152177",
   "metadata": {},
   "outputs": [],
   "source": [
    "eap_trans.right"
   ]
  },
  {
   "cell_type": "code",
   "execution_count": null,
   "id": "edb211ba-843a-45f1-8fdc-91f9a4283c8c",
   "metadata": {},
   "outputs": [],
   "source": [
    "eap_trans.left.proc_rows + eap_trans.right.proc_rows"
   ]
  },
  {
   "cell_type": "code",
   "execution_count": null,
   "id": "08bc6a46-848a-4f5a-aa01-b4d599350316",
   "metadata": {},
   "outputs": [],
   "source": [
    "calculate_subquery_rows(eap)"
   ]
  },
  {
   "cell_type": "code",
   "execution_count": null,
   "id": "1c5cfded-1637-416e-83b8-d572b0123d51",
   "metadata": {},
   "outputs": [],
   "source": [
    "calculate_subquery_rows(eap_trans, target_predicate=\"(mi_idx.info_type_id = it.id)\")"
   ]
  },
  {
   "cell_type": "code",
   "execution_count": null,
   "id": "ca981a09-ffbd-4a7b-82d5-953c0af7d9ed",
   "metadata": {},
   "outputs": [],
   "source": []
  }
 ],
 "metadata": {
  "kernelspec": {
   "display_name": "Python 3 (ipykernel)",
   "language": "python",
   "name": "python3"
  },
  "language_info": {
   "codemirror_mode": {
    "name": "ipython",
    "version": 3
   },
   "file_extension": ".py",
   "mimetype": "text/x-python",
   "name": "python",
   "nbconvert_exporter": "python",
   "pygments_lexer": "ipython3",
   "version": "3.8.10"
  }
 },
 "nbformat": 4,
 "nbformat_minor": 5
}
