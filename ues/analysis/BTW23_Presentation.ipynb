{
 "cells": [
  {
   "cell_type": "markdown",
   "source": [
    "# PostBOUND presentation @ BTW'23\n"
   ],
   "metadata": {
    "collapsed": false
   }
  },
  {
   "cell_type": "code",
   "execution_count": 1,
   "outputs": [],
   "source": [
    "%load_ext autoreload\n",
    "%autoreload 2"
   ],
   "metadata": {
    "collapsed": false
   }
  },
  {
   "cell_type": "code",
   "execution_count": 2,
   "outputs": [],
   "source": [
    "import json\n",
    "\n",
    "import pandas as pd\n",
    "import seaborn as sns\n",
    "\n",
    "from analysis import selection\n",
    "from transform import mosp\n",
    "from postgres import explain\n"
   ],
   "metadata": {
    "collapsed": false
   }
  },
  {
   "cell_type": "code",
   "execution_count": 3,
   "outputs": [],
   "source": [
    "sns.set_style(\"white\")"
   ],
   "metadata": {
    "collapsed": false
   }
  },
  {
   "cell_type": "code",
   "execution_count": 4,
   "outputs": [
    {
     "data": {
      "text/plain": "               count      mean        std       min       25%       50%  \\\noptimizer nlj                                                             \nnative    off  113.0  7.504811  31.659038  0.012763  1.547933  3.559108   \n          on   113.0  3.568947   8.565507  0.005737  0.119188  0.663484   \nues       off  113.0  3.336197   2.144219  0.010616  1.674846  2.843448   \n\n                    75%         max  \noptimizer nlj                        \nnative    off  5.159605  254.467602  \n          on   2.839030   60.260257  \nues       off  4.979541    9.002675  ",
      "text/html": "<div>\n<style scoped>\n    .dataframe tbody tr th:only-of-type {\n        vertical-align: middle;\n    }\n\n    .dataframe tbody tr th {\n        vertical-align: top;\n    }\n\n    .dataframe thead th {\n        text-align: right;\n    }\n</style>\n<table border=\"1\" class=\"dataframe\">\n  <thead>\n    <tr style=\"text-align: right;\">\n      <th></th>\n      <th></th>\n      <th>count</th>\n      <th>mean</th>\n      <th>std</th>\n      <th>min</th>\n      <th>25%</th>\n      <th>50%</th>\n      <th>75%</th>\n      <th>max</th>\n    </tr>\n    <tr>\n      <th>optimizer</th>\n      <th>nlj</th>\n      <th></th>\n      <th></th>\n      <th></th>\n      <th></th>\n      <th></th>\n      <th></th>\n      <th></th>\n      <th></th>\n    </tr>\n  </thead>\n  <tbody>\n    <tr>\n      <th rowspan=\"2\" valign=\"top\">native</th>\n      <th>off</th>\n      <td>113.0</td>\n      <td>7.504811</td>\n      <td>31.659038</td>\n      <td>0.012763</td>\n      <td>1.547933</td>\n      <td>3.559108</td>\n      <td>5.159605</td>\n      <td>254.467602</td>\n    </tr>\n    <tr>\n      <th>on</th>\n      <td>113.0</td>\n      <td>3.568947</td>\n      <td>8.565507</td>\n      <td>0.005737</td>\n      <td>0.119188</td>\n      <td>0.663484</td>\n      <td>2.839030</td>\n      <td>60.260257</td>\n    </tr>\n    <tr>\n      <th>ues</th>\n      <th>off</th>\n      <td>113.0</td>\n      <td>3.336197</td>\n      <td>2.144219</td>\n      <td>0.010616</td>\n      <td>1.674846</td>\n      <td>2.843448</td>\n      <td>4.979541</td>\n      <td>9.002675</td>\n    </tr>\n  </tbody>\n</table>\n</div>"
     },
     "execution_count": 4,
     "metadata": {},
     "output_type": "execute_result"
    }
   ],
   "source": [
    "def read_workload(path: str, optimizer: str, nlj: bool):\n",
    "    df = pd.read_csv(path)\n",
    "    df[\"optimizer\"] = optimizer\n",
    "    df[\"nlj\"] = \"on\" if nlj else \"off\"\n",
    "\n",
    "    df.rename(columns={\"query_rt_total\": \"exec_time\"}, inplace=True)\n",
    "    df = selection.best_query_repetition(df, group_cols=\"label\", performance_col=\"exec_time\")\n",
    "    df = selection.reorder(df, \"label\")\n",
    "    df.set_index(\"label\", inplace=True)\n",
    "\n",
    "    return df\n",
    "\n",
    "job_nat = read_workload(\"../workloads/job-results-implicit.csv\", \"native\", True)\n",
    "job_nat_nonlj = read_workload(\"../workloads/job-results-implicit-nonlj.csv\", \"native\", False)\n",
    "job_ues = read_workload(\"../workloads/job-ues-results-base.csv\", \"ues\", False)\n",
    "\n",
    "workload_results = pd.concat([job_nat, job_nat_nonlj, job_ues])\n",
    "workload_results.groupby([\"optimizer\", \"nlj\"]).exec_time.describe()\n"
   ],
   "metadata": {
    "collapsed": false
   }
  },
  {
   "cell_type": "code",
   "execution_count": 5,
   "outputs": [
    {
     "data": {
      "text/plain": "optimizer  nlj\nnative     off    848.043627\n           on     403.290958\nues        off    376.990205\nName: exec_time, dtype: float64"
     },
     "execution_count": 5,
     "metadata": {},
     "output_type": "execute_result"
    }
   ],
   "source": [
    "workload_results.groupby([\"optimizer\", \"nlj\"]).exec_time.sum()"
   ],
   "metadata": {
    "collapsed": false
   }
  },
  {
   "cell_type": "code",
   "execution_count": 6,
   "outputs": [
    {
     "data": {
      "text/plain": "<AxesSubplot:xlabel='label', ylabel='exec_time'>"
     },
     "execution_count": 6,
     "metadata": {},
     "output_type": "execute_result"
    },
    {
     "data": {
      "text/plain": "<Figure size 432x288 with 1 Axes>",
      "image/png": "[encoded data removed]"
     },
     "metadata": {
      "needs_background": "light"
     },
     "output_type": "display_data"
    }
   ],
   "source": [
    "sns.barplot(data=job_nat.reset_index(), x=\"label\", y=\"exec_time\")\n"
   ],
   "metadata": {
    "collapsed": false
   }
  },
  {
   "cell_type": "code",
   "execution_count": 7,
   "outputs": [
    {
     "data": {
      "text/plain": "<AxesSubplot:xlabel='label', ylabel='exec_time'>"
     },
     "execution_count": 7,
     "metadata": {},
     "output_type": "execute_result"
    },
    {
     "data": {
      "text/plain": "<Figure size 432x288 with 1 Axes>",
      "image/png": "[encoded data removed]"
     },
     "metadata": {
      "needs_background": "light"
     },
     "output_type": "display_data"
    }
   ],
   "source": [
    "sns.barplot(data=job_ues.reset_index(), x=\"label\", y=\"exec_time\")\n"
   ],
   "metadata": {
    "collapsed": false
   }
  },
  {
   "cell_type": "markdown",
   "source": [
    "## Best operator selection/subquery improvement\n"
   ],
   "metadata": {
    "collapsed": false
   }
  },
  {
   "cell_type": "code",
   "execution_count": 8,
   "outputs": [
    {
     "name": "stderr",
     "output_type": "stream",
     "text": [
      "/home/rico/Projekte/Uni/DiplomArbeit-QueryOpt/postbound/postgres/explain.py:502: UserWarning: Unknown node type: Hash\n",
      "  warnings.warn(\"Unknown node type: {}\".format(node_type))\n",
      "/home/rico/Projekte/Uni/DiplomArbeit-QueryOpt/postbound/postgres/explain.py:502: UserWarning: Unknown node type: Aggregate\n",
      "  warnings.warn(\"Unknown node type: {}\".format(node_type))\n",
      "/home/rico/Projekte/Uni/DiplomArbeit-QueryOpt/postbound/postgres/explain.py:502: UserWarning: Unknown node type: Gather\n",
      "  warnings.warn(\"Unknown node type: {}\".format(node_type))\n",
      "/home/rico/Projekte/Uni/DiplomArbeit-QueryOpt/postbound/postgres/explain.py:502: UserWarning: Unknown node type: Sort\n",
      "  warnings.warn(\"Unknown node type: {}\".format(node_type))\n",
      "/home/rico/Projekte/Uni/DiplomArbeit-QueryOpt/postbound/postgres/explain.py:502: UserWarning: Unknown node type: Gather Merge\n",
      "  warnings.warn(\"Unknown node type: {}\".format(node_type))\n",
      "/home/rico/Projekte/Uni/DiplomArbeit-QueryOpt/postbound/postgres/explain.py:502: UserWarning: Unknown node type: Materialize\n",
      "  warnings.warn(\"Unknown node type: {}\".format(node_type))\n"
     ]
    }
   ],
   "source": [
    "job_nat = read_workload(\"../workloads/job-results-implicit-nonlj.csv\", \"native\", False)\n",
    "job_nat[\"query\"] = job_nat[\"query\"].apply(mosp.MospQuery.parse)\n",
    "job_nat[\"query_result\"] = job_nat[\"query_result\"].apply(json.loads)\n",
    "job_nat[\"query_plan\"] = job_nat.apply(lambda res: explain.parse_explain_analyze(res.query, res.query_result, with_subqueries=False), axis=1)"
   ],
   "metadata": {
    "collapsed": false
   }
  },
  {
   "cell_type": "code",
   "execution_count": 9,
   "outputs": [
    {
     "name": "stderr",
     "output_type": "stream",
     "text": [
      "/home/rico/Projekte/Uni/DiplomArbeit-QueryOpt/postbound/postgres/explain.py:502: UserWarning: Unknown node type: Hash\n",
      "  warnings.warn(\"Unknown node type: {}\".format(node_type))\n",
      "/home/rico/Projekte/Uni/DiplomArbeit-QueryOpt/postbound/postgres/explain.py:502: UserWarning: Unknown node type: Aggregate\n",
      "  warnings.warn(\"Unknown node type: {}\".format(node_type))\n",
      "/home/rico/Projekte/Uni/DiplomArbeit-QueryOpt/postbound/postgres/explain.py:502: UserWarning: Unknown node type: Gather\n",
      "  warnings.warn(\"Unknown node type: {}\".format(node_type))\n",
      "/home/rico/Projekte/Uni/DiplomArbeit-QueryOpt/postbound/postgres/explain.py:502: UserWarning: Unknown node type: Sort\n",
      "  warnings.warn(\"Unknown node type: {}\".format(node_type))\n",
      "/home/rico/Projekte/Uni/DiplomArbeit-QueryOpt/postbound/postgres/explain.py:502: UserWarning: Unknown node type: Gather Merge\n",
      "  warnings.warn(\"Unknown node type: {}\".format(node_type))\n"
     ]
    }
   ],
   "source": [
    "job_ues = read_workload(\"../workloads/job-ues-results-idxnlj.csv\", \"ues\", False)\n",
    "job_ues[\"query\"] = job_ues[\"query\"].apply(mosp.MospQuery.parse)\n",
    "job_ues[\"n_subqueries\"] = job_ues[\"query\"].apply(lambda q: len(q.subqueries()))\n",
    "job_ues[\"query_result\"] = job_ues[\"query_result\"].apply(json.loads)\n",
    "job_ues[\"query_plan\"] = job_ues.apply(lambda res: explain.parse_explain_analyze(res.query, res.query_result, with_subqueries=True), axis=1)\n"
   ],
   "metadata": {
    "collapsed": false
   }
  },
  {
   "cell_type": "code",
   "execution_count": 10,
   "outputs": [],
   "source": [
    "workload_results = pd.merge(job_nat[[\"query\", \"exec_time\", \"query_plan\"]], job_ues[[\"exec_time\", \"query_plan\", \"n_subqueries\"]],\n",
    "                            left_index=True, right_index=True, suffixes=(\"_native\", \"_ues\"))\n",
    "workload_results[\"n_tables\"] = workload_results[\"query\"].apply(lambda q: len(q.collect_tables()))\n",
    "workload_results[\"ues_speedup\"] = workload_results[\"exec_time_native\"] - workload_results[\"exec_time_ues\"]\n",
    "hinted_queries = workload_results[workload_results.n_subqueries > 0]\n"
   ],
   "metadata": {
    "collapsed": false
   }
  },
  {
   "cell_type": "code",
   "execution_count": 11,
   "outputs": [
    {
     "data": {
      "text/plain": "       ues_speedup  n_tables\nlabel                       \n19d     246.876995        10\n8c      221.735417         7\n8d        3.001687         7\n7b        2.189913         8\n26a       1.868168        12",
      "text/html": "<div>\n<style scoped>\n    .dataframe tbody tr th:only-of-type {\n        vertical-align: middle;\n    }\n\n    .dataframe tbody tr th {\n        vertical-align: top;\n    }\n\n    .dataframe thead th {\n        text-align: right;\n    }\n</style>\n<table border=\"1\" class=\"dataframe\">\n  <thead>\n    <tr style=\"text-align: right;\">\n      <th></th>\n      <th>ues_speedup</th>\n      <th>n_tables</th>\n    </tr>\n    <tr>\n      <th>label</th>\n      <th></th>\n      <th></th>\n    </tr>\n  </thead>\n  <tbody>\n    <tr>\n      <th>19d</th>\n      <td>246.876995</td>\n      <td>10</td>\n    </tr>\n    <tr>\n      <th>8c</th>\n      <td>221.735417</td>\n      <td>7</td>\n    </tr>\n    <tr>\n      <th>8d</th>\n      <td>3.001687</td>\n      <td>7</td>\n    </tr>\n    <tr>\n      <th>7b</th>\n      <td>2.189913</td>\n      <td>8</td>\n    </tr>\n    <tr>\n      <th>26a</th>\n      <td>1.868168</td>\n      <td>12</td>\n    </tr>\n  </tbody>\n</table>\n</div>"
     },
     "execution_count": 11,
     "metadata": {},
     "output_type": "execute_result"
    }
   ],
   "source": [
    "hinted_queries.sort_values(by=\"ues_speedup\", ascending=False)[[\"ues_speedup\", \"n_tables\"]].head()\n"
   ],
   "metadata": {
    "collapsed": false
   }
  },
  {
   "cell_type": "code",
   "execution_count": 12,
   "outputs": [
    {
     "data": {
      "text/plain": "query                SELECT COUNT(*) FROM aka_name AS a1, cast_info...\nexec_time_native                                            228.443956\nquery_plan_native    Hash Join (n1.id = a1.person_id) <- [Seq Scan ...\nexec_time_ues                                                 6.708539\nquery_plan_ues       Hash Join (mc.company_id = cn.id) <- [Hash Joi...\nn_subqueries                                                         1\nn_tables                                                             7\nues_speedup                                                 221.735417\nName: 8c, dtype: object"
     },
     "execution_count": 12,
     "metadata": {},
     "output_type": "execute_result"
    }
   ],
   "source": [
    "example_query = hinted_queries.loc[\"8c\"]\n",
    "example_query\n"
   ],
   "metadata": {
    "collapsed": false
   }
  },
  {
   "cell_type": "code",
   "execution_count": 13,
   "outputs": [
    {
     "name": "stdout",
     "output_type": "stream",
     "text": [
      "Hash Join (n1.id = a1.person_id) (95.546s)\n",
      "  <- Seq Scan :: name (0.378s)\n",
      "  <- Hash Join (ci.person_id = a1.person_id) (7.174s)\n",
      "    <- Hash Join (mc.movie_id = ci.movie_id) (6.492s)\n",
      "      <- Hash Join (mc.company_id = cn.id) (0.400s)\n",
      "        <- Seq Scan :: movie_companies (0.121s)\n",
      "        <- Seq Scan :: company_name (0.017s)\n",
      "      <- Hash Join (t.id = ci.movie_id) (5.195s)\n",
      "        <- Seq Scan :: title (0.182s)\n",
      "        <- Hash Join (ci.role_id = rt.id) (3.393s)\n",
      "          <- Seq Scan :: cast_info (1.520s)\n",
      "          <- Seq Scan :: role_type (0.000s)\n",
      "    <- Seq Scan :: aka_name (0.057s)\n",
      "\n"
     ]
    }
   ],
   "source": [
    "example_query.query_plan_native.pretty_print(include_exec_time=True)\n"
   ],
   "metadata": {
    "collapsed": false
   }
  },
  {
   "cell_type": "code",
   "execution_count": 14,
   "outputs": [
    {
     "name": "stdout",
     "output_type": "stream",
     "text": [
      "Hash Join (mc.company_id = cn.id) (6.491s)\n",
      "  <- Hash Join (mc.movie_id = ci.movie_id) (6.064s)\n",
      "    <- Seq Scan :: movie_companies (0.167s)\n",
      "    <- Hash Join (ci.person_id = a1.person_id) (4.905s)\n",
      "      <- Hash Join (t.id = ci.movie_id) (3.210s)\n",
      "        <- Seq Scan :: title (0.174s)\n",
      "        <- Nested Loop (ci.role_id = rt.id) (1.262s)\n",
      "          <- Seq Scan :: role_type (0.000s)\n",
      "          <- Index Scan :: cast_info (0.825s)\n",
      "      <- Hash Join (a1.person_id = n1.id) (0.865s)\n",
      "        <- Seq Scan :: aka_name (0.046s)\n",
      "        <- Seq Scan :: name (0.223s)\n",
      "  <- Seq Scan :: company_name (0.015s)\n",
      "\n"
     ]
    }
   ],
   "source": [
    "example_query.query_plan_ues.pretty_print(include_exec_time=True)\n"
   ],
   "metadata": {
    "collapsed": false
   }
  }
 ],
 "metadata": {
  "kernelspec": {
   "display_name": "Python 3",
   "language": "python",
   "name": "python3"
  },
  "language_info": {
   "codemirror_mode": {
    "name": "ipython",
    "version": 2
   },
   "file_extension": ".py",
   "mimetype": "text/x-python",
   "name": "python",
   "nbconvert_exporter": "python",
   "pygments_lexer": "ipython2",
   "version": "2.7.6"
  }
 },
 "nbformat": 4,
 "nbformat_minor": 0
}
